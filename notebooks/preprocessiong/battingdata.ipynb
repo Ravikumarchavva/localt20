{
 "cells": [
  {
   "cell_type": "code",
   "execution_count": 36,
   "metadata": {},
   "outputs": [
    {
     "data": {
      "text/html": [
       "<div><style>\n",
       ".dataframe > thead > tr,\n",
       ".dataframe > tbody > tr {\n",
       "  text-align: right;\n",
       "  white-space: pre-wrap;\n",
       "}\n",
       "</style>\n",
       "<small>shape: (4_100, 16)</small><table border=\"1\" class=\"dataframe\"><thead><tr><th>Player</th><th>Span</th><th>Mat</th><th>Inns</th><th>NO</th><th>Runs</th><th>HS</th><th>Ave</th><th>BF</th><th>SR</th><th>100</th><th>50</th><th>0</th><th>4s</th><th>6s</th><th>Unnamed: 15</th></tr><tr><td>str</td><td>str</td><td>i64</td><td>str</td><td>str</td><td>str</td><td>str</td><td>str</td><td>str</td><td>str</td><td>str</td><td>str</td><td>str</td><td>str</td><td>str</td><td>str</td></tr></thead><tbody><tr><td>&quot;A Sawyer (GIBR)&quot;</td><td>&quot;2023-2024&quot;</td><td>3</td><td>&quot;-&quot;</td><td>&quot;-&quot;</td><td>&quot;-&quot;</td><td>&quot;-&quot;</td><td>&quot;-&quot;</td><td>&quot;-&quot;</td><td>&quot;-&quot;</td><td>&quot;-&quot;</td><td>&quot;-&quot;</td><td>&quot;-&quot;</td><td>&quot;-&quot;</td><td>&quot;-&quot;</td><td>null</td></tr><tr><td>&quot;JD Schoonheim (NED)&quot;</td><td>&quot;2008-2008&quot;</td><td>1</td><td>&quot;-&quot;</td><td>&quot;-&quot;</td><td>&quot;-&quot;</td><td>&quot;-&quot;</td><td>&quot;-&quot;</td><td>&quot;-&quot;</td><td>&quot;-&quot;</td><td>&quot;-&quot;</td><td>&quot;-&quot;</td><td>&quot;-&quot;</td><td>&quot;-&quot;</td><td>&quot;-&quot;</td><td>null</td></tr><tr><td>&quot;M Sedgwick (EST)&quot;</td><td>&quot;2021-2021&quot;</td><td>3</td><td>&quot;-&quot;</td><td>&quot;-&quot;</td><td>&quot;-&quot;</td><td>&quot;-&quot;</td><td>&quot;-&quot;</td><td>&quot;-&quot;</td><td>&quot;-&quot;</td><td>&quot;-&quot;</td><td>&quot;-&quot;</td><td>&quot;-&quot;</td><td>&quot;-&quot;</td><td>&quot;-&quot;</td><td>null</td></tr><tr><td>&quot;Shabbir Ahmed (PAK)&quot;</td><td>&quot;2007-2007&quot;</td><td>1</td><td>&quot;-&quot;</td><td>&quot;-&quot;</td><td>&quot;-&quot;</td><td>&quot;-&quot;</td><td>&quot;-&quot;</td><td>&quot;-&quot;</td><td>&quot;-&quot;</td><td>&quot;-&quot;</td><td>&quot;-&quot;</td><td>&quot;-&quot;</td><td>&quot;-&quot;</td><td>&quot;-&quot;</td><td>null</td></tr><tr><td>&quot;Shaffeq Muhammad (GRC)&quot;</td><td>&quot;2019-2019&quot;</td><td>2</td><td>&quot;-&quot;</td><td>&quot;-&quot;</td><td>&quot;-&quot;</td><td>&quot;-&quot;</td><td>&quot;-&quot;</td><td>&quot;-&quot;</td><td>&quot;-&quot;</td><td>&quot;-&quot;</td><td>&quot;-&quot;</td><td>&quot;-&quot;</td><td>&quot;-&quot;</td><td>&quot;-&quot;</td><td>null</td></tr><tr><td>&hellip;</td><td>&hellip;</td><td>&hellip;</td><td>&hellip;</td><td>&hellip;</td><td>&hellip;</td><td>&hellip;</td><td>&hellip;</td><td>&hellip;</td><td>&hellip;</td><td>&hellip;</td><td>&hellip;</td><td>&hellip;</td><td>&hellip;</td><td>&hellip;</td><td>&hellip;</td></tr><tr><td>&quot;GD Phillips (NZ)&quot;</td><td>&quot;2017-2024&quot;</td><td>78</td><td>&quot;69&quot;</td><td>&quot;12&quot;</td><td>&quot;1875&quot;</td><td>&quot;108&quot;</td><td>&quot;32.89&quot;</td><td>&quot;1319&quot;</td><td>&quot;142.15&quot;</td><td>&quot;2&quot;</td><td>&quot;10&quot;</td><td>&quot;3&quot;</td><td>&quot;135&quot;</td><td>&quot;90&quot;</td><td>null</td></tr><tr><td>&quot;R Sandaruwan (KUW)&quot;</td><td>&quot;2019-2024&quot;</td><td>65</td><td>&quot;65&quot;</td><td>&quot;3&quot;</td><td>&quot;1854&quot;</td><td>&quot;103&quot;</td><td>&quot;29.9&quot;</td><td>&quot;1243&quot;</td><td>&quot;149.15&quot;</td><td>&quot;2&quot;</td><td>&quot;11&quot;</td><td>&quot;7&quot;</td><td>&quot;156&quot;</td><td>&quot;110&quot;</td><td>null</td></tr><tr><td>&quot;Fakhar Zaman (PAK)&quot;</td><td>&quot;2017-2024&quot;</td><td>92</td><td>&quot;84&quot;</td><td>&quot;3&quot;</td><td>&quot;1848&quot;</td><td>&quot;91&quot;</td><td>&quot;22.81&quot;</td><td>&quot;1390&quot;</td><td>&quot;132.94&quot;</td><td>&quot;0&quot;</td><td>&quot;11&quot;</td><td>&quot;6&quot;</td><td>&quot;172&quot;</td><td>&quot;76&quot;</td><td>null</td></tr><tr><td>&quot;BKG Mendis (SL)&quot;</td><td>&quot;2016-2024&quot;</td><td>73</td><td>&quot;73&quot;</td><td>&quot;3&quot;</td><td>&quot;1840&quot;</td><td>&quot;86&quot;</td><td>&quot;26.28&quot;</td><td>&quot;1382&quot;</td><td>&quot;133.14&quot;</td><td>&quot;0&quot;</td><td>&quot;15&quot;</td><td>&quot;5&quot;</td><td>&quot;156&quot;</td><td>&quot;80&quot;</td><td>null</td></tr><tr><td>&quot;Najibullah Zadran (AFG)&quot;</td><td>&quot;2012-2024&quot;</td><td>107</td><td>&quot;95&quot;</td><td>&quot;33&quot;</td><td>&quot;1830&quot;</td><td>&quot;73&quot;</td><td>&quot;29.51&quot;</td><td>&quot;1328&quot;</td><td>&quot;137.8&quot;</td><td>&quot;0&quot;</td><td>&quot;8&quot;</td><td>&quot;6&quot;</td><td>&quot;126&quot;</td><td>&quot;97&quot;</td><td>null</td></tr></tbody></table></div>"
      ],
      "text/plain": [
       "shape: (4_100, 16)\n",
       "┌─────────────────────────┬───────────┬─────┬──────┬───┬─────┬─────┬─────┬─────────────┐\n",
       "│ Player                  ┆ Span      ┆ Mat ┆ Inns ┆ … ┆ 0   ┆ 4s  ┆ 6s  ┆ Unnamed: 15 │\n",
       "│ ---                     ┆ ---       ┆ --- ┆ ---  ┆   ┆ --- ┆ --- ┆ --- ┆ ---         │\n",
       "│ str                     ┆ str       ┆ i64 ┆ str  ┆   ┆ str ┆ str ┆ str ┆ str         │\n",
       "╞═════════════════════════╪═══════════╪═════╪══════╪═══╪═════╪═════╪═════╪═════════════╡\n",
       "│ A Sawyer (GIBR)         ┆ 2023-2024 ┆ 3   ┆ -    ┆ … ┆ -   ┆ -   ┆ -   ┆ null        │\n",
       "│ JD Schoonheim (NED)     ┆ 2008-2008 ┆ 1   ┆ -    ┆ … ┆ -   ┆ -   ┆ -   ┆ null        │\n",
       "│ M Sedgwick (EST)        ┆ 2021-2021 ┆ 3   ┆ -    ┆ … ┆ -   ┆ -   ┆ -   ┆ null        │\n",
       "│ Shabbir Ahmed (PAK)     ┆ 2007-2007 ┆ 1   ┆ -    ┆ … ┆ -   ┆ -   ┆ -   ┆ null        │\n",
       "│ Shaffeq Muhammad (GRC)  ┆ 2019-2019 ┆ 2   ┆ -    ┆ … ┆ -   ┆ -   ┆ -   ┆ null        │\n",
       "│ …                       ┆ …         ┆ …   ┆ …    ┆ … ┆ …   ┆ …   ┆ …   ┆ …           │\n",
       "│ GD Phillips (NZ)        ┆ 2017-2024 ┆ 78  ┆ 69   ┆ … ┆ 3   ┆ 135 ┆ 90  ┆ null        │\n",
       "│ R Sandaruwan (KUW)      ┆ 2019-2024 ┆ 65  ┆ 65   ┆ … ┆ 7   ┆ 156 ┆ 110 ┆ null        │\n",
       "│ Fakhar Zaman (PAK)      ┆ 2017-2024 ┆ 92  ┆ 84   ┆ … ┆ 6   ┆ 172 ┆ 76  ┆ null        │\n",
       "│ BKG Mendis (SL)         ┆ 2016-2024 ┆ 73  ┆ 73   ┆ … ┆ 5   ┆ 156 ┆ 80  ┆ null        │\n",
       "│ Najibullah Zadran (AFG) ┆ 2012-2024 ┆ 107 ┆ 95   ┆ … ┆ 6   ┆ 126 ┆ 97  ┆ null        │\n",
       "└─────────────────────────┴───────────┴─────┴──────┴───┴─────┴─────┴─────┴─────────────┘"
      ]
     },
     "execution_count": 36,
     "metadata": {},
     "output_type": "execute_result"
    }
   ],
   "source": [
    "import os\n",
    "import glob\n",
    "import polars as pl\n",
    "\n",
    "# Specify the directory where your CSV files are located\n",
    "directory = r'D:\\github\\localt20\\data'\n",
    "\n",
    "batting_data = pl.read_csv(os.path.join(directory, 't20_batting_stats.csv'))\n",
    "batting_data"
   ]
  },
  {
   "cell_type": "code",
   "execution_count": 37,
   "metadata": {},
   "outputs": [
    {
     "data": {
      "text/html": [
       "<div><style>\n",
       ".dataframe > thead > tr,\n",
       ".dataframe > tbody > tr {\n",
       "  text-align: right;\n",
       "  white-space: pre-wrap;\n",
       "}\n",
       "</style>\n",
       "<small>shape: (4_100, 14)</small><table border=\"1\" class=\"dataframe\"><thead><tr><th>Player</th><th>Mat</th><th>Inns</th><th>NO</th><th>Runs</th><th>HS</th><th>Ave</th><th>BF</th><th>SR</th><th>100</th><th>50</th><th>0</th><th>4s</th><th>6s</th></tr><tr><td>str</td><td>i64</td><td>str</td><td>str</td><td>str</td><td>str</td><td>str</td><td>str</td><td>str</td><td>str</td><td>str</td><td>str</td><td>str</td><td>str</td></tr></thead><tbody><tr><td>&quot;A Sawyer (GIBR)&quot;</td><td>3</td><td>&quot;-&quot;</td><td>&quot;-&quot;</td><td>&quot;-&quot;</td><td>&quot;-&quot;</td><td>&quot;-&quot;</td><td>&quot;-&quot;</td><td>&quot;-&quot;</td><td>&quot;-&quot;</td><td>&quot;-&quot;</td><td>&quot;-&quot;</td><td>&quot;-&quot;</td><td>&quot;-&quot;</td></tr><tr><td>&quot;JD Schoonheim (NED)&quot;</td><td>1</td><td>&quot;-&quot;</td><td>&quot;-&quot;</td><td>&quot;-&quot;</td><td>&quot;-&quot;</td><td>&quot;-&quot;</td><td>&quot;-&quot;</td><td>&quot;-&quot;</td><td>&quot;-&quot;</td><td>&quot;-&quot;</td><td>&quot;-&quot;</td><td>&quot;-&quot;</td><td>&quot;-&quot;</td></tr><tr><td>&quot;M Sedgwick (EST)&quot;</td><td>3</td><td>&quot;-&quot;</td><td>&quot;-&quot;</td><td>&quot;-&quot;</td><td>&quot;-&quot;</td><td>&quot;-&quot;</td><td>&quot;-&quot;</td><td>&quot;-&quot;</td><td>&quot;-&quot;</td><td>&quot;-&quot;</td><td>&quot;-&quot;</td><td>&quot;-&quot;</td><td>&quot;-&quot;</td></tr><tr><td>&quot;Shabbir Ahmed (PAK)&quot;</td><td>1</td><td>&quot;-&quot;</td><td>&quot;-&quot;</td><td>&quot;-&quot;</td><td>&quot;-&quot;</td><td>&quot;-&quot;</td><td>&quot;-&quot;</td><td>&quot;-&quot;</td><td>&quot;-&quot;</td><td>&quot;-&quot;</td><td>&quot;-&quot;</td><td>&quot;-&quot;</td><td>&quot;-&quot;</td></tr><tr><td>&quot;Shaffeq Muhammad (GRC)&quot;</td><td>2</td><td>&quot;-&quot;</td><td>&quot;-&quot;</td><td>&quot;-&quot;</td><td>&quot;-&quot;</td><td>&quot;-&quot;</td><td>&quot;-&quot;</td><td>&quot;-&quot;</td><td>&quot;-&quot;</td><td>&quot;-&quot;</td><td>&quot;-&quot;</td><td>&quot;-&quot;</td><td>&quot;-&quot;</td></tr><tr><td>&hellip;</td><td>&hellip;</td><td>&hellip;</td><td>&hellip;</td><td>&hellip;</td><td>&hellip;</td><td>&hellip;</td><td>&hellip;</td><td>&hellip;</td><td>&hellip;</td><td>&hellip;</td><td>&hellip;</td><td>&hellip;</td><td>&hellip;</td></tr><tr><td>&quot;GD Phillips (NZ)&quot;</td><td>78</td><td>&quot;69&quot;</td><td>&quot;12&quot;</td><td>&quot;1875&quot;</td><td>&quot;108&quot;</td><td>&quot;32.89&quot;</td><td>&quot;1319&quot;</td><td>&quot;142.15&quot;</td><td>&quot;2&quot;</td><td>&quot;10&quot;</td><td>&quot;3&quot;</td><td>&quot;135&quot;</td><td>&quot;90&quot;</td></tr><tr><td>&quot;R Sandaruwan (KUW)&quot;</td><td>65</td><td>&quot;65&quot;</td><td>&quot;3&quot;</td><td>&quot;1854&quot;</td><td>&quot;103&quot;</td><td>&quot;29.9&quot;</td><td>&quot;1243&quot;</td><td>&quot;149.15&quot;</td><td>&quot;2&quot;</td><td>&quot;11&quot;</td><td>&quot;7&quot;</td><td>&quot;156&quot;</td><td>&quot;110&quot;</td></tr><tr><td>&quot;Fakhar Zaman (PAK)&quot;</td><td>92</td><td>&quot;84&quot;</td><td>&quot;3&quot;</td><td>&quot;1848&quot;</td><td>&quot;91&quot;</td><td>&quot;22.81&quot;</td><td>&quot;1390&quot;</td><td>&quot;132.94&quot;</td><td>&quot;0&quot;</td><td>&quot;11&quot;</td><td>&quot;6&quot;</td><td>&quot;172&quot;</td><td>&quot;76&quot;</td></tr><tr><td>&quot;BKG Mendis (SL)&quot;</td><td>73</td><td>&quot;73&quot;</td><td>&quot;3&quot;</td><td>&quot;1840&quot;</td><td>&quot;86&quot;</td><td>&quot;26.28&quot;</td><td>&quot;1382&quot;</td><td>&quot;133.14&quot;</td><td>&quot;0&quot;</td><td>&quot;15&quot;</td><td>&quot;5&quot;</td><td>&quot;156&quot;</td><td>&quot;80&quot;</td></tr><tr><td>&quot;Najibullah Zadran (AFG)&quot;</td><td>107</td><td>&quot;95&quot;</td><td>&quot;33&quot;</td><td>&quot;1830&quot;</td><td>&quot;73&quot;</td><td>&quot;29.51&quot;</td><td>&quot;1328&quot;</td><td>&quot;137.8&quot;</td><td>&quot;0&quot;</td><td>&quot;8&quot;</td><td>&quot;6&quot;</td><td>&quot;126&quot;</td><td>&quot;97&quot;</td></tr></tbody></table></div>"
      ],
      "text/plain": [
       "shape: (4_100, 14)\n",
       "┌─────────────────────────┬─────┬──────┬─────┬───┬─────┬─────┬─────┬─────┐\n",
       "│ Player                  ┆ Mat ┆ Inns ┆ NO  ┆ … ┆ 50  ┆ 0   ┆ 4s  ┆ 6s  │\n",
       "│ ---                     ┆ --- ┆ ---  ┆ --- ┆   ┆ --- ┆ --- ┆ --- ┆ --- │\n",
       "│ str                     ┆ i64 ┆ str  ┆ str ┆   ┆ str ┆ str ┆ str ┆ str │\n",
       "╞═════════════════════════╪═════╪══════╪═════╪═══╪═════╪═════╪═════╪═════╡\n",
       "│ A Sawyer (GIBR)         ┆ 3   ┆ -    ┆ -   ┆ … ┆ -   ┆ -   ┆ -   ┆ -   │\n",
       "│ JD Schoonheim (NED)     ┆ 1   ┆ -    ┆ -   ┆ … ┆ -   ┆ -   ┆ -   ┆ -   │\n",
       "│ M Sedgwick (EST)        ┆ 3   ┆ -    ┆ -   ┆ … ┆ -   ┆ -   ┆ -   ┆ -   │\n",
       "│ Shabbir Ahmed (PAK)     ┆ 1   ┆ -    ┆ -   ┆ … ┆ -   ┆ -   ┆ -   ┆ -   │\n",
       "│ Shaffeq Muhammad (GRC)  ┆ 2   ┆ -    ┆ -   ┆ … ┆ -   ┆ -   ┆ -   ┆ -   │\n",
       "│ …                       ┆ …   ┆ …    ┆ …   ┆ … ┆ …   ┆ …   ┆ …   ┆ …   │\n",
       "│ GD Phillips (NZ)        ┆ 78  ┆ 69   ┆ 12  ┆ … ┆ 10  ┆ 3   ┆ 135 ┆ 90  │\n",
       "│ R Sandaruwan (KUW)      ┆ 65  ┆ 65   ┆ 3   ┆ … ┆ 11  ┆ 7   ┆ 156 ┆ 110 │\n",
       "│ Fakhar Zaman (PAK)      ┆ 92  ┆ 84   ┆ 3   ┆ … ┆ 11  ┆ 6   ┆ 172 ┆ 76  │\n",
       "│ BKG Mendis (SL)         ┆ 73  ┆ 73   ┆ 3   ┆ … ┆ 15  ┆ 5   ┆ 156 ┆ 80  │\n",
       "│ Najibullah Zadran (AFG) ┆ 107 ┆ 95   ┆ 33  ┆ … ┆ 8   ┆ 6   ┆ 126 ┆ 97  │\n",
       "└─────────────────────────┴─────┴──────┴─────┴───┴─────┴─────┴─────┴─────┘"
      ]
     },
     "execution_count": 37,
     "metadata": {},
     "output_type": "execute_result"
    }
   ],
   "source": [
    "\n",
    "batting_data = batting_data.drop('Span','Unnamed: 15')\n",
    "batting_data"
   ]
  },
  {
   "cell_type": "code",
   "execution_count": 38,
   "metadata": {},
   "outputs": [
    {
     "data": {
      "text/html": [
       "<div><style>\n",
       ".dataframe > thead > tr,\n",
       ".dataframe > tbody > tr {\n",
       "  text-align: right;\n",
       "  white-space: pre-wrap;\n",
       "}\n",
       "</style>\n",
       "<small>shape: (4_100, 14)</small><table border=\"1\" class=\"dataframe\"><thead><tr><th>Player</th><th>Mat</th><th>Inns</th><th>NO</th><th>Runs</th><th>HS</th><th>Ave</th><th>BF</th><th>SR</th><th>100</th><th>50</th><th>0</th><th>4s</th><th>6s</th></tr><tr><td>str</td><td>i64</td><td>str</td><td>str</td><td>str</td><td>str</td><td>str</td><td>str</td><td>str</td><td>str</td><td>str</td><td>str</td><td>str</td><td>str</td></tr></thead><tbody><tr><td>&quot;A Sawyer&quot;</td><td>3</td><td>&quot;-&quot;</td><td>&quot;-&quot;</td><td>&quot;-&quot;</td><td>&quot;-&quot;</td><td>&quot;-&quot;</td><td>&quot;-&quot;</td><td>&quot;-&quot;</td><td>&quot;-&quot;</td><td>&quot;-&quot;</td><td>&quot;-&quot;</td><td>&quot;-&quot;</td><td>&quot;-&quot;</td></tr><tr><td>&quot;JD Schoonheim&quot;</td><td>1</td><td>&quot;-&quot;</td><td>&quot;-&quot;</td><td>&quot;-&quot;</td><td>&quot;-&quot;</td><td>&quot;-&quot;</td><td>&quot;-&quot;</td><td>&quot;-&quot;</td><td>&quot;-&quot;</td><td>&quot;-&quot;</td><td>&quot;-&quot;</td><td>&quot;-&quot;</td><td>&quot;-&quot;</td></tr><tr><td>&quot;M Sedgwick&quot;</td><td>3</td><td>&quot;-&quot;</td><td>&quot;-&quot;</td><td>&quot;-&quot;</td><td>&quot;-&quot;</td><td>&quot;-&quot;</td><td>&quot;-&quot;</td><td>&quot;-&quot;</td><td>&quot;-&quot;</td><td>&quot;-&quot;</td><td>&quot;-&quot;</td><td>&quot;-&quot;</td><td>&quot;-&quot;</td></tr><tr><td>&quot;Shabbir Ahmed&quot;</td><td>1</td><td>&quot;-&quot;</td><td>&quot;-&quot;</td><td>&quot;-&quot;</td><td>&quot;-&quot;</td><td>&quot;-&quot;</td><td>&quot;-&quot;</td><td>&quot;-&quot;</td><td>&quot;-&quot;</td><td>&quot;-&quot;</td><td>&quot;-&quot;</td><td>&quot;-&quot;</td><td>&quot;-&quot;</td></tr><tr><td>&quot;Shaffeq Muhammad&quot;</td><td>2</td><td>&quot;-&quot;</td><td>&quot;-&quot;</td><td>&quot;-&quot;</td><td>&quot;-&quot;</td><td>&quot;-&quot;</td><td>&quot;-&quot;</td><td>&quot;-&quot;</td><td>&quot;-&quot;</td><td>&quot;-&quot;</td><td>&quot;-&quot;</td><td>&quot;-&quot;</td><td>&quot;-&quot;</td></tr><tr><td>&hellip;</td><td>&hellip;</td><td>&hellip;</td><td>&hellip;</td><td>&hellip;</td><td>&hellip;</td><td>&hellip;</td><td>&hellip;</td><td>&hellip;</td><td>&hellip;</td><td>&hellip;</td><td>&hellip;</td><td>&hellip;</td><td>&hellip;</td></tr><tr><td>&quot;GD Phillips&quot;</td><td>78</td><td>&quot;69&quot;</td><td>&quot;12&quot;</td><td>&quot;1875&quot;</td><td>&quot;108&quot;</td><td>&quot;32.89&quot;</td><td>&quot;1319&quot;</td><td>&quot;142.15&quot;</td><td>&quot;2&quot;</td><td>&quot;10&quot;</td><td>&quot;3&quot;</td><td>&quot;135&quot;</td><td>&quot;90&quot;</td></tr><tr><td>&quot;R Sandaruwan&quot;</td><td>65</td><td>&quot;65&quot;</td><td>&quot;3&quot;</td><td>&quot;1854&quot;</td><td>&quot;103&quot;</td><td>&quot;29.9&quot;</td><td>&quot;1243&quot;</td><td>&quot;149.15&quot;</td><td>&quot;2&quot;</td><td>&quot;11&quot;</td><td>&quot;7&quot;</td><td>&quot;156&quot;</td><td>&quot;110&quot;</td></tr><tr><td>&quot;Fakhar Zaman&quot;</td><td>92</td><td>&quot;84&quot;</td><td>&quot;3&quot;</td><td>&quot;1848&quot;</td><td>&quot;91&quot;</td><td>&quot;22.81&quot;</td><td>&quot;1390&quot;</td><td>&quot;132.94&quot;</td><td>&quot;0&quot;</td><td>&quot;11&quot;</td><td>&quot;6&quot;</td><td>&quot;172&quot;</td><td>&quot;76&quot;</td></tr><tr><td>&quot;BKG Mendis&quot;</td><td>73</td><td>&quot;73&quot;</td><td>&quot;3&quot;</td><td>&quot;1840&quot;</td><td>&quot;86&quot;</td><td>&quot;26.28&quot;</td><td>&quot;1382&quot;</td><td>&quot;133.14&quot;</td><td>&quot;0&quot;</td><td>&quot;15&quot;</td><td>&quot;5&quot;</td><td>&quot;156&quot;</td><td>&quot;80&quot;</td></tr><tr><td>&quot;Najibullah Zadran&quot;</td><td>107</td><td>&quot;95&quot;</td><td>&quot;33&quot;</td><td>&quot;1830&quot;</td><td>&quot;73&quot;</td><td>&quot;29.51&quot;</td><td>&quot;1328&quot;</td><td>&quot;137.8&quot;</td><td>&quot;0&quot;</td><td>&quot;8&quot;</td><td>&quot;6&quot;</td><td>&quot;126&quot;</td><td>&quot;97&quot;</td></tr></tbody></table></div>"
      ],
      "text/plain": [
       "shape: (4_100, 14)\n",
       "┌───────────────────┬─────┬──────┬─────┬───┬─────┬─────┬─────┬─────┐\n",
       "│ Player            ┆ Mat ┆ Inns ┆ NO  ┆ … ┆ 50  ┆ 0   ┆ 4s  ┆ 6s  │\n",
       "│ ---               ┆ --- ┆ ---  ┆ --- ┆   ┆ --- ┆ --- ┆ --- ┆ --- │\n",
       "│ str               ┆ i64 ┆ str  ┆ str ┆   ┆ str ┆ str ┆ str ┆ str │\n",
       "╞═══════════════════╪═════╪══════╪═════╪═══╪═════╪═════╪═════╪═════╡\n",
       "│ A Sawyer          ┆ 3   ┆ -    ┆ -   ┆ … ┆ -   ┆ -   ┆ -   ┆ -   │\n",
       "│ JD Schoonheim     ┆ 1   ┆ -    ┆ -   ┆ … ┆ -   ┆ -   ┆ -   ┆ -   │\n",
       "│ M Sedgwick        ┆ 3   ┆ -    ┆ -   ┆ … ┆ -   ┆ -   ┆ -   ┆ -   │\n",
       "│ Shabbir Ahmed     ┆ 1   ┆ -    ┆ -   ┆ … ┆ -   ┆ -   ┆ -   ┆ -   │\n",
       "│ Shaffeq Muhammad  ┆ 2   ┆ -    ┆ -   ┆ … ┆ -   ┆ -   ┆ -   ┆ -   │\n",
       "│ …                 ┆ …   ┆ …    ┆ …   ┆ … ┆ …   ┆ …   ┆ …   ┆ …   │\n",
       "│ GD Phillips       ┆ 78  ┆ 69   ┆ 12  ┆ … ┆ 10  ┆ 3   ┆ 135 ┆ 90  │\n",
       "│ R Sandaruwan      ┆ 65  ┆ 65   ┆ 3   ┆ … ┆ 11  ┆ 7   ┆ 156 ┆ 110 │\n",
       "│ Fakhar Zaman      ┆ 92  ┆ 84   ┆ 3   ┆ … ┆ 11  ┆ 6   ┆ 172 ┆ 76  │\n",
       "│ BKG Mendis        ┆ 73  ┆ 73   ┆ 3   ┆ … ┆ 15  ┆ 5   ┆ 156 ┆ 80  │\n",
       "│ Najibullah Zadran ┆ 107 ┆ 95   ┆ 33  ┆ … ┆ 8   ┆ 6   ┆ 126 ┆ 97  │\n",
       "└───────────────────┴─────┴──────┴─────┴───┴─────┴─────┴─────┴─────┘"
      ]
     },
     "execution_count": 38,
     "metadata": {},
     "output_type": "execute_result"
    }
   ],
   "source": [
    "batting_data = batting_data.with_columns(batting_data['Player'].str.split_exact(' (', n=1).struct.rename_fields(['Player', 'Country']).alias('Player').to_frame().unnest('Player').drop(\"Country\"))\n",
    "batting_data"
   ]
  },
  {
   "cell_type": "code",
   "execution_count": 39,
   "metadata": {},
   "outputs": [
    {
     "data": {
      "text/html": [
       "<div><style>\n",
       ".dataframe > thead > tr,\n",
       ".dataframe > tbody > tr {\n",
       "  text-align: right;\n",
       "  white-space: pre-wrap;\n",
       "}\n",
       "</style>\n",
       "<small>shape: (5_722, 3)</small><table border=\"1\" class=\"dataframe\"><thead><tr><th>Player</th><th>country</th><th>player_id</th></tr><tr><td>str</td><td>str</td><td>str</td></tr></thead><tbody><tr><td>&quot;E Frimpong&quot;</td><td>&quot;Ghana&quot;</td><td>&quot;3c13fc3b&quot;</td></tr><tr><td>&quot;L Rika&quot;</td><td>&quot;Fiji&quot;</td><td>&quot;fe12944e&quot;</td></tr><tr><td>&quot;B George&quot;</td><td>&quot;Malta&quot;</td><td>&quot;1bdbf53b&quot;</td></tr><tr><td>&quot;WB Rankin&quot;</td><td>&quot;Ireland&quot;</td><td>&quot;29b89ae8&quot;</td></tr><tr><td>&quot;V Phiri&quot;</td><td>&quot;Malawi&quot;</td><td>&quot;8ffa1b3c&quot;</td></tr><tr><td>&hellip;</td><td>&hellip;</td><td>&hellip;</td></tr><tr><td>&quot;B Frank&quot;</td><td>&quot;Nigeria&quot;</td><td>&quot;040206a2&quot;</td></tr><tr><td>&quot;XM Marshall&quot;</td><td>&quot;West Indies&quot;</td><td>&quot;ffb504b1&quot;</td></tr><tr><td>&quot;T Vanuarua&quot;</td><td>&quot;Cook Islands&quot;</td><td>&quot;1f8b4fec&quot;</td></tr><tr><td>&quot;Nary Thapa&quot;</td><td>&quot;Nepal&quot;</td><td>&quot;d24e69f5&quot;</td></tr><tr><td>&quot;P Maya&quot;</td><td>&quot;Thailand&quot;</td><td>&quot;72eada4c&quot;</td></tr></tbody></table></div>"
      ],
      "text/plain": [
       "shape: (5_722, 3)\n",
       "┌─────────────┬──────────────┬───────────┐\n",
       "│ Player      ┆ country      ┆ player_id │\n",
       "│ ---         ┆ ---          ┆ ---       │\n",
       "│ str         ┆ str          ┆ str       │\n",
       "╞═════════════╪══════════════╪═══════════╡\n",
       "│ E Frimpong  ┆ Ghana        ┆ 3c13fc3b  │\n",
       "│ L Rika      ┆ Fiji         ┆ fe12944e  │\n",
       "│ B George    ┆ Malta        ┆ 1bdbf53b  │\n",
       "│ WB Rankin   ┆ Ireland      ┆ 29b89ae8  │\n",
       "│ V Phiri     ┆ Malawi       ┆ 8ffa1b3c  │\n",
       "│ …           ┆ …            ┆ …         │\n",
       "│ B Frank     ┆ Nigeria      ┆ 040206a2  │\n",
       "│ XM Marshall ┆ West Indies  ┆ ffb504b1  │\n",
       "│ T Vanuarua  ┆ Cook Islands ┆ 1f8b4fec  │\n",
       "│ Nary Thapa  ┆ Nepal        ┆ d24e69f5  │\n",
       "│ P Maya      ┆ Thailand     ┆ 72eada4c  │\n",
       "└─────────────┴──────────────┴───────────┘"
      ]
     },
     "execution_count": 39,
     "metadata": {},
     "output_type": "execute_result"
    }
   ],
   "source": [
    "players_data = pl.read_csv(r'D:\\github\\localt20\\processedData\\Players.csv').rename({\"player\": \"Player\"})\n",
    "players_data"
   ]
  },
  {
   "cell_type": "code",
   "execution_count": 40,
   "metadata": {},
   "outputs": [
    {
     "data": {
      "text/html": [
       "<div><style>\n",
       ".dataframe > thead > tr,\n",
       ".dataframe > tbody > tr {\n",
       "  text-align: right;\n",
       "  white-space: pre-wrap;\n",
       "}\n",
       "</style>\n",
       "<small>shape: (3_624, 16)</small><table border=\"1\" class=\"dataframe\"><thead><tr><th>Player</th><th>Mat</th><th>Inns</th><th>NO</th><th>Runs</th><th>HS</th><th>Ave</th><th>BF</th><th>SR</th><th>100</th><th>50</th><th>0</th><th>4s</th><th>6s</th><th>country</th><th>player_id</th></tr><tr><td>str</td><td>i64</td><td>str</td><td>str</td><td>str</td><td>str</td><td>str</td><td>str</td><td>str</td><td>str</td><td>str</td><td>str</td><td>str</td><td>str</td><td>str</td><td>str</td></tr></thead><tbody><tr><td>&quot;E Frimpong&quot;</td><td>4</td><td>&quot;2&quot;</td><td>&quot;1&quot;</td><td>&quot;6&quot;</td><td>&quot;6*&quot;</td><td>&quot;6.00&quot;</td><td>&quot;4&quot;</td><td>&quot;150.0&quot;</td><td>&quot;0&quot;</td><td>&quot;0&quot;</td><td>&quot;1&quot;</td><td>&quot;1&quot;</td><td>&quot;0&quot;</td><td>&quot;Ghana&quot;</td><td>&quot;3c13fc3b&quot;</td></tr><tr><td>&quot;WB Rankin&quot;</td><td>50</td><td>&quot;15&quot;</td><td>&quot;8&quot;</td><td>&quot;64&quot;</td><td>&quot;16*&quot;</td><td>&quot;9.14&quot;</td><td>&quot;74&quot;</td><td>&quot;86.48&quot;</td><td>&quot;0&quot;</td><td>&quot;0&quot;</td><td>&quot;2&quot;</td><td>&quot;3&quot;</td><td>&quot;3&quot;</td><td>&quot;Ireland&quot;</td><td>&quot;29b89ae8&quot;</td></tr><tr><td>&quot;A Nortje&quot;</td><td>42</td><td>&quot;12&quot;</td><td>&quot;6&quot;</td><td>&quot;17&quot;</td><td>&quot;4*&quot;</td><td>&quot;2.83&quot;</td><td>&quot;35&quot;</td><td>&quot;48.57&quot;</td><td>&quot;0&quot;</td><td>&quot;0&quot;</td><td>&quot;2&quot;</td><td>&quot;1&quot;</td><td>&quot;0&quot;</td><td>&quot;South Africa&quot;</td><td>&quot;acdc62f5&quot;</td></tr><tr><td>&quot;KJ Coetzer&quot;</td><td>70</td><td>&quot;68&quot;</td><td>&quot;2&quot;</td><td>&quot;1495&quot;</td><td>&quot;89&quot;</td><td>&quot;22.65&quot;</td><td>&quot;1254&quot;</td><td>&quot;119.21&quot;</td><td>&quot;0&quot;</td><td>&quot;6&quot;</td><td>&quot;4&quot;</td><td>&quot;158&quot;</td><td>&quot;48&quot;</td><td>&quot;Scotland&quot;</td><td>&quot;85d8110a&quot;</td></tr><tr><td>&quot;N Ahir&quot;</td><td>11</td><td>&quot;8&quot;</td><td>&quot;3&quot;</td><td>&quot;88&quot;</td><td>&quot;23&quot;</td><td>&quot;17.6&quot;</td><td>&quot;159&quot;</td><td>&quot;55.34&quot;</td><td>&quot;0&quot;</td><td>&quot;0&quot;</td><td>&quot;2&quot;</td><td>&quot;5&quot;</td><td>&quot;2&quot;</td><td>&quot;Panama&quot;</td><td>&quot;c2ecd4a7&quot;</td></tr><tr><td>&hellip;</td><td>&hellip;</td><td>&hellip;</td><td>&hellip;</td><td>&hellip;</td><td>&hellip;</td><td>&hellip;</td><td>&hellip;</td><td>&hellip;</td><td>&hellip;</td><td>&hellip;</td><td>&hellip;</td><td>&hellip;</td><td>&hellip;</td><td>&hellip;</td><td>&hellip;</td></tr><tr><td>&quot;DJ Willey&quot;</td><td>43</td><td>&quot;26&quot;</td><td>&quot;11&quot;</td><td>&quot;226&quot;</td><td>&quot;33*&quot;</td><td>&quot;15.06&quot;</td><td>&quot;173&quot;</td><td>&quot;130.63&quot;</td><td>&quot;0&quot;</td><td>&quot;0&quot;</td><td>&quot;2&quot;</td><td>&quot;15&quot;</td><td>&quot;13&quot;</td><td>&quot;England&quot;</td><td>&quot;7f048519&quot;</td></tr><tr><td>&quot;MNR Cooray&quot;</td><td>7</td><td>&quot;6&quot;</td><td>&quot;1&quot;</td><td>&quot;170&quot;</td><td>&quot;56*&quot;</td><td>&quot;34.0&quot;</td><td>&quot;148&quot;</td><td>&quot;114.86&quot;</td><td>&quot;0&quot;</td><td>&quot;1&quot;</td><td>&quot;0&quot;</td><td>&quot;21&quot;</td><td>&quot;3&quot;</td><td>&quot;Maldives&quot;</td><td>&quot;a9ddd37d&quot;</td></tr><tr><td>&quot;Anoop Orsu&quot;</td><td>19</td><td>&quot;17&quot;</td><td>&quot;4&quot;</td><td>&quot;178&quot;</td><td>&quot;58*&quot;</td><td>&quot;13.69&quot;</td><td>&quot;152&quot;</td><td>&quot;117.1&quot;</td><td>&quot;0&quot;</td><td>&quot;1&quot;</td><td>&quot;7&quot;</td><td>&quot;14&quot;</td><td>&quot;9&quot;</td><td>&quot;Luxembourg&quot;</td><td>&quot;488b7e22&quot;</td></tr><tr><td>&quot;XM Marshall&quot;</td><td>20</td><td>&quot;18&quot;</td><td>&quot;1&quot;</td><td>&quot;300&quot;</td><td>&quot;47*&quot;</td><td>&quot;17.64&quot;</td><td>&quot;290&quot;</td><td>&quot;103.44&quot;</td><td>&quot;0&quot;</td><td>&quot;0&quot;</td><td>&quot;2&quot;</td><td>&quot;26&quot;</td><td>&quot;9&quot;</td><td>&quot;West Indies&quot;</td><td>&quot;ffb504b1&quot;</td></tr><tr><td>&quot;T Vanuarua&quot;</td><td>6</td><td>&quot;4&quot;</td><td>&quot;1&quot;</td><td>&quot;26&quot;</td><td>&quot;14*&quot;</td><td>&quot;8.66&quot;</td><td>&quot;21&quot;</td><td>&quot;123.8&quot;</td><td>&quot;0&quot;</td><td>&quot;0&quot;</td><td>&quot;1&quot;</td><td>&quot;1&quot;</td><td>&quot;3&quot;</td><td>&quot;Cook Islands&quot;</td><td>&quot;1f8b4fec&quot;</td></tr></tbody></table></div>"
      ],
      "text/plain": [
       "shape: (3_624, 16)\n",
       "┌─────────────┬─────┬──────┬─────┬───┬─────┬─────┬──────────────┬───────────┐\n",
       "│ Player      ┆ Mat ┆ Inns ┆ NO  ┆ … ┆ 4s  ┆ 6s  ┆ country      ┆ player_id │\n",
       "│ ---         ┆ --- ┆ ---  ┆ --- ┆   ┆ --- ┆ --- ┆ ---          ┆ ---       │\n",
       "│ str         ┆ i64 ┆ str  ┆ str ┆   ┆ str ┆ str ┆ str          ┆ str       │\n",
       "╞═════════════╪═════╪══════╪═════╪═══╪═════╪═════╪══════════════╪═══════════╡\n",
       "│ E Frimpong  ┆ 4   ┆ 2    ┆ 1   ┆ … ┆ 1   ┆ 0   ┆ Ghana        ┆ 3c13fc3b  │\n",
       "│ WB Rankin   ┆ 50  ┆ 15   ┆ 8   ┆ … ┆ 3   ┆ 3   ┆ Ireland      ┆ 29b89ae8  │\n",
       "│ A Nortje    ┆ 42  ┆ 12   ┆ 6   ┆ … ┆ 1   ┆ 0   ┆ South Africa ┆ acdc62f5  │\n",
       "│ KJ Coetzer  ┆ 70  ┆ 68   ┆ 2   ┆ … ┆ 158 ┆ 48  ┆ Scotland     ┆ 85d8110a  │\n",
       "│ N Ahir      ┆ 11  ┆ 8    ┆ 3   ┆ … ┆ 5   ┆ 2   ┆ Panama       ┆ c2ecd4a7  │\n",
       "│ …           ┆ …   ┆ …    ┆ …   ┆ … ┆ …   ┆ …   ┆ …            ┆ …         │\n",
       "│ DJ Willey   ┆ 43  ┆ 26   ┆ 11  ┆ … ┆ 15  ┆ 13  ┆ England      ┆ 7f048519  │\n",
       "│ MNR Cooray  ┆ 7   ┆ 6    ┆ 1   ┆ … ┆ 21  ┆ 3   ┆ Maldives     ┆ a9ddd37d  │\n",
       "│ Anoop Orsu  ┆ 19  ┆ 17   ┆ 4   ┆ … ┆ 14  ┆ 9   ┆ Luxembourg   ┆ 488b7e22  │\n",
       "│ XM Marshall ┆ 20  ┆ 18   ┆ 1   ┆ … ┆ 26  ┆ 9   ┆ West Indies  ┆ ffb504b1  │\n",
       "│ T Vanuarua  ┆ 6   ┆ 4    ┆ 1   ┆ … ┆ 1   ┆ 3   ┆ Cook Islands ┆ 1f8b4fec  │\n",
       "└─────────────┴─────┴──────┴─────┴───┴─────┴─────┴──────────────┴───────────┘"
      ]
     },
     "execution_count": 40,
     "metadata": {},
     "output_type": "execute_result"
    }
   ],
   "source": [
    "batting_data.join(players_data, on='Player', how='inner')"
   ]
  },
  {
   "cell_type": "code",
   "execution_count": null,
   "metadata": {},
   "outputs": [],
   "source": []
  }
 ],
 "metadata": {
  "kernelspec": {
   "display_name": "eda",
   "language": "python",
   "name": "python3"
  },
  "language_info": {
   "codemirror_mode": {
    "name": "ipython",
    "version": 3
   },
   "file_extension": ".py",
   "mimetype": "text/x-python",
   "name": "python",
   "nbconvert_exporter": "python",
   "pygments_lexer": "ipython3",
   "version": "3.8.19"
  }
 },
 "nbformat": 4,
 "nbformat_minor": 2
}
