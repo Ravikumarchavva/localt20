{
 "cells": [
  {
   "cell_type": "code",
   "execution_count": 113,
   "metadata": {},
   "outputs": [
    {
     "data": {
      "text/html": [
       "<div><style>\n",
       ".dataframe > thead > tr,\n",
       ".dataframe > tbody > tr {\n",
       "  text-align: right;\n",
       "  white-space: pre-wrap;\n",
       "}\n",
       "</style>\n",
       "<small>shape: (4_100, 16)</small><table border=\"1\" class=\"dataframe\"><thead><tr><th>Player</th><th>Span</th><th>Mat</th><th>Inns</th><th>NO</th><th>Runs</th><th>HS</th><th>Ave</th><th>BF</th><th>SR</th><th>100</th><th>50</th><th>0</th><th>4s</th><th>6s</th><th>Unnamed: 15</th></tr><tr><td>str</td><td>str</td><td>i64</td><td>str</td><td>str</td><td>str</td><td>str</td><td>str</td><td>str</td><td>str</td><td>str</td><td>str</td><td>str</td><td>str</td><td>str</td><td>str</td></tr></thead><tbody><tr><td>&quot;A Sawyer (GIBR)&quot;</td><td>&quot;2023-2024&quot;</td><td>3</td><td>&quot;-&quot;</td><td>&quot;-&quot;</td><td>&quot;-&quot;</td><td>&quot;-&quot;</td><td>&quot;-&quot;</td><td>&quot;-&quot;</td><td>&quot;-&quot;</td><td>&quot;-&quot;</td><td>&quot;-&quot;</td><td>&quot;-&quot;</td><td>&quot;-&quot;</td><td>&quot;-&quot;</td><td>null</td></tr><tr><td>&quot;JD Schoonheim (NED)&quot;</td><td>&quot;2008-2008&quot;</td><td>1</td><td>&quot;-&quot;</td><td>&quot;-&quot;</td><td>&quot;-&quot;</td><td>&quot;-&quot;</td><td>&quot;-&quot;</td><td>&quot;-&quot;</td><td>&quot;-&quot;</td><td>&quot;-&quot;</td><td>&quot;-&quot;</td><td>&quot;-&quot;</td><td>&quot;-&quot;</td><td>&quot;-&quot;</td><td>null</td></tr><tr><td>&quot;M Sedgwick (EST)&quot;</td><td>&quot;2021-2021&quot;</td><td>3</td><td>&quot;-&quot;</td><td>&quot;-&quot;</td><td>&quot;-&quot;</td><td>&quot;-&quot;</td><td>&quot;-&quot;</td><td>&quot;-&quot;</td><td>&quot;-&quot;</td><td>&quot;-&quot;</td><td>&quot;-&quot;</td><td>&quot;-&quot;</td><td>&quot;-&quot;</td><td>&quot;-&quot;</td><td>null</td></tr><tr><td>&quot;Shabbir Ahmed (PAK)&quot;</td><td>&quot;2007-2007&quot;</td><td>1</td><td>&quot;-&quot;</td><td>&quot;-&quot;</td><td>&quot;-&quot;</td><td>&quot;-&quot;</td><td>&quot;-&quot;</td><td>&quot;-&quot;</td><td>&quot;-&quot;</td><td>&quot;-&quot;</td><td>&quot;-&quot;</td><td>&quot;-&quot;</td><td>&quot;-&quot;</td><td>&quot;-&quot;</td><td>null</td></tr><tr><td>&quot;Shaffeq Muhammad (GRC)&quot;</td><td>&quot;2019-2019&quot;</td><td>2</td><td>&quot;-&quot;</td><td>&quot;-&quot;</td><td>&quot;-&quot;</td><td>&quot;-&quot;</td><td>&quot;-&quot;</td><td>&quot;-&quot;</td><td>&quot;-&quot;</td><td>&quot;-&quot;</td><td>&quot;-&quot;</td><td>&quot;-&quot;</td><td>&quot;-&quot;</td><td>&quot;-&quot;</td><td>null</td></tr><tr><td>&hellip;</td><td>&hellip;</td><td>&hellip;</td><td>&hellip;</td><td>&hellip;</td><td>&hellip;</td><td>&hellip;</td><td>&hellip;</td><td>&hellip;</td><td>&hellip;</td><td>&hellip;</td><td>&hellip;</td><td>&hellip;</td><td>&hellip;</td><td>&hellip;</td><td>&hellip;</td></tr><tr><td>&quot;GD Phillips (NZ)&quot;</td><td>&quot;2017-2024&quot;</td><td>78</td><td>&quot;69&quot;</td><td>&quot;12&quot;</td><td>&quot;1875&quot;</td><td>&quot;108&quot;</td><td>&quot;32.89&quot;</td><td>&quot;1319&quot;</td><td>&quot;142.15&quot;</td><td>&quot;2&quot;</td><td>&quot;10&quot;</td><td>&quot;3&quot;</td><td>&quot;135&quot;</td><td>&quot;90&quot;</td><td>null</td></tr><tr><td>&quot;R Sandaruwan (KUW)&quot;</td><td>&quot;2019-2024&quot;</td><td>65</td><td>&quot;65&quot;</td><td>&quot;3&quot;</td><td>&quot;1854&quot;</td><td>&quot;103&quot;</td><td>&quot;29.9&quot;</td><td>&quot;1243&quot;</td><td>&quot;149.15&quot;</td><td>&quot;2&quot;</td><td>&quot;11&quot;</td><td>&quot;7&quot;</td><td>&quot;156&quot;</td><td>&quot;110&quot;</td><td>null</td></tr><tr><td>&quot;Fakhar Zaman (PAK)&quot;</td><td>&quot;2017-2024&quot;</td><td>92</td><td>&quot;84&quot;</td><td>&quot;3&quot;</td><td>&quot;1848&quot;</td><td>&quot;91&quot;</td><td>&quot;22.81&quot;</td><td>&quot;1390&quot;</td><td>&quot;132.94&quot;</td><td>&quot;0&quot;</td><td>&quot;11&quot;</td><td>&quot;6&quot;</td><td>&quot;172&quot;</td><td>&quot;76&quot;</td><td>null</td></tr><tr><td>&quot;BKG Mendis (SL)&quot;</td><td>&quot;2016-2024&quot;</td><td>73</td><td>&quot;73&quot;</td><td>&quot;3&quot;</td><td>&quot;1840&quot;</td><td>&quot;86&quot;</td><td>&quot;26.28&quot;</td><td>&quot;1382&quot;</td><td>&quot;133.14&quot;</td><td>&quot;0&quot;</td><td>&quot;15&quot;</td><td>&quot;5&quot;</td><td>&quot;156&quot;</td><td>&quot;80&quot;</td><td>null</td></tr><tr><td>&quot;Najibullah Zadran (AFG)&quot;</td><td>&quot;2012-2024&quot;</td><td>107</td><td>&quot;95&quot;</td><td>&quot;33&quot;</td><td>&quot;1830&quot;</td><td>&quot;73&quot;</td><td>&quot;29.51&quot;</td><td>&quot;1328&quot;</td><td>&quot;137.8&quot;</td><td>&quot;0&quot;</td><td>&quot;8&quot;</td><td>&quot;6&quot;</td><td>&quot;126&quot;</td><td>&quot;97&quot;</td><td>null</td></tr></tbody></table></div>"
      ],
      "text/plain": [
       "shape: (4_100, 16)\n",
       "┌─────────────────────────┬───────────┬─────┬──────┬───┬─────┬─────┬─────┬─────────────┐\n",
       "│ Player                  ┆ Span      ┆ Mat ┆ Inns ┆ … ┆ 0   ┆ 4s  ┆ 6s  ┆ Unnamed: 15 │\n",
       "│ ---                     ┆ ---       ┆ --- ┆ ---  ┆   ┆ --- ┆ --- ┆ --- ┆ ---         │\n",
       "│ str                     ┆ str       ┆ i64 ┆ str  ┆   ┆ str ┆ str ┆ str ┆ str         │\n",
       "╞═════════════════════════╪═══════════╪═════╪══════╪═══╪═════╪═════╪═════╪═════════════╡\n",
       "│ A Sawyer (GIBR)         ┆ 2023-2024 ┆ 3   ┆ -    ┆ … ┆ -   ┆ -   ┆ -   ┆ null        │\n",
       "│ JD Schoonheim (NED)     ┆ 2008-2008 ┆ 1   ┆ -    ┆ … ┆ -   ┆ -   ┆ -   ┆ null        │\n",
       "│ M Sedgwick (EST)        ┆ 2021-2021 ┆ 3   ┆ -    ┆ … ┆ -   ┆ -   ┆ -   ┆ null        │\n",
       "│ Shabbir Ahmed (PAK)     ┆ 2007-2007 ┆ 1   ┆ -    ┆ … ┆ -   ┆ -   ┆ -   ┆ null        │\n",
       "│ Shaffeq Muhammad (GRC)  ┆ 2019-2019 ┆ 2   ┆ -    ┆ … ┆ -   ┆ -   ┆ -   ┆ null        │\n",
       "│ …                       ┆ …         ┆ …   ┆ …    ┆ … ┆ …   ┆ …   ┆ …   ┆ …           │\n",
       "│ GD Phillips (NZ)        ┆ 2017-2024 ┆ 78  ┆ 69   ┆ … ┆ 3   ┆ 135 ┆ 90  ┆ null        │\n",
       "│ R Sandaruwan (KUW)      ┆ 2019-2024 ┆ 65  ┆ 65   ┆ … ┆ 7   ┆ 156 ┆ 110 ┆ null        │\n",
       "│ Fakhar Zaman (PAK)      ┆ 2017-2024 ┆ 92  ┆ 84   ┆ … ┆ 6   ┆ 172 ┆ 76  ┆ null        │\n",
       "│ BKG Mendis (SL)         ┆ 2016-2024 ┆ 73  ┆ 73   ┆ … ┆ 5   ┆ 156 ┆ 80  ┆ null        │\n",
       "│ Najibullah Zadran (AFG) ┆ 2012-2024 ┆ 107 ┆ 95   ┆ … ┆ 6   ┆ 126 ┆ 97  ┆ null        │\n",
       "└─────────────────────────┴───────────┴─────┴──────┴───┴─────┴─────┴─────┴─────────────┘"
      ]
     },
     "execution_count": 113,
     "metadata": {},
     "output_type": "execute_result"
    }
   ],
   "source": [
    "import os\n",
    "import polars as pl\n",
    "\n",
    "# Specify the directory where your CSV files are located\n",
    "directory = r'D:\\github\\localt20\\data'\n",
    "\n",
    "batting_data = pl.read_csv(os.path.join(directory, 't20_batting_stats.csv'))\n",
    "batting_data"
   ]
  },
  {
   "cell_type": "code",
   "execution_count": 114,
   "metadata": {},
   "outputs": [
    {
     "data": {
      "text/html": [
       "<div><style>\n",
       ".dataframe > thead > tr,\n",
       ".dataframe > tbody > tr {\n",
       "  text-align: right;\n",
       "  white-space: pre-wrap;\n",
       "}\n",
       "</style>\n",
       "<small>shape: (4_100, 3)</small><table border=\"1\" class=\"dataframe\"><thead><tr><th>Player</th><th>Mat</th><th>SR</th></tr><tr><td>str</td><td>i64</td><td>str</td></tr></thead><tbody><tr><td>&quot;AL Kerai (SLE)&quot;</td><td>9</td><td>&quot;61.29&quot;</td></tr><tr><td>&quot;A Davidson Soler (ESP)&quot;</td><td>9</td><td>&quot;111.11&quot;</td></tr><tr><td>&quot;Umar Nawaz (SWE)&quot;</td><td>9</td><td>&quot;100.53&quot;</td></tr><tr><td>&quot;LK Sharma (Mex)&quot;</td><td>1</td><td>&quot;71.42&quot;</td></tr><tr><td>&quot;N Khanna (MLT)&quot;</td><td>24</td><td>&quot;124.6&quot;</td></tr><tr><td>&hellip;</td><td>&hellip;</td><td>&hellip;</td></tr><tr><td>&quot;H Pragji (BOT)&quot;</td><td>4</td><td>&quot;58.46&quot;</td></tr><tr><td>&quot;Shahrukh Quddus (KUW)&quot;</td><td>11</td><td>&quot;40.0&quot;</td></tr><tr><td>&quot;Abdullah Rana (SUI)&quot;</td><td>8</td><td>&quot;155.55&quot;</td></tr><tr><td>&quot;L Erdenebulgan (MNG)&quot;</td><td>15</td><td>&quot;18.33&quot;</td></tr><tr><td>&quot;Shabir Noori (AFG)&quot;</td><td>1</td><td>&quot;83.33&quot;</td></tr></tbody></table></div>"
      ],
      "text/plain": [
       "shape: (4_100, 3)\n",
       "┌────────────────────────┬─────┬────────┐\n",
       "│ Player                 ┆ Mat ┆ SR     │\n",
       "│ ---                    ┆ --- ┆ ---    │\n",
       "│ str                    ┆ i64 ┆ str    │\n",
       "╞════════════════════════╪═════╪════════╡\n",
       "│ AL Kerai (SLE)         ┆ 9   ┆ 61.29  │\n",
       "│ A Davidson Soler (ESP) ┆ 9   ┆ 111.11 │\n",
       "│ Umar Nawaz (SWE)       ┆ 9   ┆ 100.53 │\n",
       "│ LK Sharma (Mex)        ┆ 1   ┆ 71.42  │\n",
       "│ N Khanna (MLT)         ┆ 24  ┆ 124.6  │\n",
       "│ …                      ┆ …   ┆ …      │\n",
       "│ H Pragji (BOT)         ┆ 4   ┆ 58.46  │\n",
       "│ Shahrukh Quddus (KUW)  ┆ 11  ┆ 40.0   │\n",
       "│ Abdullah Rana (SUI)    ┆ 8   ┆ 155.55 │\n",
       "│ L Erdenebulgan (MNG)   ┆ 15  ┆ 18.33  │\n",
       "│ Shabir Noori (AFG)     ┆ 1   ┆ 83.33  │\n",
       "└────────────────────────┴─────┴────────┘"
      ]
     },
     "execution_count": 114,
     "metadata": {},
     "output_type": "execute_result"
    }
   ],
   "source": [
    "batting_data = batting_data.select([\"Player\",\"Mat\",\"SR\"]).unique()\n",
    "batting_data"
   ]
  },
  {
   "cell_type": "code",
   "execution_count": 115,
   "metadata": {},
   "outputs": [
    {
     "data": {
      "text/html": [
       "<div><style>\n",
       ".dataframe > thead > tr,\n",
       ".dataframe > tbody > tr {\n",
       "  text-align: right;\n",
       "  white-space: pre-wrap;\n",
       "}\n",
       "</style>\n",
       "<small>shape: (4_100, 3)</small><table border=\"1\" class=\"dataframe\"><thead><tr><th>Player</th><th>Mat</th><th>SR</th></tr><tr><td>str</td><td>i64</td><td>f64</td></tr></thead><tbody><tr><td>&quot;AL Kerai (SLE)&quot;</td><td>9</td><td>61.29</td></tr><tr><td>&quot;A Davidson Soler (ESP)&quot;</td><td>9</td><td>111.11</td></tr><tr><td>&quot;Umar Nawaz (SWE)&quot;</td><td>9</td><td>100.53</td></tr><tr><td>&quot;LK Sharma (Mex)&quot;</td><td>1</td><td>71.42</td></tr><tr><td>&quot;N Khanna (MLT)&quot;</td><td>24</td><td>124.6</td></tr><tr><td>&hellip;</td><td>&hellip;</td><td>&hellip;</td></tr><tr><td>&quot;H Pragji (BOT)&quot;</td><td>4</td><td>58.46</td></tr><tr><td>&quot;Shahrukh Quddus (KUW)&quot;</td><td>11</td><td>40.0</td></tr><tr><td>&quot;Abdullah Rana (SUI)&quot;</td><td>8</td><td>155.55</td></tr><tr><td>&quot;L Erdenebulgan (MNG)&quot;</td><td>15</td><td>18.33</td></tr><tr><td>&quot;Shabir Noori (AFG)&quot;</td><td>1</td><td>83.33</td></tr></tbody></table></div>"
      ],
      "text/plain": [
       "shape: (4_100, 3)\n",
       "┌────────────────────────┬─────┬────────┐\n",
       "│ Player                 ┆ Mat ┆ SR     │\n",
       "│ ---                    ┆ --- ┆ ---    │\n",
       "│ str                    ┆ i64 ┆ f64    │\n",
       "╞════════════════════════╪═════╪════════╡\n",
       "│ AL Kerai (SLE)         ┆ 9   ┆ 61.29  │\n",
       "│ A Davidson Soler (ESP) ┆ 9   ┆ 111.11 │\n",
       "│ Umar Nawaz (SWE)       ┆ 9   ┆ 100.53 │\n",
       "│ LK Sharma (Mex)        ┆ 1   ┆ 71.42  │\n",
       "│ N Khanna (MLT)         ┆ 24  ┆ 124.6  │\n",
       "│ …                      ┆ …   ┆ …      │\n",
       "│ H Pragji (BOT)         ┆ 4   ┆ 58.46  │\n",
       "│ Shahrukh Quddus (KUW)  ┆ 11  ┆ 40.0   │\n",
       "│ Abdullah Rana (SUI)    ┆ 8   ┆ 155.55 │\n",
       "│ L Erdenebulgan (MNG)   ┆ 15  ┆ 18.33  │\n",
       "│ Shabir Noori (AFG)     ┆ 1   ┆ 83.33  │\n",
       "└────────────────────────┴─────┴────────┘"
      ]
     },
     "execution_count": 115,
     "metadata": {},
     "output_type": "execute_result"
    }
   ],
   "source": [
    "batting_data = batting_data.with_columns(pl.col(\"SR\").str.replace(\"-\",pl.lit('0')).cast(pl.Float64))\n",
    "batting_data"
   ]
  },
  {
   "cell_type": "code",
   "execution_count": 116,
   "metadata": {},
   "outputs": [
    {
     "data": {
      "text/html": [
       "<div><style>\n",
       ".dataframe > thead > tr,\n",
       ".dataframe > tbody > tr {\n",
       "  text-align: right;\n",
       "  white-space: pre-wrap;\n",
       "}\n",
       "</style>\n",
       "<small>shape: (4_100, 4)</small><table border=\"1\" class=\"dataframe\"><thead><tr><th>Player</th><th>Mat</th><th>SR</th><th>Country</th></tr><tr><td>str</td><td>i64</td><td>f64</td><td>str</td></tr></thead><tbody><tr><td>&quot;AL Kerai&quot;</td><td>9</td><td>61.29</td><td>&quot;SLE)&quot;</td></tr><tr><td>&quot;A Davidson Soler&quot;</td><td>9</td><td>111.11</td><td>&quot;ESP)&quot;</td></tr><tr><td>&quot;Umar Nawaz&quot;</td><td>9</td><td>100.53</td><td>&quot;SWE)&quot;</td></tr><tr><td>&quot;LK Sharma&quot;</td><td>1</td><td>71.42</td><td>&quot;Mex)&quot;</td></tr><tr><td>&quot;N Khanna&quot;</td><td>24</td><td>124.6</td><td>&quot;MLT)&quot;</td></tr><tr><td>&hellip;</td><td>&hellip;</td><td>&hellip;</td><td>&hellip;</td></tr><tr><td>&quot;H Pragji&quot;</td><td>4</td><td>58.46</td><td>&quot;BOT)&quot;</td></tr><tr><td>&quot;Shahrukh Quddus&quot;</td><td>11</td><td>40.0</td><td>&quot;KUW)&quot;</td></tr><tr><td>&quot;Abdullah Rana&quot;</td><td>8</td><td>155.55</td><td>&quot;SUI)&quot;</td></tr><tr><td>&quot;L Erdenebulgan&quot;</td><td>15</td><td>18.33</td><td>&quot;MNG)&quot;</td></tr><tr><td>&quot;Shabir Noori&quot;</td><td>1</td><td>83.33</td><td>&quot;AFG)&quot;</td></tr></tbody></table></div>"
      ],
      "text/plain": [
       "shape: (4_100, 4)\n",
       "┌──────────────────┬─────┬────────┬─────────┐\n",
       "│ Player           ┆ Mat ┆ SR     ┆ Country │\n",
       "│ ---              ┆ --- ┆ ---    ┆ ---     │\n",
       "│ str              ┆ i64 ┆ f64    ┆ str     │\n",
       "╞══════════════════╪═════╪════════╪═════════╡\n",
       "│ AL Kerai         ┆ 9   ┆ 61.29  ┆ SLE)    │\n",
       "│ A Davidson Soler ┆ 9   ┆ 111.11 ┆ ESP)    │\n",
       "│ Umar Nawaz       ┆ 9   ┆ 100.53 ┆ SWE)    │\n",
       "│ LK Sharma        ┆ 1   ┆ 71.42  ┆ Mex)    │\n",
       "│ N Khanna         ┆ 24  ┆ 124.6  ┆ MLT)    │\n",
       "│ …                ┆ …   ┆ …      ┆ …       │\n",
       "│ H Pragji         ┆ 4   ┆ 58.46  ┆ BOT)    │\n",
       "│ Shahrukh Quddus  ┆ 11  ┆ 40.0   ┆ KUW)    │\n",
       "│ Abdullah Rana    ┆ 8   ┆ 155.55 ┆ SUI)    │\n",
       "│ L Erdenebulgan   ┆ 15  ┆ 18.33  ┆ MNG)    │\n",
       "│ Shabir Noori     ┆ 1   ┆ 83.33  ┆ AFG)    │\n",
       "└──────────────────┴─────┴────────┴─────────┘"
      ]
     },
     "execution_count": 116,
     "metadata": {},
     "output_type": "execute_result"
    }
   ],
   "source": [
    "batting_data = batting_data.with_columns(batting_data['Player'].str.split_exact(' (', n=1).struct.rename_fields(['Player', 'Country']).alias('Player').to_frame().unnest('Player'))\n",
    "batting_data"
   ]
  },
  {
   "cell_type": "code",
   "execution_count": 120,
   "metadata": {},
   "outputs": [
    {
     "data": {
      "text/html": [
       "<div><style>\n",
       ".dataframe > thead > tr,\n",
       ".dataframe > tbody > tr {\n",
       "  text-align: right;\n",
       "  white-space: pre-wrap;\n",
       "}\n",
       "</style>\n",
       "<small>shape: (4_100, 4)</small><table border=\"1\" class=\"dataframe\"><thead><tr><th>Player</th><th>Mat</th><th>SR</th><th>Country</th></tr><tr><td>str</td><td>i64</td><td>f64</td><td>str</td></tr></thead><tbody><tr><td>&quot;AL Kerai&quot;</td><td>9</td><td>61.29</td><td>&quot;SLE&quot;</td></tr><tr><td>&quot;A Davidson Soler&quot;</td><td>9</td><td>111.11</td><td>&quot;ESP&quot;</td></tr><tr><td>&quot;Umar Nawaz&quot;</td><td>9</td><td>100.53</td><td>&quot;SWE&quot;</td></tr><tr><td>&quot;LK Sharma&quot;</td><td>1</td><td>71.42</td><td>&quot;Mex&quot;</td></tr><tr><td>&quot;N Khanna&quot;</td><td>24</td><td>124.6</td><td>&quot;MLT&quot;</td></tr><tr><td>&hellip;</td><td>&hellip;</td><td>&hellip;</td><td>&hellip;</td></tr><tr><td>&quot;H Pragji&quot;</td><td>4</td><td>58.46</td><td>&quot;BOT&quot;</td></tr><tr><td>&quot;Shahrukh Quddus&quot;</td><td>11</td><td>40.0</td><td>&quot;KUW&quot;</td></tr><tr><td>&quot;Abdullah Rana&quot;</td><td>8</td><td>155.55</td><td>&quot;SUI&quot;</td></tr><tr><td>&quot;L Erdenebulgan&quot;</td><td>15</td><td>18.33</td><td>&quot;MNG&quot;</td></tr><tr><td>&quot;Shabir Noori&quot;</td><td>1</td><td>83.33</td><td>&quot;AFG&quot;</td></tr></tbody></table></div>"
      ],
      "text/plain": [
       "shape: (4_100, 4)\n",
       "┌──────────────────┬─────┬────────┬─────────┐\n",
       "│ Player           ┆ Mat ┆ SR     ┆ Country │\n",
       "│ ---              ┆ --- ┆ ---    ┆ ---     │\n",
       "│ str              ┆ i64 ┆ f64    ┆ str     │\n",
       "╞══════════════════╪═════╪════════╪═════════╡\n",
       "│ AL Kerai         ┆ 9   ┆ 61.29  ┆ SLE     │\n",
       "│ A Davidson Soler ┆ 9   ┆ 111.11 ┆ ESP     │\n",
       "│ Umar Nawaz       ┆ 9   ┆ 100.53 ┆ SWE     │\n",
       "│ LK Sharma        ┆ 1   ┆ 71.42  ┆ Mex     │\n",
       "│ N Khanna         ┆ 24  ┆ 124.6  ┆ MLT     │\n",
       "│ …                ┆ …   ┆ …      ┆ …       │\n",
       "│ H Pragji         ┆ 4   ┆ 58.46  ┆ BOT     │\n",
       "│ Shahrukh Quddus  ┆ 11  ┆ 40.0   ┆ KUW     │\n",
       "│ Abdullah Rana    ┆ 8   ┆ 155.55 ┆ SUI     │\n",
       "│ L Erdenebulgan   ┆ 15  ┆ 18.33  ┆ MNG     │\n",
       "│ Shabir Noori     ┆ 1   ┆ 83.33  ┆ AFG     │\n",
       "└──────────────────┴─────┴────────┴─────────┘"
      ]
     },
     "execution_count": 120,
     "metadata": {},
     "output_type": "execute_result"
    }
   ],
   "source": [
    "batting_data = batting_data.with_columns(batting_data['Country'].str.replace(r'\\)', ''))\n",
    "batting_data\n"
   ]
  },
  {
   "cell_type": "code",
   "execution_count": 106,
   "metadata": {},
   "outputs": [
    {
     "data": {
      "text/html": [
       "<div><style>\n",
       ".dataframe > thead > tr,\n",
       ".dataframe > tbody > tr {\n",
       "  text-align: right;\n",
       "  white-space: pre-wrap;\n",
       "}\n",
       "</style>\n",
       "<small>shape: (5_722, 3)</small><table border=\"1\" class=\"dataframe\"><thead><tr><th>Player</th><th>country</th><th>player_id</th></tr><tr><td>str</td><td>str</td><td>str</td></tr></thead><tbody><tr><td>&quot;E Frimpong&quot;</td><td>&quot;Ghana&quot;</td><td>&quot;3c13fc3b&quot;</td></tr><tr><td>&quot;L Rika&quot;</td><td>&quot;Fiji&quot;</td><td>&quot;fe12944e&quot;</td></tr><tr><td>&quot;B George&quot;</td><td>&quot;Malta&quot;</td><td>&quot;1bdbf53b&quot;</td></tr><tr><td>&quot;WB Rankin&quot;</td><td>&quot;Ireland&quot;</td><td>&quot;29b89ae8&quot;</td></tr><tr><td>&quot;V Phiri&quot;</td><td>&quot;Malawi&quot;</td><td>&quot;8ffa1b3c&quot;</td></tr><tr><td>&hellip;</td><td>&hellip;</td><td>&hellip;</td></tr><tr><td>&quot;B Frank&quot;</td><td>&quot;Nigeria&quot;</td><td>&quot;040206a2&quot;</td></tr><tr><td>&quot;XM Marshall&quot;</td><td>&quot;West Indies&quot;</td><td>&quot;ffb504b1&quot;</td></tr><tr><td>&quot;T Vanuarua&quot;</td><td>&quot;Cook Islands&quot;</td><td>&quot;1f8b4fec&quot;</td></tr><tr><td>&quot;Nary Thapa&quot;</td><td>&quot;Nepal&quot;</td><td>&quot;d24e69f5&quot;</td></tr><tr><td>&quot;P Maya&quot;</td><td>&quot;Thailand&quot;</td><td>&quot;72eada4c&quot;</td></tr></tbody></table></div>"
      ],
      "text/plain": [
       "shape: (5_722, 3)\n",
       "┌─────────────┬──────────────┬───────────┐\n",
       "│ Player      ┆ country      ┆ player_id │\n",
       "│ ---         ┆ ---          ┆ ---       │\n",
       "│ str         ┆ str          ┆ str       │\n",
       "╞═════════════╪══════════════╪═══════════╡\n",
       "│ E Frimpong  ┆ Ghana        ┆ 3c13fc3b  │\n",
       "│ L Rika      ┆ Fiji         ┆ fe12944e  │\n",
       "│ B George    ┆ Malta        ┆ 1bdbf53b  │\n",
       "│ WB Rankin   ┆ Ireland      ┆ 29b89ae8  │\n",
       "│ V Phiri     ┆ Malawi       ┆ 8ffa1b3c  │\n",
       "│ …           ┆ …            ┆ …         │\n",
       "│ B Frank     ┆ Nigeria      ┆ 040206a2  │\n",
       "│ XM Marshall ┆ West Indies  ┆ ffb504b1  │\n",
       "│ T Vanuarua  ┆ Cook Islands ┆ 1f8b4fec  │\n",
       "│ Nary Thapa  ┆ Nepal        ┆ d24e69f5  │\n",
       "│ P Maya      ┆ Thailand     ┆ 72eada4c  │\n",
       "└─────────────┴──────────────┴───────────┘"
      ]
     },
     "execution_count": 106,
     "metadata": {},
     "output_type": "execute_result"
    }
   ],
   "source": [
    "players_data = pl.read_csv(r'D:\\github\\localt20\\processedData\\Players.csv').rename({\"player\": \"Player\"})\n",
    "players_data"
   ]
  },
  {
   "cell_type": "code",
   "execution_count": 107,
   "metadata": {},
   "outputs": [
    {
     "data": {
      "text/html": [
       "<div><style>\n",
       ".dataframe > thead > tr,\n",
       ".dataframe > tbody > tr {\n",
       "  text-align: right;\n",
       "  white-space: pre-wrap;\n",
       "}\n",
       "</style>\n",
       "<small>shape: (104,)</small><table border=\"1\" class=\"dataframe\"><thead><tr><th>country</th></tr><tr><td>str</td></tr></thead><tbody><tr><td>&quot;Swaziland&quot;</td></tr><tr><td>&quot;Cameroon&quot;</td></tr><tr><td>&quot;West Indies&quot;</td></tr><tr><td>&quot;Jersey&quot;</td></tr><tr><td>&quot;Fiji&quot;</td></tr><tr><td>&hellip;</td></tr><tr><td>&quot;Cambodia&quot;</td></tr><tr><td>&quot;Cayman Islands&quot;</td></tr><tr><td>&quot;Kenya&quot;</td></tr><tr><td>&quot;Mexico&quot;</td></tr><tr><td>&quot;Philippines&quot;</td></tr></tbody></table></div>"
      ],
      "text/plain": [
       "shape: (104,)\n",
       "Series: 'country' [str]\n",
       "[\n",
       "\t\"Swaziland\"\n",
       "\t\"Cameroon\"\n",
       "\t\"West Indies\"\n",
       "\t\"Jersey\"\n",
       "\t\"Fiji\"\n",
       "\t…\n",
       "\t\"Cambodia\"\n",
       "\t\"Cayman Islands\"\n",
       "\t\"Kenya\"\n",
       "\t\"Mexico\"\n",
       "\t\"Philippines\"\n",
       "]"
      ]
     },
     "execution_count": 107,
     "metadata": {},
     "output_type": "execute_result"
    }
   ],
   "source": [
    "players_data['country'].unique()"
   ]
  },
  {
   "cell_type": "code",
   "execution_count": 92,
   "metadata": {},
   "outputs": [
    {
     "data": {
      "text/html": [
       "<div><style>\n",
       ".dataframe > thead > tr,\n",
       ".dataframe > tbody > tr {\n",
       "  text-align: right;\n",
       "  white-space: pre-wrap;\n",
       "}\n",
       "</style>\n",
       "<small>shape: (3_624, 5)</small><table border=\"1\" class=\"dataframe\"><thead><tr><th>Player</th><th>Mat</th><th>SR</th><th>country</th><th>player_id</th></tr><tr><td>str</td><td>i64</td><td>f64</td><td>str</td><td>str</td></tr></thead><tbody><tr><td>&quot;Washington Sundar&quot;</td><td>52</td><td>128.8</td><td>&quot;India&quot;</td><td>&quot;f19ccfad&quot;</td></tr><tr><td>&quot;Raja Shoaib&quot;</td><td>10</td><td>86.53</td><td>&quot;South Korea&quot;</td><td>&quot;7b0ea09e&quot;</td></tr><tr><td>&quot;HM Amla&quot;</td><td>44</td><td>132.05</td><td>&quot;South Africa&quot;</td><td>&quot;e798611a&quot;</td></tr><tr><td>&quot;H Rashid&quot;</td><td>15</td><td>88.11</td><td>&quot;Eswatini&quot;</td><td>&quot;725c73f2&quot;</td></tr><tr><td>&quot;Gurpreet Singh&quot;</td><td>3</td><td>121.42</td><td>&quot;Italy&quot;</td><td>&quot;1a5d690f&quot;</td></tr><tr><td>&hellip;</td><td>&hellip;</td><td>&hellip;</td><td>&hellip;</td><td>&hellip;</td></tr><tr><td>&quot;KA Pollard&quot;</td><td>101</td><td>135.14</td><td>&quot;West Indies&quot;</td><td>&quot;a757b0d8&quot;</td></tr><tr><td>&quot;A Nanda&quot;</td><td>31</td><td>84.28</td><td>&quot;Luxembourg&quot;</td><td>&quot;704e0160&quot;</td></tr><tr><td>&quot;T Manders&quot;</td><td>17</td><td>124.93</td><td>&quot;Bermuda&quot;</td><td>&quot;6d2b9724&quot;</td></tr><tr><td>&quot;T Thushara&quot;</td><td>6</td><td>50.0</td><td>&quot;Sri Lanka&quot;</td><td>&quot;b2ae53f5&quot;</td></tr><tr><td>&quot;Sheraz Sheikh&quot;</td><td>30</td><td>105.76</td><td>&quot;Belgium&quot;</td><td>&quot;4aad6842&quot;</td></tr></tbody></table></div>"
      ],
      "text/plain": [
       "shape: (3_624, 5)\n",
       "┌───────────────────┬─────┬────────┬──────────────┬───────────┐\n",
       "│ Player            ┆ Mat ┆ SR     ┆ country      ┆ player_id │\n",
       "│ ---               ┆ --- ┆ ---    ┆ ---          ┆ ---       │\n",
       "│ str               ┆ i64 ┆ f64    ┆ str          ┆ str       │\n",
       "╞═══════════════════╪═════╪════════╪══════════════╪═══════════╡\n",
       "│ Washington Sundar ┆ 52  ┆ 128.8  ┆ India        ┆ f19ccfad  │\n",
       "│ Raja Shoaib       ┆ 10  ┆ 86.53  ┆ South Korea  ┆ 7b0ea09e  │\n",
       "│ HM Amla           ┆ 44  ┆ 132.05 ┆ South Africa ┆ e798611a  │\n",
       "│ H Rashid          ┆ 15  ┆ 88.11  ┆ Eswatini     ┆ 725c73f2  │\n",
       "│ Gurpreet Singh    ┆ 3   ┆ 121.42 ┆ Italy        ┆ 1a5d690f  │\n",
       "│ …                 ┆ …   ┆ …      ┆ …            ┆ …         │\n",
       "│ KA Pollard        ┆ 101 ┆ 135.14 ┆ West Indies  ┆ a757b0d8  │\n",
       "│ A Nanda           ┆ 31  ┆ 84.28  ┆ Luxembourg   ┆ 704e0160  │\n",
       "│ T Manders         ┆ 17  ┆ 124.93 ┆ Bermuda      ┆ 6d2b9724  │\n",
       "│ T Thushara        ┆ 6   ┆ 50.0   ┆ Sri Lanka    ┆ b2ae53f5  │\n",
       "│ Sheraz Sheikh     ┆ 30  ┆ 105.76 ┆ Belgium      ┆ 4aad6842  │\n",
       "└───────────────────┴─────┴────────┴──────────────┴───────────┘"
      ]
     },
     "execution_count": 92,
     "metadata": {},
     "output_type": "execute_result"
    }
   ],
   "source": [
    "batting_data = batting_data.join(players_data, on='Player', how='inner')\n",
    "batting_data"
   ]
  },
  {
   "cell_type": "code",
   "execution_count": 85,
   "metadata": {},
   "outputs": [],
   "source": [
    "batting_data.select(['player_id','Player','Mat','SR']).write_csv(r'D:\\github\\localt20\\processedData\\batting.csv')"
   ]
  }
 ],
 "metadata": {
  "kernelspec": {
   "display_name": "eda",
   "language": "python",
   "name": "python3"
  },
  "language_info": {
   "codemirror_mode": {
    "name": "ipython",
    "version": 3
   },
   "file_extension": ".py",
   "mimetype": "text/x-python",
   "name": "python",
   "nbconvert_exporter": "python",
   "pygments_lexer": "ipython3",
   "version": "3.8.19"
  }
 },
 "nbformat": 4,
 "nbformat_minor": 2
}
