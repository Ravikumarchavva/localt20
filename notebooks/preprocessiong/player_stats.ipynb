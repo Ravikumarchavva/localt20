{
 "cells": [
  {
   "cell_type": "code",
   "execution_count": 34,
   "metadata": {},
   "outputs": [
    {
     "data": {
      "text/html": [
       "<div><style>\n",
       ".dataframe > thead > tr,\n",
       ".dataframe > tbody > tr {\n",
       "  text-align: right;\n",
       "  white-space: pre-wrap;\n",
       "}\n",
       "</style>\n",
       "<small>shape: (3_624, 4)</small><table border=\"1\" class=\"dataframe\"><thead><tr><th>player_id</th><th>Player</th><th>Mat</th><th>SR</th></tr><tr><td>str</td><td>str</td><td>i64</td><td>f64</td></tr></thead><tbody><tr><td>&quot;3c13fc3b&quot;</td><td>&quot;E Frimpong&quot;</td><td>4</td><td>150.0</td></tr><tr><td>&quot;29b89ae8&quot;</td><td>&quot;WB Rankin&quot;</td><td>50</td><td>86.48</td></tr><tr><td>&quot;acdc62f5&quot;</td><td>&quot;A Nortje&quot;</td><td>42</td><td>48.57</td></tr><tr><td>&quot;85d8110a&quot;</td><td>&quot;KJ Coetzer&quot;</td><td>70</td><td>119.21</td></tr><tr><td>&quot;c2ecd4a7&quot;</td><td>&quot;N Ahir&quot;</td><td>11</td><td>55.34</td></tr><tr><td>&hellip;</td><td>&hellip;</td><td>&hellip;</td><td>&hellip;</td></tr><tr><td>&quot;7f048519&quot;</td><td>&quot;DJ Willey&quot;</td><td>43</td><td>130.63</td></tr><tr><td>&quot;a9ddd37d&quot;</td><td>&quot;MNR Cooray&quot;</td><td>7</td><td>114.86</td></tr><tr><td>&quot;488b7e22&quot;</td><td>&quot;Anoop Orsu&quot;</td><td>19</td><td>117.1</td></tr><tr><td>&quot;ffb504b1&quot;</td><td>&quot;XM Marshall&quot;</td><td>20</td><td>103.44</td></tr><tr><td>&quot;1f8b4fec&quot;</td><td>&quot;T Vanuarua&quot;</td><td>6</td><td>123.8</td></tr></tbody></table></div>"
      ],
      "text/plain": [
       "shape: (3_624, 4)\n",
       "┌───────────┬─────────────┬─────┬────────┐\n",
       "│ player_id ┆ Player      ┆ Mat ┆ SR     │\n",
       "│ ---       ┆ ---         ┆ --- ┆ ---    │\n",
       "│ str       ┆ str         ┆ i64 ┆ f64    │\n",
       "╞═══════════╪═════════════╪═════╪════════╡\n",
       "│ 3c13fc3b  ┆ E Frimpong  ┆ 4   ┆ 150.0  │\n",
       "│ 29b89ae8  ┆ WB Rankin   ┆ 50  ┆ 86.48  │\n",
       "│ acdc62f5  ┆ A Nortje    ┆ 42  ┆ 48.57  │\n",
       "│ 85d8110a  ┆ KJ Coetzer  ┆ 70  ┆ 119.21 │\n",
       "│ c2ecd4a7  ┆ N Ahir      ┆ 11  ┆ 55.34  │\n",
       "│ …         ┆ …           ┆ …   ┆ …      │\n",
       "│ 7f048519  ┆ DJ Willey   ┆ 43  ┆ 130.63 │\n",
       "│ a9ddd37d  ┆ MNR Cooray  ┆ 7   ┆ 114.86 │\n",
       "│ 488b7e22  ┆ Anoop Orsu  ┆ 19  ┆ 117.1  │\n",
       "│ ffb504b1  ┆ XM Marshall ┆ 20  ┆ 103.44 │\n",
       "│ 1f8b4fec  ┆ T Vanuarua  ┆ 6   ┆ 123.8  │\n",
       "└───────────┴─────────────┴─────┴────────┘"
      ]
     },
     "execution_count": 34,
     "metadata": {},
     "output_type": "execute_result"
    }
   ],
   "source": [
    "import os\n",
    "import glob\n",
    "import polars as pl\n",
    "\n",
    "# Specify the directory where your CSV files are located\n",
    "directory = r'D:\\github\\localt20\\processedData'\n",
    "\n",
    "batting_data = pl.read_csv(os.path.join(directory, 'batting.csv'))\n",
    "bowling_data = pl.read_csv(os.path.join(directory, 'bowling.csv'))\n",
    "fielding_data = pl.read_csv(os.path.join(directory, 'fielding.csv'))\n",
    "batting_data"
   ]
  },
  {
   "cell_type": "code",
   "execution_count": 35,
   "metadata": {},
   "outputs": [
    {
     "data": {
      "text/html": [
       "<div><style>\n",
       ".dataframe > thead > tr,\n",
       ".dataframe > tbody > tr {\n",
       "  text-align: right;\n",
       "  white-space: pre-wrap;\n",
       "}\n",
       "</style>\n",
       "<small>shape: (3_503,)</small><table border=\"1\" class=\"dataframe\"><thead><tr><th>player_id</th></tr><tr><td>str</td></tr></thead><tbody><tr><td>&quot;cad11a02&quot;</td></tr><tr><td>&quot;7f74b21d&quot;</td></tr><tr><td>&quot;441b1b20&quot;</td></tr><tr><td>&quot;abb7c76c&quot;</td></tr><tr><td>&quot;6b71e6cf&quot;</td></tr><tr><td>&hellip;</td></tr><tr><td>&quot;2e89652e&quot;</td></tr><tr><td>&quot;2d03c3f8&quot;</td></tr><tr><td>&quot;17fbaab5&quot;</td></tr><tr><td>&quot;bbd41817&quot;</td></tr><tr><td>&quot;498aacac&quot;</td></tr></tbody></table></div>"
      ],
      "text/plain": [
       "shape: (3_503,)\n",
       "Series: 'player_id' [str]\n",
       "[\n",
       "\t\"cad11a02\"\n",
       "\t\"7f74b21d\"\n",
       "\t\"441b1b20\"\n",
       "\t\"abb7c76c\"\n",
       "\t\"6b71e6cf\"\n",
       "\t…\n",
       "\t\"2e89652e\"\n",
       "\t\"2d03c3f8\"\n",
       "\t\"17fbaab5\"\n",
       "\t\"bbd41817\"\n",
       "\t\"498aacac\"\n",
       "]"
      ]
     },
     "execution_count": 35,
     "metadata": {},
     "output_type": "execute_result"
    }
   ],
   "source": [
    "batting_data['player_id'].unique()"
   ]
  },
  {
   "cell_type": "code",
   "execution_count": 32,
   "metadata": {},
   "outputs": [
    {
     "data": {
      "text/html": [
       "<div><style>\n",
       ".dataframe > thead > tr,\n",
       ".dataframe > tbody > tr {\n",
       "  text-align: right;\n",
       "  white-space: pre-wrap;\n",
       "}\n",
       "</style>\n",
       "<small>shape: (3_493,)</small><table border=\"1\" class=\"dataframe\"><thead><tr><th>player_id</th></tr><tr><td>str</td></tr></thead><tbody><tr><td>&quot;addfb70e&quot;</td></tr><tr><td>&quot;e174dadd&quot;</td></tr><tr><td>&quot;59792462&quot;</td></tr><tr><td>&quot;922e3dcc&quot;</td></tr><tr><td>&quot;881a9bdd&quot;</td></tr><tr><td>&hellip;</td></tr><tr><td>&quot;19758a47&quot;</td></tr><tr><td>&quot;f208fe04&quot;</td></tr><tr><td>&quot;63772ee4&quot;</td></tr><tr><td>&quot;fccebff9&quot;</td></tr><tr><td>&quot;a62f55ba&quot;</td></tr></tbody></table></div>"
      ],
      "text/plain": [
       "shape: (3_493,)\n",
       "Series: 'player_id' [str]\n",
       "[\n",
       "\t\"addfb70e\"\n",
       "\t\"e174dadd\"\n",
       "\t\"59792462\"\n",
       "\t\"922e3dcc\"\n",
       "\t\"881a9bdd\"\n",
       "\t…\n",
       "\t\"19758a47\"\n",
       "\t\"f208fe04\"\n",
       "\t\"63772ee4\"\n",
       "\t\"fccebff9\"\n",
       "\t\"a62f55ba\"\n",
       "]"
      ]
     },
     "execution_count": 32,
     "metadata": {},
     "output_type": "execute_result"
    }
   ],
   "source": [
    "player_data = batting_data.join(bowling_data, on=['player_id'], how='inner').drop(\"Player_right\")\n",
    "# player_data = player_data.filter(player_data['player_id']).unique()\n",
    "player_data['player_id'].unique()"
   ]
  },
  {
   "cell_type": "code",
   "execution_count": null,
   "metadata": {},
   "outputs": [],
   "source": []
  },
  {
   "cell_type": "code",
   "execution_count": 30,
   "metadata": {},
   "outputs": [
    {
     "data": {
      "text/html": [
       "<div><style>\n",
       ".dataframe > thead > tr,\n",
       ".dataframe > tbody > tr {\n",
       "  text-align: right;\n",
       "  white-space: pre-wrap;\n",
       "}\n",
       "</style>\n",
       "<small>shape: (3_914, 8)</small><table border=\"1\" class=\"dataframe\"><thead><tr><th>player_id</th><th>Player</th><th>Mat</th><th>SR</th><th>Overs</th><th>Wkts</th><th>Econ</th><th>D/I</th></tr><tr><td>str</td><td>str</td><td>i64</td><td>f64</td><td>f64</td><td>f64</td><td>f64</td><td>f64</td></tr></thead><tbody><tr><td>&quot;f80682f8&quot;</td><td>&quot;Ravinderpal Singh&quot;</td><td>35</td><td>145.23</td><td>1.1</td><td>2.0</td><td>12.0</td><td>0.588</td></tr><tr><td>&quot;31080a88&quot;</td><td>&quot;Aslam Khan&quot;</td><td>9</td><td>108.33</td><td>0.0</td><td>0.0</td><td>0.0</td><td>0.444</td></tr><tr><td>&quot;5aeab54c&quot;</td><td>&quot;Ihsanullah&quot;</td><td>1</td><td>142.85</td><td>0.0</td><td>0.0</td><td>0.0</td><td>0.0</td></tr><tr><td>&quot;a049c39b&quot;</td><td>&quot;Tariq Aziz&quot;</td><td>4</td><td>85.1</td><td>16.0</td><td>6.0</td><td>4.37</td><td>0.0</td></tr><tr><td>&quot;321fcf79&quot;</td><td>&quot;S Singh&quot;</td><td>1</td><td>0.0</td><td>0.0</td><td>0.0</td><td>0.0</td><td>0.0</td></tr><tr><td>&hellip;</td><td>&hellip;</td><td>&hellip;</td><td>&hellip;</td><td>&hellip;</td><td>&hellip;</td><td>&hellip;</td><td>&hellip;</td></tr><tr><td>&quot;615688b6&quot;</td><td>&quot;Usman Najeeb&quot;</td><td>20</td><td>102.98</td><td>70.3</td><td>34.0</td><td>7.67</td><td>0.25</td></tr><tr><td>&quot;d1761087&quot;</td><td>&quot;RM West&quot;</td><td>5</td><td>100.0</td><td>19.0</td><td>3.0</td><td>7.47</td><td>0.2</td></tr><tr><td>&quot;7c840f73&quot;</td><td>&quot;R Pathan&quot;</td><td>14</td><td>157.42</td><td>2.0</td><td>0.0</td><td>12.0</td><td>0.0</td></tr><tr><td>&quot;b67bfaae&quot;</td><td>&quot;GE Mathurin&quot;</td><td>3</td><td>80.0</td><td>10.0</td><td>4.0</td><td>6.5</td><td>0.333</td></tr><tr><td>&quot;79209272&quot;</td><td>&quot;Yasir Ali&quot;</td><td>11</td><td>142.22</td><td>96.2</td><td>45.0</td><td>6.13</td><td>0.394</td></tr></tbody></table></div>"
      ],
      "text/plain": [
       "shape: (3_914, 8)\n",
       "┌───────────┬───────────────────┬─────┬────────┬───────┬──────┬──────┬───────┐\n",
       "│ player_id ┆ Player            ┆ Mat ┆ SR     ┆ Overs ┆ Wkts ┆ Econ ┆ D/I   │\n",
       "│ ---       ┆ ---               ┆ --- ┆ ---    ┆ ---   ┆ ---  ┆ ---  ┆ ---   │\n",
       "│ str       ┆ str               ┆ i64 ┆ f64    ┆ f64   ┆ f64  ┆ f64  ┆ f64   │\n",
       "╞═══════════╪═══════════════════╪═════╪════════╪═══════╪══════╪══════╪═══════╡\n",
       "│ f80682f8  ┆ Ravinderpal Singh ┆ 35  ┆ 145.23 ┆ 1.1   ┆ 2.0  ┆ 12.0 ┆ 0.588 │\n",
       "│ 31080a88  ┆ Aslam Khan        ┆ 9   ┆ 108.33 ┆ 0.0   ┆ 0.0  ┆ 0.0  ┆ 0.444 │\n",
       "│ 5aeab54c  ┆ Ihsanullah        ┆ 1   ┆ 142.85 ┆ 0.0   ┆ 0.0  ┆ 0.0  ┆ 0.0   │\n",
       "│ a049c39b  ┆ Tariq Aziz        ┆ 4   ┆ 85.1   ┆ 16.0  ┆ 6.0  ┆ 4.37 ┆ 0.0   │\n",
       "│ 321fcf79  ┆ S Singh           ┆ 1   ┆ 0.0    ┆ 0.0   ┆ 0.0  ┆ 0.0  ┆ 0.0   │\n",
       "│ …         ┆ …                 ┆ …   ┆ …      ┆ …     ┆ …    ┆ …    ┆ …     │\n",
       "│ 615688b6  ┆ Usman Najeeb      ┆ 20  ┆ 102.98 ┆ 70.3  ┆ 34.0 ┆ 7.67 ┆ 0.25  │\n",
       "│ d1761087  ┆ RM West           ┆ 5   ┆ 100.0  ┆ 19.0  ┆ 3.0  ┆ 7.47 ┆ 0.2   │\n",
       "│ 7c840f73  ┆ R Pathan          ┆ 14  ┆ 157.42 ┆ 2.0   ┆ 0.0  ┆ 12.0 ┆ 0.0   │\n",
       "│ b67bfaae  ┆ GE Mathurin       ┆ 3   ┆ 80.0   ┆ 10.0  ┆ 4.0  ┆ 6.5  ┆ 0.333 │\n",
       "│ 79209272  ┆ Yasir Ali         ┆ 11  ┆ 142.22 ┆ 96.2  ┆ 45.0 ┆ 6.13 ┆ 0.394 │\n",
       "└───────────┴───────────────────┴─────┴────────┴───────┴──────┴──────┴───────┘"
      ]
     },
     "execution_count": 30,
     "metadata": {},
     "output_type": "execute_result"
    }
   ],
   "source": [
    "player_data = player_data.join(fielding_data, on='player_id', how='inner').drop(\"Player_right\").unique()\n",
    "player_data"
   ]
  },
  {
   "cell_type": "code",
   "execution_count": 31,
   "metadata": {},
   "outputs": [],
   "source": [
    "player_data.write_csv(r'D:\\github\\localt20\\processedData\\playerStats.csv')"
   ]
  }
 ],
 "metadata": {
  "kernelspec": {
   "display_name": "eda",
   "language": "python",
   "name": "python3"
  },
  "language_info": {
   "codemirror_mode": {
    "name": "ipython",
    "version": 3
   },
   "file_extension": ".py",
   "mimetype": "text/x-python",
   "name": "python",
   "nbconvert_exporter": "python",
   "pygments_lexer": "ipython3",
   "version": "3.8.19"
  }
 },
 "nbformat": 4,
 "nbformat_minor": 2
}
