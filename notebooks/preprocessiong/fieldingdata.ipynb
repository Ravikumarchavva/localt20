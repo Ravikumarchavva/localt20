{
 "cells": [
  {
   "cell_type": "code",
   "execution_count": 23,
   "metadata": {},
   "outputs": [
    {
     "data": {
      "text/html": [
       "<div><style>\n",
       ".dataframe > thead > tr,\n",
       ".dataframe > tbody > tr {\n",
       "  text-align: right;\n",
       "  white-space: pre-wrap;\n",
       "}\n",
       "</style>\n",
       "<small>shape: (11_221, 11)</small><table border=\"1\" class=\"dataframe\"><thead><tr><th>Player</th><th>Mat</th><th>Inns</th><th>Dis</th><th>Ct</th><th>St</th><th>Ct Wk</th><th>Ct Fi</th><th>MD</th><th>D/I</th><th>Season</th></tr><tr><td>str</td><td>i64</td><td>str</td><td>str</td><td>str</td><td>str</td><td>str</td><td>str</td><td>str</td><td>str</td><td>str</td></tr></thead><tbody><tr><td>&quot;Zulqarnain Haider (ESP)&quot;</td><td>4</td><td>&quot;4&quot;</td><td>&quot;1&quot;</td><td>&quot;1&quot;</td><td>&quot;0&quot;</td><td>&quot;0&quot;</td><td>&quot;1&quot;</td><td>&quot;1 (1ct 0st)&quot;</td><td>&quot;0.25&quot;</td><td>&quot;2019&quot;</td></tr><tr><td>&quot;Zulqarnain Haider (ESP)&quot;</td><td>1</td><td>&quot;1&quot;</td><td>&quot;0&quot;</td><td>&quot;0&quot;</td><td>&quot;0&quot;</td><td>&quot;0&quot;</td><td>&quot;0&quot;</td><td>&quot;0&quot;</td><td>&quot;0.0&quot;</td><td>&quot;2019/20&quot;</td></tr><tr><td>&quot;Zulqarnain Haider (ESP)&quot;</td><td>6</td><td>&quot;6&quot;</td><td>&quot;0&quot;</td><td>&quot;0&quot;</td><td>&quot;0&quot;</td><td>&quot;0&quot;</td><td>&quot;0&quot;</td><td>&quot;0&quot;</td><td>&quot;0.0&quot;</td><td>&quot;2022&quot;</td></tr><tr><td>&quot;Zulfiqar Ali Shah (PORT)&quot;</td><td>1</td><td>&quot;1&quot;</td><td>&quot;0&quot;</td><td>&quot;0&quot;</td><td>&quot;0&quot;</td><td>&quot;0&quot;</td><td>&quot;0&quot;</td><td>&quot;0&quot;</td><td>&quot;0.0&quot;</td><td>&quot;2021&quot;</td></tr><tr><td>&quot;Zuhair Muhammad (KSA)&quot;</td><td>2</td><td>&quot;2&quot;</td><td>&quot;0&quot;</td><td>&quot;0&quot;</td><td>&quot;0&quot;</td><td>&quot;0&quot;</td><td>&quot;0&quot;</td><td>&quot;0&quot;</td><td>&quot;0.0&quot;</td><td>&quot;2023/24&quot;</td></tr><tr><td>&hellip;</td><td>&hellip;</td><td>&hellip;</td><td>&hellip;</td><td>&hellip;</td><td>&hellip;</td><td>&hellip;</td><td>&hellip;</td><td>&hellip;</td><td>&hellip;</td><td>&hellip;</td></tr><tr><td>&quot;A Ahmadhel (BUL)&quot;</td><td>3</td><td>&quot;3&quot;</td><td>&quot;0&quot;</td><td>&quot;0&quot;</td><td>&quot;0&quot;</td><td>&quot;0&quot;</td><td>&quot;0&quot;</td><td>&quot;0&quot;</td><td>&quot;0.0&quot;</td><td>&quot;2019/20&quot;</td></tr><tr><td>&quot;A Ahmadhel (BUL)&quot;</td><td>1</td><td>&quot;1&quot;</td><td>&quot;1&quot;</td><td>&quot;1&quot;</td><td>&quot;0&quot;</td><td>&quot;0&quot;</td><td>&quot;1&quot;</td><td>&quot;1 (1ct 0st)&quot;</td><td>&quot;1.0&quot;</td><td>&quot;2024&quot;</td></tr><tr><td>&quot;A Ahmadhel (BUL)&quot;</td><td>2</td><td>&quot;1&quot;</td><td>&quot;0&quot;</td><td>&quot;0&quot;</td><td>&quot;0&quot;</td><td>&quot;0&quot;</td><td>&quot;0&quot;</td><td>&quot;0&quot;</td><td>&quot;0.0&quot;</td><td>&quot;2023&quot;</td></tr><tr><td>&quot;A Ahmadhel (BUL)&quot;</td><td>2</td><td>&quot;2&quot;</td><td>&quot;0&quot;</td><td>&quot;0&quot;</td><td>&quot;0&quot;</td><td>&quot;0&quot;</td><td>&quot;0&quot;</td><td>&quot;0&quot;</td><td>&quot;0.0&quot;</td><td>&quot;2020/21&quot;</td></tr><tr><td>&quot;A Ahmadhel (BUL)&quot;</td><td>3</td><td>&quot;3&quot;</td><td>&quot;0&quot;</td><td>&quot;0&quot;</td><td>&quot;0&quot;</td><td>&quot;0&quot;</td><td>&quot;0&quot;</td><td>&quot;0&quot;</td><td>&quot;0.0&quot;</td><td>&quot;2021&quot;</td></tr></tbody></table></div>"
      ],
      "text/plain": [
       "shape: (11_221, 11)\n",
       "┌──────────────────────────┬─────┬──────┬─────┬───┬───────┬─────────────┬──────┬─────────┐\n",
       "│ Player                   ┆ Mat ┆ Inns ┆ Dis ┆ … ┆ Ct Fi ┆ MD          ┆ D/I  ┆ Season  │\n",
       "│ ---                      ┆ --- ┆ ---  ┆ --- ┆   ┆ ---   ┆ ---         ┆ ---  ┆ ---     │\n",
       "│ str                      ┆ i64 ┆ str  ┆ str ┆   ┆ str   ┆ str         ┆ str  ┆ str     │\n",
       "╞══════════════════════════╪═════╪══════╪═════╪═══╪═══════╪═════════════╪══════╪═════════╡\n",
       "│ Zulqarnain Haider (ESP)  ┆ 4   ┆ 4    ┆ 1   ┆ … ┆ 1     ┆ 1 (1ct 0st) ┆ 0.25 ┆ 2019    │\n",
       "│ Zulqarnain Haider (ESP)  ┆ 1   ┆ 1    ┆ 0   ┆ … ┆ 0     ┆ 0           ┆ 0.0  ┆ 2019/20 │\n",
       "│ Zulqarnain Haider (ESP)  ┆ 6   ┆ 6    ┆ 0   ┆ … ┆ 0     ┆ 0           ┆ 0.0  ┆ 2022    │\n",
       "│ Zulfiqar Ali Shah (PORT) ┆ 1   ┆ 1    ┆ 0   ┆ … ┆ 0     ┆ 0           ┆ 0.0  ┆ 2021    │\n",
       "│ Zuhair Muhammad (KSA)    ┆ 2   ┆ 2    ┆ 0   ┆ … ┆ 0     ┆ 0           ┆ 0.0  ┆ 2023/24 │\n",
       "│ …                        ┆ …   ┆ …    ┆ …   ┆ … ┆ …     ┆ …           ┆ …    ┆ …       │\n",
       "│ A Ahmadhel (BUL)         ┆ 3   ┆ 3    ┆ 0   ┆ … ┆ 0     ┆ 0           ┆ 0.0  ┆ 2019/20 │\n",
       "│ A Ahmadhel (BUL)         ┆ 1   ┆ 1    ┆ 1   ┆ … ┆ 1     ┆ 1 (1ct 0st) ┆ 1.0  ┆ 2024    │\n",
       "│ A Ahmadhel (BUL)         ┆ 2   ┆ 1    ┆ 0   ┆ … ┆ 0     ┆ 0           ┆ 0.0  ┆ 2023    │\n",
       "│ A Ahmadhel (BUL)         ┆ 2   ┆ 2    ┆ 0   ┆ … ┆ 0     ┆ 0           ┆ 0.0  ┆ 2020/21 │\n",
       "│ A Ahmadhel (BUL)         ┆ 3   ┆ 3    ┆ 0   ┆ … ┆ 0     ┆ 0           ┆ 0.0  ┆ 2021    │\n",
       "└──────────────────────────┴─────┴──────┴─────┴───┴───────┴─────────────┴──────┴─────────┘"
      ]
     },
     "execution_count": 23,
     "metadata": {},
     "output_type": "execute_result"
    }
   ],
   "source": [
    "import os\n",
    "import glob\n",
    "import polars as pl\n",
    "import pandas as pd\n",
    "\n",
    "# Specify the directory where your CSV files are located\n",
    "directory = r'D:\\github\\localt20\\data'\n",
    "\n",
    "fielding_data = pl.read_csv(os.path.join(directory, 't20_fielding_stats.csv'),infer_schema_length=4000)\n",
    "fielding_data"
   ]
  },
  {
   "cell_type": "code",
   "execution_count": 26,
   "metadata": {},
   "outputs": [
    {
     "data": {
      "text/html": [
       "<div><style>\n",
       ".dataframe > thead > tr,\n",
       ".dataframe > tbody > tr {\n",
       "  text-align: right;\n",
       "  white-space: pre-wrap;\n",
       "}\n",
       "</style>\n",
       "<small>shape: (11_221, 7)</small><table border=\"1\" class=\"dataframe\"><thead><tr><th>Player</th><th>Mat</th><th>Dis</th><th>Ct</th><th>St</th><th>D/I</th><th>Season</th></tr><tr><td>str</td><td>i64</td><td>str</td><td>str</td><td>str</td><td>str</td><td>str</td></tr></thead><tbody><tr><td>&quot;A Ahmadhel&quot;</td><td>3</td><td>&quot;0&quot;</td><td>&quot;0&quot;</td><td>&quot;0&quot;</td><td>&quot;0.0&quot;</td><td>&quot;2019/20&quot;</td></tr><tr><td>&quot;A Ahmadhel&quot;</td><td>1</td><td>&quot;0&quot;</td><td>&quot;0&quot;</td><td>&quot;0&quot;</td><td>&quot;0.0&quot;</td><td>&quot;2020&quot;</td></tr><tr><td>&quot;A Ahmadhel&quot;</td><td>2</td><td>&quot;0&quot;</td><td>&quot;0&quot;</td><td>&quot;0&quot;</td><td>&quot;0.0&quot;</td><td>&quot;2020/21&quot;</td></tr><tr><td>&quot;A Ahmadhel&quot;</td><td>3</td><td>&quot;0&quot;</td><td>&quot;0&quot;</td><td>&quot;0&quot;</td><td>&quot;0.0&quot;</td><td>&quot;2021&quot;</td></tr><tr><td>&quot;A Ahmadhel&quot;</td><td>2</td><td>&quot;0&quot;</td><td>&quot;0&quot;</td><td>&quot;0&quot;</td><td>&quot;0.0&quot;</td><td>&quot;2023&quot;</td></tr><tr><td>&hellip;</td><td>&hellip;</td><td>&hellip;</td><td>&hellip;</td><td>&hellip;</td><td>&hellip;</td><td>&hellip;</td></tr><tr><td>&quot;Zuhair Muhammad&quot;</td><td>2</td><td>&quot;0&quot;</td><td>&quot;0&quot;</td><td>&quot;0&quot;</td><td>&quot;0.0&quot;</td><td>&quot;2023/24&quot;</td></tr><tr><td>&quot;Zulfiqar Ali Shah&quot;</td><td>1</td><td>&quot;0&quot;</td><td>&quot;0&quot;</td><td>&quot;0&quot;</td><td>&quot;0.0&quot;</td><td>&quot;2021&quot;</td></tr><tr><td>&quot;Zulqarnain Haider&quot;</td><td>4</td><td>&quot;1&quot;</td><td>&quot;1&quot;</td><td>&quot;0&quot;</td><td>&quot;0.25&quot;</td><td>&quot;2019&quot;</td></tr><tr><td>&quot;Zulqarnain Haider&quot;</td><td>1</td><td>&quot;0&quot;</td><td>&quot;0&quot;</td><td>&quot;0&quot;</td><td>&quot;0.0&quot;</td><td>&quot;2019/20&quot;</td></tr><tr><td>&quot;Zulqarnain Haider&quot;</td><td>6</td><td>&quot;0&quot;</td><td>&quot;0&quot;</td><td>&quot;0&quot;</td><td>&quot;0.0&quot;</td><td>&quot;2022&quot;</td></tr></tbody></table></div>"
      ],
      "text/plain": [
       "shape: (11_221, 7)\n",
       "┌───────────────────┬─────┬─────┬─────┬─────┬──────┬─────────┐\n",
       "│ Player            ┆ Mat ┆ Dis ┆ Ct  ┆ St  ┆ D/I  ┆ Season  │\n",
       "│ ---               ┆ --- ┆ --- ┆ --- ┆ --- ┆ ---  ┆ ---     │\n",
       "│ str               ┆ i64 ┆ str ┆ str ┆ str ┆ str  ┆ str     │\n",
       "╞═══════════════════╪═════╪═════╪═════╪═════╪══════╪═════════╡\n",
       "│ A Ahmadhel        ┆ 3   ┆ 0   ┆ 0   ┆ 0   ┆ 0.0  ┆ 2019/20 │\n",
       "│ A Ahmadhel        ┆ 1   ┆ 0   ┆ 0   ┆ 0   ┆ 0.0  ┆ 2020    │\n",
       "│ A Ahmadhel        ┆ 2   ┆ 0   ┆ 0   ┆ 0   ┆ 0.0  ┆ 2020/21 │\n",
       "│ A Ahmadhel        ┆ 3   ┆ 0   ┆ 0   ┆ 0   ┆ 0.0  ┆ 2021    │\n",
       "│ A Ahmadhel        ┆ 2   ┆ 0   ┆ 0   ┆ 0   ┆ 0.0  ┆ 2023    │\n",
       "│ …                 ┆ …   ┆ …   ┆ …   ┆ …   ┆ …    ┆ …       │\n",
       "│ Zuhair Muhammad   ┆ 2   ┆ 0   ┆ 0   ┆ 0   ┆ 0.0  ┆ 2023/24 │\n",
       "│ Zulfiqar Ali Shah ┆ 1   ┆ 0   ┆ 0   ┆ 0   ┆ 0.0  ┆ 2021    │\n",
       "│ Zulqarnain Haider ┆ 4   ┆ 1   ┆ 1   ┆ 0   ┆ 0.25 ┆ 2019    │\n",
       "│ Zulqarnain Haider ┆ 1   ┆ 0   ┆ 0   ┆ 0   ┆ 0.0  ┆ 2019/20 │\n",
       "│ Zulqarnain Haider ┆ 6   ┆ 0   ┆ 0   ┆ 0   ┆ 0.0  ┆ 2022    │\n",
       "└───────────────────┴─────┴─────┴─────┴─────┴──────┴─────────┘"
      ]
     },
     "execution_count": 26,
     "metadata": {},
     "output_type": "execute_result"
    }
   ],
   "source": [
    "fielding_data = fielding_data.select(['Player',\"Mat\",\"Dis\",\"Ct\",\"St\",\"D/I\",\"Season\"]).sort([\"Player\",\"Season\"])\n",
    "fielding_data"
   ]
  },
  {
   "cell_type": "code",
   "execution_count": 27,
   "metadata": {},
   "outputs": [
    {
     "data": {
      "text/html": [
       "<div><style>\n",
       ".dataframe > thead > tr,\n",
       ".dataframe > tbody > tr {\n",
       "  text-align: right;\n",
       "  white-space: pre-wrap;\n",
       "}\n",
       "</style>\n",
       "<small>shape: (11_221, 7)</small><table border=\"1\" class=\"dataframe\"><thead><tr><th>Player</th><th>Mat</th><th>Dis</th><th>Ct</th><th>St</th><th>D/I</th><th>Season</th></tr><tr><td>str</td><td>i64</td><td>str</td><td>str</td><td>str</td><td>str</td><td>str</td></tr></thead><tbody><tr><td>&quot;A Ahmadhel&quot;</td><td>3</td><td>&quot;0&quot;</td><td>&quot;0&quot;</td><td>&quot;0&quot;</td><td>&quot;0.0&quot;</td><td>&quot;2019/20&quot;</td></tr><tr><td>&quot;A Ahmadhel&quot;</td><td>1</td><td>&quot;0&quot;</td><td>&quot;0&quot;</td><td>&quot;0&quot;</td><td>&quot;0.0&quot;</td><td>&quot;2020&quot;</td></tr><tr><td>&quot;A Ahmadhel&quot;</td><td>2</td><td>&quot;0&quot;</td><td>&quot;0&quot;</td><td>&quot;0&quot;</td><td>&quot;0.0&quot;</td><td>&quot;2020/21&quot;</td></tr><tr><td>&quot;A Ahmadhel&quot;</td><td>3</td><td>&quot;0&quot;</td><td>&quot;0&quot;</td><td>&quot;0&quot;</td><td>&quot;0.0&quot;</td><td>&quot;2021&quot;</td></tr><tr><td>&quot;A Ahmadhel&quot;</td><td>2</td><td>&quot;0&quot;</td><td>&quot;0&quot;</td><td>&quot;0&quot;</td><td>&quot;0.0&quot;</td><td>&quot;2023&quot;</td></tr><tr><td>&hellip;</td><td>&hellip;</td><td>&hellip;</td><td>&hellip;</td><td>&hellip;</td><td>&hellip;</td><td>&hellip;</td></tr><tr><td>&quot;Zuhair Muhammad&quot;</td><td>2</td><td>&quot;0&quot;</td><td>&quot;0&quot;</td><td>&quot;0&quot;</td><td>&quot;0.0&quot;</td><td>&quot;2023/24&quot;</td></tr><tr><td>&quot;Zulfiqar Ali Shah&quot;</td><td>1</td><td>&quot;0&quot;</td><td>&quot;0&quot;</td><td>&quot;0&quot;</td><td>&quot;0.0&quot;</td><td>&quot;2021&quot;</td></tr><tr><td>&quot;Zulqarnain Haider&quot;</td><td>4</td><td>&quot;1&quot;</td><td>&quot;1&quot;</td><td>&quot;0&quot;</td><td>&quot;0.25&quot;</td><td>&quot;2019&quot;</td></tr><tr><td>&quot;Zulqarnain Haider&quot;</td><td>1</td><td>&quot;0&quot;</td><td>&quot;0&quot;</td><td>&quot;0&quot;</td><td>&quot;0.0&quot;</td><td>&quot;2019/20&quot;</td></tr><tr><td>&quot;Zulqarnain Haider&quot;</td><td>6</td><td>&quot;0&quot;</td><td>&quot;0&quot;</td><td>&quot;0&quot;</td><td>&quot;0.0&quot;</td><td>&quot;2022&quot;</td></tr></tbody></table></div>"
      ],
      "text/plain": [
       "shape: (11_221, 7)\n",
       "┌───────────────────┬─────┬─────┬─────┬─────┬──────┬─────────┐\n",
       "│ Player            ┆ Mat ┆ Dis ┆ Ct  ┆ St  ┆ D/I  ┆ Season  │\n",
       "│ ---               ┆ --- ┆ --- ┆ --- ┆ --- ┆ ---  ┆ ---     │\n",
       "│ str               ┆ i64 ┆ str ┆ str ┆ str ┆ str  ┆ str     │\n",
       "╞═══════════════════╪═════╪═════╪═════╪═════╪══════╪═════════╡\n",
       "│ A Ahmadhel        ┆ 3   ┆ 0   ┆ 0   ┆ 0   ┆ 0.0  ┆ 2019/20 │\n",
       "│ A Ahmadhel        ┆ 1   ┆ 0   ┆ 0   ┆ 0   ┆ 0.0  ┆ 2020    │\n",
       "│ A Ahmadhel        ┆ 2   ┆ 0   ┆ 0   ┆ 0   ┆ 0.0  ┆ 2020/21 │\n",
       "│ A Ahmadhel        ┆ 3   ┆ 0   ┆ 0   ┆ 0   ┆ 0.0  ┆ 2021    │\n",
       "│ A Ahmadhel        ┆ 2   ┆ 0   ┆ 0   ┆ 0   ┆ 0.0  ┆ 2023    │\n",
       "│ …                 ┆ …   ┆ …   ┆ …   ┆ …   ┆ …    ┆ …       │\n",
       "│ Zuhair Muhammad   ┆ 2   ┆ 0   ┆ 0   ┆ 0   ┆ 0.0  ┆ 2023/24 │\n",
       "│ Zulfiqar Ali Shah ┆ 1   ┆ 0   ┆ 0   ┆ 0   ┆ 0.0  ┆ 2021    │\n",
       "│ Zulqarnain Haider ┆ 4   ┆ 1   ┆ 1   ┆ 0   ┆ 0.25 ┆ 2019    │\n",
       "│ Zulqarnain Haider ┆ 1   ┆ 0   ┆ 0   ┆ 0   ┆ 0.0  ┆ 2019/20 │\n",
       "│ Zulqarnain Haider ┆ 6   ┆ 0   ┆ 0   ┆ 0   ┆ 0.0  ┆ 2022    │\n",
       "└───────────────────┴─────┴─────┴─────┴─────┴──────┴─────────┘"
      ]
     },
     "execution_count": 27,
     "metadata": {},
     "output_type": "execute_result"
    }
   ],
   "source": [
    "fielding_data = fielding_data.with_columns(fielding_data['Player'].str.split_exact(' (', n=1).struct.rename_fields(['Player', 'Country']).alias('Player').to_frame().unnest('Player').drop(\"Country\"))\n",
    "fielding_data"
   ]
  },
  {
   "cell_type": "code",
   "execution_count": 30,
   "metadata": {},
   "outputs": [
    {
     "data": {
      "text/html": [
       "<div><style>\n",
       ".dataframe > thead > tr,\n",
       ".dataframe > tbody > tr {\n",
       "  text-align: right;\n",
       "  white-space: pre-wrap;\n",
       "}\n",
       "</style>\n",
       "<small>shape: (11_221, 7)</small><table border=\"1\" class=\"dataframe\"><thead><tr><th>Player</th><th>Mat</th><th>Dis</th><th>Ct</th><th>St</th><th>D/I</th><th>Season</th></tr><tr><td>str</td><td>i64</td><td>f64</td><td>f64</td><td>f64</td><td>f64</td><td>str</td></tr></thead><tbody><tr><td>&quot;A Ahmadhel&quot;</td><td>3</td><td>0.0</td><td>0.0</td><td>0.0</td><td>0.0</td><td>&quot;2019/20&quot;</td></tr><tr><td>&quot;A Ahmadhel&quot;</td><td>1</td><td>0.0</td><td>0.0</td><td>0.0</td><td>0.0</td><td>&quot;2020&quot;</td></tr><tr><td>&quot;A Ahmadhel&quot;</td><td>2</td><td>0.0</td><td>0.0</td><td>0.0</td><td>0.0</td><td>&quot;2020/21&quot;</td></tr><tr><td>&quot;A Ahmadhel&quot;</td><td>3</td><td>0.0</td><td>0.0</td><td>0.0</td><td>0.0</td><td>&quot;2021&quot;</td></tr><tr><td>&quot;A Ahmadhel&quot;</td><td>2</td><td>0.0</td><td>0.0</td><td>0.0</td><td>0.0</td><td>&quot;2023&quot;</td></tr><tr><td>&hellip;</td><td>&hellip;</td><td>&hellip;</td><td>&hellip;</td><td>&hellip;</td><td>&hellip;</td><td>&hellip;</td></tr><tr><td>&quot;Zuhair Muhammad&quot;</td><td>2</td><td>0.0</td><td>0.0</td><td>0.0</td><td>0.0</td><td>&quot;2023/24&quot;</td></tr><tr><td>&quot;Zulfiqar Ali Shah&quot;</td><td>1</td><td>0.0</td><td>0.0</td><td>0.0</td><td>0.0</td><td>&quot;2021&quot;</td></tr><tr><td>&quot;Zulqarnain Haider&quot;</td><td>4</td><td>1.0</td><td>1.0</td><td>0.0</td><td>0.25</td><td>&quot;2019&quot;</td></tr><tr><td>&quot;Zulqarnain Haider&quot;</td><td>1</td><td>0.0</td><td>0.0</td><td>0.0</td><td>0.0</td><td>&quot;2019/20&quot;</td></tr><tr><td>&quot;Zulqarnain Haider&quot;</td><td>6</td><td>0.0</td><td>0.0</td><td>0.0</td><td>0.0</td><td>&quot;2022&quot;</td></tr></tbody></table></div>"
      ],
      "text/plain": [
       "shape: (11_221, 7)\n",
       "┌───────────────────┬─────┬─────┬─────┬─────┬──────┬─────────┐\n",
       "│ Player            ┆ Mat ┆ Dis ┆ Ct  ┆ St  ┆ D/I  ┆ Season  │\n",
       "│ ---               ┆ --- ┆ --- ┆ --- ┆ --- ┆ ---  ┆ ---     │\n",
       "│ str               ┆ i64 ┆ f64 ┆ f64 ┆ f64 ┆ f64  ┆ str     │\n",
       "╞═══════════════════╪═════╪═════╪═════╪═════╪══════╪═════════╡\n",
       "│ A Ahmadhel        ┆ 3   ┆ 0.0 ┆ 0.0 ┆ 0.0 ┆ 0.0  ┆ 2019/20 │\n",
       "│ A Ahmadhel        ┆ 1   ┆ 0.0 ┆ 0.0 ┆ 0.0 ┆ 0.0  ┆ 2020    │\n",
       "│ A Ahmadhel        ┆ 2   ┆ 0.0 ┆ 0.0 ┆ 0.0 ┆ 0.0  ┆ 2020/21 │\n",
       "│ A Ahmadhel        ┆ 3   ┆ 0.0 ┆ 0.0 ┆ 0.0 ┆ 0.0  ┆ 2021    │\n",
       "│ A Ahmadhel        ┆ 2   ┆ 0.0 ┆ 0.0 ┆ 0.0 ┆ 0.0  ┆ 2023    │\n",
       "│ …                 ┆ …   ┆ …   ┆ …   ┆ …   ┆ …    ┆ …       │\n",
       "│ Zuhair Muhammad   ┆ 2   ┆ 0.0 ┆ 0.0 ┆ 0.0 ┆ 0.0  ┆ 2023/24 │\n",
       "│ Zulfiqar Ali Shah ┆ 1   ┆ 0.0 ┆ 0.0 ┆ 0.0 ┆ 0.0  ┆ 2021    │\n",
       "│ Zulqarnain Haider ┆ 4   ┆ 1.0 ┆ 1.0 ┆ 0.0 ┆ 0.25 ┆ 2019    │\n",
       "│ Zulqarnain Haider ┆ 1   ┆ 0.0 ┆ 0.0 ┆ 0.0 ┆ 0.0  ┆ 2019/20 │\n",
       "│ Zulqarnain Haider ┆ 6   ┆ 0.0 ┆ 0.0 ┆ 0.0 ┆ 0.0  ┆ 2022    │\n",
       "└───────────────────┴─────┴─────┴─────┴─────┴──────┴─────────┘"
      ]
     },
     "execution_count": 30,
     "metadata": {},
     "output_type": "execute_result"
    }
   ],
   "source": [
    "fielding_data = fielding_data.with_columns(pl.col(\"Dis\").str.replace('-',pl.lit(\"0\")).cast(pl.Float64))\n",
    "fielding_data = fielding_data.with_columns(pl.col(\"Ct\").str.replace('-',pl.lit(\"0\")).cast(pl.Float64))\n",
    "fielding_data = fielding_data.with_columns(pl.col(\"St\").str.replace('-',pl.lit(\"0\")).cast(pl.Float64))\n",
    "fielding_data = fielding_data.with_columns(pl.col(\"D/I\").str.replace('-',pl.lit(\"0\")).cast(pl.Float64))\n",
    "fielding_data"
   ]
  },
  {
   "cell_type": "code",
   "execution_count": null,
   "metadata": {},
   "outputs": [],
   "source": [
    "# bowling_data = bowling_data.with_columns(\n",
    "#     pl.col(\"Overs\").cum_sum().over([\"Player\",\"Country\"]),\n",
    "#     pl.col(\"Wkts\").cum_sum().over([\"Player\",\"Country\"]),\n",
    "#     pl.col(\"Econ\").cum_sum().over([\"Player\",\"Country\"]) / pl.col(\"Overs\").cum_count().over([\"Player\",\"Country\"])\n",
    "# )\n",
    "# bowling_data\n",
    "\n",
    "fielding_data = fielding_data.with_columns(\n",
    "    pl.col(\"Dis\").cum_sum().over([\"Player\"]),\n",
    "    pl.col(\"Ct\").cum_sum().over([\"Player\"]),\n",
    "    pl.col(\"St\").cum_sum().over([\"Player\"]),\n",
    "    pl.col(\"D/I\").cum_sum().over([\"Player\"])\n",
    ")\n",
    "fielding_data"
   ]
  },
  {
   "cell_type": "code",
   "execution_count": 29,
   "metadata": {},
   "outputs": [
    {
     "data": {
      "text/html": [
       "<div><style>\n",
       ".dataframe > thead > tr,\n",
       ".dataframe > tbody > tr {\n",
       "  text-align: right;\n",
       "  white-space: pre-wrap;\n",
       "}\n",
       "</style>\n",
       "<small>shape: (5_722, 3)</small><table border=\"1\" class=\"dataframe\"><thead><tr><th>Player</th><th>Country</th><th>player_id</th></tr><tr><td>str</td><td>str</td><td>str</td></tr></thead><tbody><tr><td>&quot;E Frimpong&quot;</td><td>&quot;Ghana&quot;</td><td>&quot;3c13fc3b&quot;</td></tr><tr><td>&quot;L Rika&quot;</td><td>&quot;Fiji&quot;</td><td>&quot;fe12944e&quot;</td></tr><tr><td>&quot;B George&quot;</td><td>&quot;Malta&quot;</td><td>&quot;1bdbf53b&quot;</td></tr><tr><td>&quot;WB Rankin&quot;</td><td>&quot;Ireland&quot;</td><td>&quot;29b89ae8&quot;</td></tr><tr><td>&quot;V Phiri&quot;</td><td>&quot;Malawi&quot;</td><td>&quot;8ffa1b3c&quot;</td></tr><tr><td>&hellip;</td><td>&hellip;</td><td>&hellip;</td></tr><tr><td>&quot;B Frank&quot;</td><td>&quot;Nigeria&quot;</td><td>&quot;040206a2&quot;</td></tr><tr><td>&quot;XM Marshall&quot;</td><td>&quot;West Indies&quot;</td><td>&quot;ffb504b1&quot;</td></tr><tr><td>&quot;T Vanuarua&quot;</td><td>&quot;Cook Islands&quot;</td><td>&quot;1f8b4fec&quot;</td></tr><tr><td>&quot;Nary Thapa&quot;</td><td>&quot;Nepal&quot;</td><td>&quot;d24e69f5&quot;</td></tr><tr><td>&quot;P Maya&quot;</td><td>&quot;Thailand&quot;</td><td>&quot;72eada4c&quot;</td></tr></tbody></table></div>"
      ],
      "text/plain": [
       "shape: (5_722, 3)\n",
       "┌─────────────┬──────────────┬───────────┐\n",
       "│ Player      ┆ Country      ┆ player_id │\n",
       "│ ---         ┆ ---          ┆ ---       │\n",
       "│ str         ┆ str          ┆ str       │\n",
       "╞═════════════╪══════════════╪═══════════╡\n",
       "│ E Frimpong  ┆ Ghana        ┆ 3c13fc3b  │\n",
       "│ L Rika      ┆ Fiji         ┆ fe12944e  │\n",
       "│ B George    ┆ Malta        ┆ 1bdbf53b  │\n",
       "│ WB Rankin   ┆ Ireland      ┆ 29b89ae8  │\n",
       "│ V Phiri     ┆ Malawi       ┆ 8ffa1b3c  │\n",
       "│ …           ┆ …            ┆ …         │\n",
       "│ B Frank     ┆ Nigeria      ┆ 040206a2  │\n",
       "│ XM Marshall ┆ West Indies  ┆ ffb504b1  │\n",
       "│ T Vanuarua  ┆ Cook Islands ┆ 1f8b4fec  │\n",
       "│ Nary Thapa  ┆ Nepal        ┆ d24e69f5  │\n",
       "│ P Maya      ┆ Thailand     ┆ 72eada4c  │\n",
       "└─────────────┴──────────────┴───────────┘"
      ]
     },
     "execution_count": 29,
     "metadata": {},
     "output_type": "execute_result"
    }
   ],
   "source": [
    "players_data = pl.read_csv(r'D:\\github\\localt20\\processedData\\Players.csv').rename({\"player\": \"Player\",\"country\":\"Country\"})\n",
    "players_data"
   ]
  },
  {
   "cell_type": "code",
   "execution_count": 18,
   "metadata": {},
   "outputs": [
    {
     "data": {
      "text/html": [
       "<div><style>\n",
       ".dataframe > thead > tr,\n",
       ".dataframe > tbody > tr {\n",
       "  text-align: right;\n",
       "  white-space: pre-wrap;\n",
       "}\n",
       "</style>\n",
       "<small>shape: (3_623, 4)</small><table border=\"1\" class=\"dataframe\"><thead><tr><th>Player</th><th>D/I</th><th>country</th><th>player_id</th></tr><tr><td>str</td><td>f64</td><td>str</td><td>str</td></tr></thead><tbody><tr><td>&quot;E Frimpong&quot;</td><td>0.0</td><td>&quot;Ghana&quot;</td><td>&quot;3c13fc3b&quot;</td></tr><tr><td>&quot;WB Rankin&quot;</td><td>0.326</td><td>&quot;Ireland&quot;</td><td>&quot;29b89ae8&quot;</td></tr><tr><td>&quot;A Nortje&quot;</td><td>0.238</td><td>&quot;South Africa&quot;</td><td>&quot;acdc62f5&quot;</td></tr><tr><td>&quot;KJ Coetzer&quot;</td><td>0.323</td><td>&quot;Scotland&quot;</td><td>&quot;85d8110a&quot;</td></tr><tr><td>&quot;N Ahir&quot;</td><td>0.363</td><td>&quot;Panama&quot;</td><td>&quot;c2ecd4a7&quot;</td></tr><tr><td>&hellip;</td><td>&hellip;</td><td>&hellip;</td><td>&hellip;</td></tr><tr><td>&quot;DJ Willey&quot;</td><td>0.395</td><td>&quot;England&quot;</td><td>&quot;7f048519&quot;</td></tr><tr><td>&quot;MNR Cooray&quot;</td><td>0.0</td><td>&quot;Maldives&quot;</td><td>&quot;a9ddd37d&quot;</td></tr><tr><td>&quot;Anoop Orsu&quot;</td><td>0.263</td><td>&quot;Luxembourg&quot;</td><td>&quot;488b7e22&quot;</td></tr><tr><td>&quot;XM Marshall&quot;</td><td>0.25</td><td>&quot;West Indies&quot;</td><td>&quot;ffb504b1&quot;</td></tr><tr><td>&quot;T Vanuarua&quot;</td><td>0.833</td><td>&quot;Cook Islands&quot;</td><td>&quot;1f8b4fec&quot;</td></tr></tbody></table></div>"
      ],
      "text/plain": [
       "shape: (3_623, 4)\n",
       "┌─────────────┬───────┬──────────────┬───────────┐\n",
       "│ Player      ┆ D/I   ┆ country      ┆ player_id │\n",
       "│ ---         ┆ ---   ┆ ---          ┆ ---       │\n",
       "│ str         ┆ f64   ┆ str          ┆ str       │\n",
       "╞═════════════╪═══════╪══════════════╪═══════════╡\n",
       "│ E Frimpong  ┆ 0.0   ┆ Ghana        ┆ 3c13fc3b  │\n",
       "│ WB Rankin   ┆ 0.326 ┆ Ireland      ┆ 29b89ae8  │\n",
       "│ A Nortje    ┆ 0.238 ┆ South Africa ┆ acdc62f5  │\n",
       "│ KJ Coetzer  ┆ 0.323 ┆ Scotland     ┆ 85d8110a  │\n",
       "│ N Ahir      ┆ 0.363 ┆ Panama       ┆ c2ecd4a7  │\n",
       "│ …           ┆ …     ┆ …            ┆ …         │\n",
       "│ DJ Willey   ┆ 0.395 ┆ England      ┆ 7f048519  │\n",
       "│ MNR Cooray  ┆ 0.0   ┆ Maldives     ┆ a9ddd37d  │\n",
       "│ Anoop Orsu  ┆ 0.263 ┆ Luxembourg   ┆ 488b7e22  │\n",
       "│ XM Marshall ┆ 0.25  ┆ West Indies  ┆ ffb504b1  │\n",
       "│ T Vanuarua  ┆ 0.833 ┆ Cook Islands ┆ 1f8b4fec  │\n",
       "└─────────────┴───────┴──────────────┴───────────┘"
      ]
     },
     "execution_count": 18,
     "metadata": {},
     "output_type": "execute_result"
    }
   ],
   "source": [
    "fielding_data = fielding_data.join(players_data, on=\"Player\", how=\"inner\")\n",
    "fielding_data"
   ]
  },
  {
   "cell_type": "code",
   "execution_count": 21,
   "metadata": {},
   "outputs": [],
   "source": [
    "fielding_data.select([\"player_id\",\"Player\",\"D/I\"]).write_csv(r'D:\\github\\localt20\\processedData\\fielding.csv')"
   ]
  },
  {
   "cell_type": "code",
   "execution_count": null,
   "metadata": {},
   "outputs": [],
   "source": []
  }
 ],
 "metadata": {
  "kernelspec": {
   "display_name": "eda",
   "language": "python",
   "name": "python3"
  },
  "language_info": {
   "codemirror_mode": {
    "name": "ipython",
    "version": 3
   },
   "file_extension": ".py",
   "mimetype": "text/x-python",
   "name": "python",
   "nbconvert_exporter": "python",
   "pygments_lexer": "ipython3",
   "version": "3.8.19"
  }
 },
 "nbformat": 4,
 "nbformat_minor": 2
}
