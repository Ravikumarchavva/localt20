{
 "cells": [
  {
   "cell_type": "code",
   "execution_count": 14,
   "metadata": {},
   "outputs": [
    {
     "data": {
      "text/html": [
       "<div><style>\n",
       ".dataframe > thead > tr,\n",
       ".dataframe > tbody > tr {\n",
       "  text-align: right;\n",
       "  white-space: pre-wrap;\n",
       "}\n",
       "</style>\n",
       "<small>shape: (4_100, 12)</small><table border=\"1\" class=\"dataframe\"><thead><tr><th>Player</th><th>Span</th><th>Mat</th><th>Inns</th><th>Dis</th><th>Ct</th><th>St</th><th>Ct Wk</th><th>Ct Fi</th><th>MD</th><th>D/I</th><th>Unnamed: 11</th></tr><tr><td>str</td><td>str</td><td>i64</td><td>i64</td><td>i64</td><td>i64</td><td>i64</td><td>i64</td><td>i64</td><td>str</td><td>f64</td><td>str</td></tr></thead><tbody><tr><td>&quot;RV Viraj (CAM)&quot;</td><td>&quot;2024-2024&quot;</td><td>4</td><td>4</td><td>0</td><td>0</td><td>0</td><td>0</td><td>0</td><td>&quot;0&quot;</td><td>0.0</td><td>null</td></tr><tr><td>&quot;Virendra Kumar (ISR)&quot;</td><td>&quot;2024-2024&quot;</td><td>4</td><td>4</td><td>0</td><td>0</td><td>0</td><td>0</td><td>0</td><td>&quot;0&quot;</td><td>0.0</td><td>null</td></tr><tr><td>&quot;R Vishwanath (LUX)&quot;</td><td>&quot;2019-2023&quot;</td><td>6</td><td>6</td><td>0</td><td>0</td><td>0</td><td>0</td><td>0</td><td>&quot;0&quot;</td><td>0.0</td><td>null</td></tr><tr><td>&quot;RL Vitas (SRB)&quot;</td><td>&quot;2022-2022&quot;</td><td>9</td><td>9</td><td>0</td><td>0</td><td>0</td><td>0</td><td>0</td><td>&quot;0&quot;</td><td>0.0</td><td>null</td></tr><tr><td>&quot;V Viyaskanth (SL)&quot;</td><td>&quot;2023-2023&quot;</td><td>1</td><td>1</td><td>0</td><td>0</td><td>0</td><td>0</td><td>0</td><td>&quot;0&quot;</td><td>0.0</td><td>null</td></tr><tr><td>&hellip;</td><td>&hellip;</td><td>&hellip;</td><td>&hellip;</td><td>&hellip;</td><td>&hellip;</td><td>&hellip;</td><td>&hellip;</td><td>&hellip;</td><td>&hellip;</td><td>&hellip;</td><td>&hellip;</td></tr><tr><td>&quot;Soumya Sarkar (BAN)&quot;</td><td>&quot;2015-2024&quot;</td><td>85</td><td>84</td><td>46</td><td>46</td><td>0</td><td>0</td><td>46</td><td>&quot;3 (3ct 0st)&quot;</td><td>0.547</td><td>null</td></tr><tr><td>&quot;LRPL Taylor (NZ)&quot;</td><td>&quot;2006-2020&quot;</td><td>102</td><td>102</td><td>46</td><td>46</td><td>0</td><td>0</td><td>46</td><td>&quot;3 (3ct 0st)&quot;</td><td>0.45</td><td>null</td></tr><tr><td>&quot;Babar Hayat (HKG)&quot;</td><td>&quot;2014-2024&quot;</td><td>79</td><td>78</td><td>45</td><td>45</td><td>0</td><td>0</td><td>45</td><td>&quot;4 (4ct 0st)&quot;</td><td>0.576</td><td>null</td></tr><tr><td>&quot;KC Sangakkara (SL)&quot;</td><td>&quot;2006-2014&quot;</td><td>56</td><td>56</td><td>45</td><td>25</td><td>20</td><td>25</td><td>0</td><td>&quot;3 (2ct 1st)&quot;</td><td>0.803</td><td>null</td></tr><tr><td>&quot;KS Williamson (NZ)&quot;</td><td>&quot;2011-2024&quot;</td><td>93</td><td>92</td><td>45</td><td>45</td><td>0</td><td>0</td><td>45</td><td>&quot;3 (3ct 0st)&quot;</td><td>0.489</td><td>null</td></tr></tbody></table></div>"
      ],
      "text/plain": [
       "shape: (4_100, 12)\n",
       "┌──────────────────────┬───────────┬─────┬──────┬───┬───────┬─────────────┬───────┬─────────────┐\n",
       "│ Player               ┆ Span      ┆ Mat ┆ Inns ┆ … ┆ Ct Fi ┆ MD          ┆ D/I   ┆ Unnamed: 11 │\n",
       "│ ---                  ┆ ---       ┆ --- ┆ ---  ┆   ┆ ---   ┆ ---         ┆ ---   ┆ ---         │\n",
       "│ str                  ┆ str       ┆ i64 ┆ i64  ┆   ┆ i64   ┆ str         ┆ f64   ┆ str         │\n",
       "╞══════════════════════╪═══════════╪═════╪══════╪═══╪═══════╪═════════════╪═══════╪═════════════╡\n",
       "│ RV Viraj (CAM)       ┆ 2024-2024 ┆ 4   ┆ 4    ┆ … ┆ 0     ┆ 0           ┆ 0.0   ┆ null        │\n",
       "│ Virendra Kumar (ISR) ┆ 2024-2024 ┆ 4   ┆ 4    ┆ … ┆ 0     ┆ 0           ┆ 0.0   ┆ null        │\n",
       "│ R Vishwanath (LUX)   ┆ 2019-2023 ┆ 6   ┆ 6    ┆ … ┆ 0     ┆ 0           ┆ 0.0   ┆ null        │\n",
       "│ RL Vitas (SRB)       ┆ 2022-2022 ┆ 9   ┆ 9    ┆ … ┆ 0     ┆ 0           ┆ 0.0   ┆ null        │\n",
       "│ V Viyaskanth (SL)    ┆ 2023-2023 ┆ 1   ┆ 1    ┆ … ┆ 0     ┆ 0           ┆ 0.0   ┆ null        │\n",
       "│ …                    ┆ …         ┆ …   ┆ …    ┆ … ┆ …     ┆ …           ┆ …     ┆ …           │\n",
       "│ Soumya Sarkar (BAN)  ┆ 2015-2024 ┆ 85  ┆ 84   ┆ … ┆ 46    ┆ 3 (3ct 0st) ┆ 0.547 ┆ null        │\n",
       "│ LRPL Taylor (NZ)     ┆ 2006-2020 ┆ 102 ┆ 102  ┆ … ┆ 46    ┆ 3 (3ct 0st) ┆ 0.45  ┆ null        │\n",
       "│ Babar Hayat (HKG)    ┆ 2014-2024 ┆ 79  ┆ 78   ┆ … ┆ 45    ┆ 4 (4ct 0st) ┆ 0.576 ┆ null        │\n",
       "│ KC Sangakkara (SL)   ┆ 2006-2014 ┆ 56  ┆ 56   ┆ … ┆ 0     ┆ 3 (2ct 1st) ┆ 0.803 ┆ null        │\n",
       "│ KS Williamson (NZ)   ┆ 2011-2024 ┆ 93  ┆ 92   ┆ … ┆ 45    ┆ 3 (3ct 0st) ┆ 0.489 ┆ null        │\n",
       "└──────────────────────┴───────────┴─────┴──────┴───┴───────┴─────────────┴───────┴─────────────┘"
      ]
     },
     "execution_count": 14,
     "metadata": {},
     "output_type": "execute_result"
    }
   ],
   "source": [
    "import os\n",
    "import glob\n",
    "import polars as pl\n",
    "import pandas as pd\n",
    "\n",
    "# Specify the directory where your CSV files are located\n",
    "directory = r'D:\\github\\localt20\\data'\n",
    "\n",
    "fielding_data = pl.read_csv(os.path.join(directory, 't20_fielding_stats.csv'),infer_schema_length=4000)\n",
    "fielding_data"
   ]
  },
  {
   "cell_type": "code",
   "execution_count": 15,
   "metadata": {},
   "outputs": [
    {
     "data": {
      "text/html": [
       "<div><style>\n",
       ".dataframe > thead > tr,\n",
       ".dataframe > tbody > tr {\n",
       "  text-align: right;\n",
       "  white-space: pre-wrap;\n",
       "}\n",
       "</style>\n",
       "<small>shape: (4_100, 2)</small><table border=\"1\" class=\"dataframe\"><thead><tr><th>Player</th><th>D/I</th></tr><tr><td>str</td><td>f64</td></tr></thead><tbody><tr><td>&quot;RV Viraj (CAM)&quot;</td><td>0.0</td></tr><tr><td>&quot;Virendra Kumar (ISR)&quot;</td><td>0.0</td></tr><tr><td>&quot;R Vishwanath (LUX)&quot;</td><td>0.0</td></tr><tr><td>&quot;RL Vitas (SRB)&quot;</td><td>0.0</td></tr><tr><td>&quot;V Viyaskanth (SL)&quot;</td><td>0.0</td></tr><tr><td>&hellip;</td><td>&hellip;</td></tr><tr><td>&quot;Soumya Sarkar (BAN)&quot;</td><td>0.547</td></tr><tr><td>&quot;LRPL Taylor (NZ)&quot;</td><td>0.45</td></tr><tr><td>&quot;Babar Hayat (HKG)&quot;</td><td>0.576</td></tr><tr><td>&quot;KC Sangakkara (SL)&quot;</td><td>0.803</td></tr><tr><td>&quot;KS Williamson (NZ)&quot;</td><td>0.489</td></tr></tbody></table></div>"
      ],
      "text/plain": [
       "shape: (4_100, 2)\n",
       "┌──────────────────────┬───────┐\n",
       "│ Player               ┆ D/I   │\n",
       "│ ---                  ┆ ---   │\n",
       "│ str                  ┆ f64   │\n",
       "╞══════════════════════╪═══════╡\n",
       "│ RV Viraj (CAM)       ┆ 0.0   │\n",
       "│ Virendra Kumar (ISR) ┆ 0.0   │\n",
       "│ R Vishwanath (LUX)   ┆ 0.0   │\n",
       "│ RL Vitas (SRB)       ┆ 0.0   │\n",
       "│ V Viyaskanth (SL)    ┆ 0.0   │\n",
       "│ …                    ┆ …     │\n",
       "│ Soumya Sarkar (BAN)  ┆ 0.547 │\n",
       "│ LRPL Taylor (NZ)     ┆ 0.45  │\n",
       "│ Babar Hayat (HKG)    ┆ 0.576 │\n",
       "│ KC Sangakkara (SL)   ┆ 0.803 │\n",
       "│ KS Williamson (NZ)   ┆ 0.489 │\n",
       "└──────────────────────┴───────┘"
      ]
     },
     "execution_count": 15,
     "metadata": {},
     "output_type": "execute_result"
    }
   ],
   "source": [
    "fielding_data = fielding_data.select(['Player','D/I'])\n",
    "fielding_data"
   ]
  },
  {
   "cell_type": "code",
   "execution_count": 16,
   "metadata": {},
   "outputs": [
    {
     "data": {
      "text/html": [
       "<div><style>\n",
       ".dataframe > thead > tr,\n",
       ".dataframe > tbody > tr {\n",
       "  text-align: right;\n",
       "  white-space: pre-wrap;\n",
       "}\n",
       "</style>\n",
       "<small>shape: (4_100, 2)</small><table border=\"1\" class=\"dataframe\"><thead><tr><th>Player</th><th>D/I</th></tr><tr><td>str</td><td>f64</td></tr></thead><tbody><tr><td>&quot;RV Viraj&quot;</td><td>0.0</td></tr><tr><td>&quot;Virendra Kumar&quot;</td><td>0.0</td></tr><tr><td>&quot;R Vishwanath&quot;</td><td>0.0</td></tr><tr><td>&quot;RL Vitas&quot;</td><td>0.0</td></tr><tr><td>&quot;V Viyaskanth&quot;</td><td>0.0</td></tr><tr><td>&hellip;</td><td>&hellip;</td></tr><tr><td>&quot;Soumya Sarkar&quot;</td><td>0.547</td></tr><tr><td>&quot;LRPL Taylor&quot;</td><td>0.45</td></tr><tr><td>&quot;Babar Hayat&quot;</td><td>0.576</td></tr><tr><td>&quot;KC Sangakkara&quot;</td><td>0.803</td></tr><tr><td>&quot;KS Williamson&quot;</td><td>0.489</td></tr></tbody></table></div>"
      ],
      "text/plain": [
       "shape: (4_100, 2)\n",
       "┌────────────────┬───────┐\n",
       "│ Player         ┆ D/I   │\n",
       "│ ---            ┆ ---   │\n",
       "│ str            ┆ f64   │\n",
       "╞════════════════╪═══════╡\n",
       "│ RV Viraj       ┆ 0.0   │\n",
       "│ Virendra Kumar ┆ 0.0   │\n",
       "│ R Vishwanath   ┆ 0.0   │\n",
       "│ RL Vitas       ┆ 0.0   │\n",
       "│ V Viyaskanth   ┆ 0.0   │\n",
       "│ …              ┆ …     │\n",
       "│ Soumya Sarkar  ┆ 0.547 │\n",
       "│ LRPL Taylor    ┆ 0.45  │\n",
       "│ Babar Hayat    ┆ 0.576 │\n",
       "│ KC Sangakkara  ┆ 0.803 │\n",
       "│ KS Williamson  ┆ 0.489 │\n",
       "└────────────────┴───────┘"
      ]
     },
     "execution_count": 16,
     "metadata": {},
     "output_type": "execute_result"
    }
   ],
   "source": [
    "fielding_data = fielding_data.with_columns(fielding_data['Player'].str.split_exact(' (', n=1).struct.rename_fields(['Player', 'Country']).alias('Player').to_frame().unnest('Player').drop(\"Country\"))\n",
    "fielding_data"
   ]
  },
  {
   "cell_type": "code",
   "execution_count": 17,
   "metadata": {},
   "outputs": [
    {
     "data": {
      "text/html": [
       "<div><style>\n",
       ".dataframe > thead > tr,\n",
       ".dataframe > tbody > tr {\n",
       "  text-align: right;\n",
       "  white-space: pre-wrap;\n",
       "}\n",
       "</style>\n",
       "<small>shape: (5_722, 3)</small><table border=\"1\" class=\"dataframe\"><thead><tr><th>Player</th><th>country</th><th>player_id</th></tr><tr><td>str</td><td>str</td><td>str</td></tr></thead><tbody><tr><td>&quot;E Frimpong&quot;</td><td>&quot;Ghana&quot;</td><td>&quot;3c13fc3b&quot;</td></tr><tr><td>&quot;L Rika&quot;</td><td>&quot;Fiji&quot;</td><td>&quot;fe12944e&quot;</td></tr><tr><td>&quot;B George&quot;</td><td>&quot;Malta&quot;</td><td>&quot;1bdbf53b&quot;</td></tr><tr><td>&quot;WB Rankin&quot;</td><td>&quot;Ireland&quot;</td><td>&quot;29b89ae8&quot;</td></tr><tr><td>&quot;V Phiri&quot;</td><td>&quot;Malawi&quot;</td><td>&quot;8ffa1b3c&quot;</td></tr><tr><td>&hellip;</td><td>&hellip;</td><td>&hellip;</td></tr><tr><td>&quot;B Frank&quot;</td><td>&quot;Nigeria&quot;</td><td>&quot;040206a2&quot;</td></tr><tr><td>&quot;XM Marshall&quot;</td><td>&quot;West Indies&quot;</td><td>&quot;ffb504b1&quot;</td></tr><tr><td>&quot;T Vanuarua&quot;</td><td>&quot;Cook Islands&quot;</td><td>&quot;1f8b4fec&quot;</td></tr><tr><td>&quot;Nary Thapa&quot;</td><td>&quot;Nepal&quot;</td><td>&quot;d24e69f5&quot;</td></tr><tr><td>&quot;P Maya&quot;</td><td>&quot;Thailand&quot;</td><td>&quot;72eada4c&quot;</td></tr></tbody></table></div>"
      ],
      "text/plain": [
       "shape: (5_722, 3)\n",
       "┌─────────────┬──────────────┬───────────┐\n",
       "│ Player      ┆ country      ┆ player_id │\n",
       "│ ---         ┆ ---          ┆ ---       │\n",
       "│ str         ┆ str          ┆ str       │\n",
       "╞═════════════╪══════════════╪═══════════╡\n",
       "│ E Frimpong  ┆ Ghana        ┆ 3c13fc3b  │\n",
       "│ L Rika      ┆ Fiji         ┆ fe12944e  │\n",
       "│ B George    ┆ Malta        ┆ 1bdbf53b  │\n",
       "│ WB Rankin   ┆ Ireland      ┆ 29b89ae8  │\n",
       "│ V Phiri     ┆ Malawi       ┆ 8ffa1b3c  │\n",
       "│ …           ┆ …            ┆ …         │\n",
       "│ B Frank     ┆ Nigeria      ┆ 040206a2  │\n",
       "│ XM Marshall ┆ West Indies  ┆ ffb504b1  │\n",
       "│ T Vanuarua  ┆ Cook Islands ┆ 1f8b4fec  │\n",
       "│ Nary Thapa  ┆ Nepal        ┆ d24e69f5  │\n",
       "│ P Maya      ┆ Thailand     ┆ 72eada4c  │\n",
       "└─────────────┴──────────────┴───────────┘"
      ]
     },
     "execution_count": 17,
     "metadata": {},
     "output_type": "execute_result"
    }
   ],
   "source": [
    "players_data = pl.read_csv(r'D:\\github\\localt20\\processedData\\Players.csv').rename({\"player\": \"Player\"})\n",
    "players_data"
   ]
  },
  {
   "cell_type": "code",
   "execution_count": 18,
   "metadata": {},
   "outputs": [
    {
     "data": {
      "text/html": [
       "<div><style>\n",
       ".dataframe > thead > tr,\n",
       ".dataframe > tbody > tr {\n",
       "  text-align: right;\n",
       "  white-space: pre-wrap;\n",
       "}\n",
       "</style>\n",
       "<small>shape: (3_623, 4)</small><table border=\"1\" class=\"dataframe\"><thead><tr><th>Player</th><th>D/I</th><th>country</th><th>player_id</th></tr><tr><td>str</td><td>f64</td><td>str</td><td>str</td></tr></thead><tbody><tr><td>&quot;E Frimpong&quot;</td><td>0.0</td><td>&quot;Ghana&quot;</td><td>&quot;3c13fc3b&quot;</td></tr><tr><td>&quot;WB Rankin&quot;</td><td>0.326</td><td>&quot;Ireland&quot;</td><td>&quot;29b89ae8&quot;</td></tr><tr><td>&quot;A Nortje&quot;</td><td>0.238</td><td>&quot;South Africa&quot;</td><td>&quot;acdc62f5&quot;</td></tr><tr><td>&quot;KJ Coetzer&quot;</td><td>0.323</td><td>&quot;Scotland&quot;</td><td>&quot;85d8110a&quot;</td></tr><tr><td>&quot;N Ahir&quot;</td><td>0.363</td><td>&quot;Panama&quot;</td><td>&quot;c2ecd4a7&quot;</td></tr><tr><td>&hellip;</td><td>&hellip;</td><td>&hellip;</td><td>&hellip;</td></tr><tr><td>&quot;DJ Willey&quot;</td><td>0.395</td><td>&quot;England&quot;</td><td>&quot;7f048519&quot;</td></tr><tr><td>&quot;MNR Cooray&quot;</td><td>0.0</td><td>&quot;Maldives&quot;</td><td>&quot;a9ddd37d&quot;</td></tr><tr><td>&quot;Anoop Orsu&quot;</td><td>0.263</td><td>&quot;Luxembourg&quot;</td><td>&quot;488b7e22&quot;</td></tr><tr><td>&quot;XM Marshall&quot;</td><td>0.25</td><td>&quot;West Indies&quot;</td><td>&quot;ffb504b1&quot;</td></tr><tr><td>&quot;T Vanuarua&quot;</td><td>0.833</td><td>&quot;Cook Islands&quot;</td><td>&quot;1f8b4fec&quot;</td></tr></tbody></table></div>"
      ],
      "text/plain": [
       "shape: (3_623, 4)\n",
       "┌─────────────┬───────┬──────────────┬───────────┐\n",
       "│ Player      ┆ D/I   ┆ country      ┆ player_id │\n",
       "│ ---         ┆ ---   ┆ ---          ┆ ---       │\n",
       "│ str         ┆ f64   ┆ str          ┆ str       │\n",
       "╞═════════════╪═══════╪══════════════╪═══════════╡\n",
       "│ E Frimpong  ┆ 0.0   ┆ Ghana        ┆ 3c13fc3b  │\n",
       "│ WB Rankin   ┆ 0.326 ┆ Ireland      ┆ 29b89ae8  │\n",
       "│ A Nortje    ┆ 0.238 ┆ South Africa ┆ acdc62f5  │\n",
       "│ KJ Coetzer  ┆ 0.323 ┆ Scotland     ┆ 85d8110a  │\n",
       "│ N Ahir      ┆ 0.363 ┆ Panama       ┆ c2ecd4a7  │\n",
       "│ …           ┆ …     ┆ …            ┆ …         │\n",
       "│ DJ Willey   ┆ 0.395 ┆ England      ┆ 7f048519  │\n",
       "│ MNR Cooray  ┆ 0.0   ┆ Maldives     ┆ a9ddd37d  │\n",
       "│ Anoop Orsu  ┆ 0.263 ┆ Luxembourg   ┆ 488b7e22  │\n",
       "│ XM Marshall ┆ 0.25  ┆ West Indies  ┆ ffb504b1  │\n",
       "│ T Vanuarua  ┆ 0.833 ┆ Cook Islands ┆ 1f8b4fec  │\n",
       "└─────────────┴───────┴──────────────┴───────────┘"
      ]
     },
     "execution_count": 18,
     "metadata": {},
     "output_type": "execute_result"
    }
   ],
   "source": [
    "fielding_data = fielding_data.join(players_data, on=\"Player\", how=\"inner\")\n",
    "fielding_data"
   ]
  },
  {
   "cell_type": "code",
   "execution_count": 21,
   "metadata": {},
   "outputs": [],
   "source": [
    "fielding_data.select([\"player_id\",\"Player\",\"D/I\"]).write_csv(r'D:\\github\\localt20\\processedData\\fielding.csv')"
   ]
  },
  {
   "cell_type": "code",
   "execution_count": null,
   "metadata": {},
   "outputs": [],
   "source": []
  }
 ],
 "metadata": {
  "kernelspec": {
   "display_name": "eda",
   "language": "python",
   "name": "python3"
  },
  "language_info": {
   "codemirror_mode": {
    "name": "ipython",
    "version": 3
   },
   "file_extension": ".py",
   "mimetype": "text/x-python",
   "name": "python",
   "nbconvert_exporter": "python",
   "pygments_lexer": "ipython3",
   "version": "3.8.19"
  }
 },
 "nbformat": 4,
 "nbformat_minor": 2
}
