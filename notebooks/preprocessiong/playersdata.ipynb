{
 "cells": [
  {
   "cell_type": "markdown",
   "metadata": {},
   "source": [
    "# Adding paths and files"
   ]
  },
  {
   "cell_type": "code",
   "execution_count": 22,
   "metadata": {},
   "outputs": [],
   "source": [
    "import os\n",
    "import glob\n",
    "import polars as pl\n",
    "\n",
    "# Specify the directory where your CSV files are located\n",
    "directory = r'D:\\github\\localt20\\data\\t20s_csv2'\n",
    "\n",
    "# Use glob to find all CSV files in the specified directory\n",
    "info_files = glob.glob(os.path.join(directory, '*_info.csv'))\n",
    "all_files = glob.glob(os.path.join(directory,'*.csv'))\n",
    "delivery_files = [file for file in all_files if '_info' not in file]\n",
    "\n",
    "matches=[]\n",
    "deliveries=[]\n",
    "# Print the list of CSV files\n",
    "for info_file in info_files:\n",
    "    matches.append(info_file.split('\\\\')[-1])\n",
    "for delivery in delivery_files:\n",
    "    if '_info' not in delivery:\n",
    "        deliveries.append(delivery.split('\\\\')[-1])"
   ]
  },
  {
   "cell_type": "markdown",
   "metadata": {},
   "source": [
    "# Extracting player ids"
   ]
  },
  {
   "cell_type": "code",
   "execution_count": 23,
   "metadata": {},
   "outputs": [
    {
     "name": "stdout",
     "output_type": "stream",
     "text": [
      "Combined DataFrame:\n",
      "Injured matches (failed to process): (73, ['1040487_info.csv', '1043991_info.csv', '1072316_info.csv', '1089777_info.csv', '1119501_info.csv', '1144174_info.csv', '1144990_info.csv', '1146723_info.csv', '1146725_info.csv', '1150539_info.csv', '1188622_info.csv', '1216416_info.csv', '1223952_info.csv', '1233954_info.csv', '1233980_info.csv', '1244848_info.csv', '1249207_info.csv', '1260097_info.csv', '1263471_info.csv', '1298154_info.csv', '1298163_info.csv', '1298169_info.csv', '1298170_info.csv', '1322004_info.csv', '1335788_info.csv', '1335790_info.csv', '1335802_info.csv', '1336076_info.csv', '1336080_info.csv', '1338057_info.csv', '1355720_info.csv', '1362817_info.csv', '1377016_info.csv', '1382164_info.csv', '1384634_info.csv', '1387598_info.csv', '1388198_info.csv', '1388204_info.csv', '1388215_info.csv', '1388225_info.csv', '1392803_info.csv', '1398278_info.csv', '1415734_info.csv', '1415744_info.csv', '1415750_info.csv', '1415752_info.csv', '1416079_info.csv', '1422808_info.csv', '1425126_info.csv', '1429394_info.csv', '1429396_info.csv', '1433369_info.csv', '1434291_info.csv', '1442988_info.csv', '1449012_info.csv', '251487_info.csv', '356011_info.csv', '387563_info.csv', '412684_info.csv', '412685_info.csv', '412686_info.csv', '527013_info.csv', '533279_info.csv', '567354_info.csv', '573020_info.csv', '682911_info.csv', '682925_info.csv', '685727_info.csv', '730283_info.csv', '895789_info.csv', '951323_info.csv', '951327_info.csv', '951387_info.csv'])\n"
     ]
    },
    {
     "data": {
      "text/html": [
       "<div><style>\n",
       ".dataframe > thead > tr,\n",
       ".dataframe > tbody > tr {\n",
       "  text-align: right;\n",
       "  white-space: pre-wrap;\n",
       "}\n",
       "</style>\n",
       "<small>shape: (93_036, 6)</small><table border=\"1\" class=\"dataframe\"><thead><tr><th>info</th><th>registry</th><th>people</th><th>player</th><th>player_id</th><th>match_id</th></tr><tr><td>str</td><td>str</td><td>str</td><td>str</td><td>str</td><td>i64</td></tr></thead><tbody><tr><td>&quot;info&quot;</td><td>&quot;registry&quot;</td><td>&quot;people&quot;</td><td>&quot;A Zampa&quot;</td><td>&quot;14f96089&quot;</td><td>1001349</td></tr><tr><td>&quot;info&quot;</td><td>&quot;registry&quot;</td><td>&quot;people&quot;</td><td>&quot;AJ Finch&quot;</td><td>&quot;b8d490fd&quot;</td><td>1001349</td></tr><tr><td>&quot;info&quot;</td><td>&quot;registry&quot;</td><td>&quot;people&quot;</td><td>&quot;AJ Turner&quot;</td><td>&quot;ff1e12a0&quot;</td><td>1001349</td></tr><tr><td>&quot;info&quot;</td><td>&quot;registry&quot;</td><td>&quot;people&quot;</td><td>&quot;AJ Tye&quot;</td><td>&quot;7c7d63a2&quot;</td><td>1001349</td></tr><tr><td>&quot;info&quot;</td><td>&quot;registry&quot;</td><td>&quot;people&quot;</td><td>&quot;B Stanlake&quot;</td><td>&quot;6834d1f2&quot;</td><td>1001349</td></tr><tr><td>&hellip;</td><td>&hellip;</td><td>&hellip;</td><td>&hellip;</td><td>&hellip;</td><td>&hellip;</td></tr><tr><td>&quot;info&quot;</td><td>&quot;registry&quot;</td><td>&quot;people&quot;</td><td>&quot;SMSM Senanayake&quot;</td><td>&quot;4c4fa80b&quot;</td><td>995469</td></tr><tr><td>&quot;info&quot;</td><td>&quot;registry&quot;</td><td>&quot;people&quot;</td><td>&quot;SS Pathirana&quot;</td><td>&quot;753c95b9&quot;</td><td>995469</td></tr><tr><td>&quot;info&quot;</td><td>&quot;registry&quot;</td><td>&quot;people&quot;</td><td>&quot;TM Dilshan&quot;</td><td>&quot;5bdcdb72&quot;</td><td>995469</td></tr><tr><td>&quot;info&quot;</td><td>&quot;registry&quot;</td><td>&quot;people&quot;</td><td>&quot;TM Head&quot;</td><td>&quot;12b610c2&quot;</td><td>995469</td></tr><tr><td>&quot;info&quot;</td><td>&quot;registry&quot;</td><td>&quot;people&quot;</td><td>&quot;UT Khawaja&quot;</td><td>&quot;331ea488&quot;</td><td>995469</td></tr></tbody></table></div>"
      ],
      "text/plain": [
       "shape: (93_036, 6)\n",
       "┌──────┬──────────┬────────┬─────────────────┬───────────┬──────────┐\n",
       "│ info ┆ registry ┆ people ┆ player          ┆ player_id ┆ match_id │\n",
       "│ ---  ┆ ---      ┆ ---    ┆ ---             ┆ ---       ┆ ---      │\n",
       "│ str  ┆ str      ┆ str    ┆ str             ┆ str       ┆ i64      │\n",
       "╞══════╪══════════╪════════╪═════════════════╪═══════════╪══════════╡\n",
       "│ info ┆ registry ┆ people ┆ A Zampa         ┆ 14f96089  ┆ 1001349  │\n",
       "│ info ┆ registry ┆ people ┆ AJ Finch        ┆ b8d490fd  ┆ 1001349  │\n",
       "│ info ┆ registry ┆ people ┆ AJ Turner       ┆ ff1e12a0  ┆ 1001349  │\n",
       "│ info ┆ registry ┆ people ┆ AJ Tye          ┆ 7c7d63a2  ┆ 1001349  │\n",
       "│ info ┆ registry ┆ people ┆ B Stanlake      ┆ 6834d1f2  ┆ 1001349  │\n",
       "│ …    ┆ …        ┆ …      ┆ …               ┆ …         ┆ …        │\n",
       "│ info ┆ registry ┆ people ┆ SMSM Senanayake ┆ 4c4fa80b  ┆ 995469   │\n",
       "│ info ┆ registry ┆ people ┆ SS Pathirana    ┆ 753c95b9  ┆ 995469   │\n",
       "│ info ┆ registry ┆ people ┆ TM Dilshan      ┆ 5bdcdb72  ┆ 995469   │\n",
       "│ info ┆ registry ┆ people ┆ TM Head         ┆ 12b610c2  ┆ 995469   │\n",
       "│ info ┆ registry ┆ people ┆ UT Khawaja      ┆ 331ea488  ┆ 995469   │\n",
       "└──────┴──────────┴────────┴─────────────────┴───────────┴──────────┘"
      ]
     },
     "execution_count": 23,
     "metadata": {},
     "output_type": "execute_result"
    }
   ],
   "source": [
    "import polars as pl\n",
    "import os\n",
    "\n",
    "# Initialize an empty list to hold the DataFrames and another for injured matches\n",
    "dataframes = []\n",
    "injured_matches = []\n",
    "\n",
    "# Loop through the matches list\n",
    "for match in matches:\n",
    "    # Extract the match_id from the filename (e.g., '1001349_info.csv' -> '1001349')\n",
    "    match_id = match.split('_')[0]\n",
    "    \n",
    "    # Construct the full file path\n",
    "    file_path = os.path.join(directory, match)\n",
    "    \n",
    "    try:\n",
    "        # Try to load the CSV and rename the columns\n",
    "        df = pl.read_csv(file_path, skip_rows=43, has_header=False)\n",
    "        df = df.rename({\n",
    "            'column_1': 'info',\n",
    "            'column_2': 'registry',\n",
    "            'column_3': 'people',\n",
    "            'column_4': 'player',\n",
    "            'column_5': 'player_id'\n",
    "        })\n",
    "        \n",
    "        # Add the match_id as a new column to the DataFrame\n",
    "        df = df.with_columns(pl.lit(match_id).alias('match_id').cast(pl.Int64))\n",
    "        \n",
    "        # Append the DataFrame to the list\n",
    "        dataframes.append(df)\n",
    "    \n",
    "    except Exception as e:\n",
    "        # If an error occurs, print the error and append the match to injured_matches\n",
    "        injured_matches.append(match)\n",
    "\n",
    "# Combine all DataFrames into one DataFrame if there are any successful matches\n",
    "if dataframes:\n",
    "    playerid_df = pl.concat(dataframes)\n",
    "    print(\"Combined DataFrame:\")\n",
    "else:\n",
    "    print(\"No valid dataframes to combine.\")\n",
    "\n",
    "# Show the list of files that couldn't be processed\n",
    "print(f\"Injured matches (failed to process): {len(injured_matches),injured_matches}\")\n",
    "playerid_df"
   ]
  },
  {
   "cell_type": "markdown",
   "metadata": {},
   "source": [
    "# Extracting player country"
   ]
  },
  {
   "cell_type": "code",
   "execution_count": 25,
   "metadata": {},
   "outputs": [
    {
     "name": "stdout",
     "output_type": "stream",
     "text": [
      "Combined DataFrame:\n",
      "shape: (81_950, 3)\n",
      "┌─────────────────┬───────────┬──────────┐\n",
      "│ player          ┆ country   ┆ match_id │\n",
      "│ ---             ┆ ---       ┆ ---      │\n",
      "│ str             ┆ str       ┆ i64      │\n",
      "╞═════════════════╪═══════════╪══════════╡\n",
      "│ AJ Finch        ┆ Australia ┆ 1001349  │\n",
      "│ M Klinger       ┆ Australia ┆ 1001349  │\n",
      "│ TM Head         ┆ Australia ┆ 1001349  │\n",
      "│ MC Henriques    ┆ Australia ┆ 1001349  │\n",
      "│ AJ Turner       ┆ Australia ┆ 1001349  │\n",
      "│ …               ┆ …         ┆ …        │\n",
      "│ NLTC Perera     ┆ Sri Lanka ┆ 995469   │\n",
      "│ SS Pathirana    ┆ Sri Lanka ┆ 995469   │\n",
      "│ S Prasanna      ┆ Sri Lanka ┆ 995469   │\n",
      "│ SMSM Senanayake ┆ Sri Lanka ┆ 995469   │\n",
      "│ RAS Lakmal      ┆ Sri Lanka ┆ 995469   │\n",
      "└─────────────────┴───────────┴──────────┘\n"
     ]
    }
   ],
   "source": [
    "import polars as pl\n",
    "import os\n",
    "\n",
    "\n",
    "# Initialize a list to hold DataFrames\n",
    "dataframes = []\n",
    "non_injured_matches = [match for match in matches if match not in injured_matches]\n",
    "\n",
    "# Loop through the match files\n",
    "for match in non_injured_matches:\n",
    "    # Extract the match_id from the filename (e.g., '1001349_info.csv' -> '1001349')\n",
    "    match_id = match.split('_')[0]\n",
    "    \n",
    "    # Construct the full file path\n",
    "    file_path = os.path.join(directory, match)\n",
    "    \n",
    "    try:\n",
    "        # Read the CSV, skip 21 rows, and take the first 22 rows\n",
    "        df = pl.read_csv(file_path, truncate_ragged_lines=True, skip_rows=21, has_header=False)[:22]\n",
    "        \n",
    "        # Rename the columns (adjust based on your schema)\n",
    "        df = df.rename({\n",
    "            'column_1': 'info',\n",
    "            'column_2': 'registry',\n",
    "            'column_3': 'country',\n",
    "            'column_4': 'player',\n",
    "            # You mentioned 'match_id' should be added, not present in file\n",
    "        })\n",
    "        \n",
    "        # Add the match_id as a new column to the DataFrame\n",
    "        df = df.with_columns(pl.lit(match_id).alias('match_id').cast(pl.Int64))\n",
    "        \n",
    "        # Select only the relevant columns (modify as needed)\n",
    "        df = df.select(['player', 'country', 'match_id'])\n",
    "        \n",
    "        # Append the processed DataFrame to the list\n",
    "        dataframes.append(df)\n",
    "    \n",
    "    except Exception as e:\n",
    "        # Handle errors during processing\n",
    "        print(f\"Error processing file {match}: {e}\")\n",
    "\n",
    "# Combine all DataFrames if there are any valid ones\n",
    "if dataframes:\n",
    "    final_df = pl.concat(dataframes)\n",
    "    print(\"Combined DataFrame:\")\n",
    "    print(final_df)\n",
    "else:\n",
    "    print(\"No valid dataframes to combine.\")"
   ]
  },
  {
   "cell_type": "markdown",
   "metadata": {},
   "source": [
    "# Combining players name, Id, Country"
   ]
  },
  {
   "cell_type": "code",
   "execution_count": 26,
   "metadata": {},
   "outputs": [
    {
     "data": {
      "text/html": [
       "<div><style>\n",
       ".dataframe > thead > tr,\n",
       ".dataframe > tbody > tr {\n",
       "  text-align: right;\n",
       "  white-space: pre-wrap;\n",
       "}\n",
       "</style>\n",
       "<small>shape: (74_146, 4)</small><table border=\"1\" class=\"dataframe\"><thead><tr><th>match_id</th><th>player</th><th>country</th><th>player_id</th></tr><tr><td>i64</td><td>str</td><td>str</td><td>str</td></tr></thead><tbody><tr><td>1001349</td><td>&quot;A Zampa&quot;</td><td>&quot;Australia&quot;</td><td>&quot;14f96089&quot;</td></tr><tr><td>1001349</td><td>&quot;AJ Finch&quot;</td><td>&quot;Australia&quot;</td><td>&quot;b8d490fd&quot;</td></tr><tr><td>1001349</td><td>&quot;AJ Turner&quot;</td><td>&quot;Australia&quot;</td><td>&quot;ff1e12a0&quot;</td></tr><tr><td>1001349</td><td>&quot;AJ Tye&quot;</td><td>&quot;Australia&quot;</td><td>&quot;7c7d63a2&quot;</td></tr><tr><td>1001349</td><td>&quot;B Stanlake&quot;</td><td>&quot;Australia&quot;</td><td>&quot;6834d1f2&quot;</td></tr><tr><td>&hellip;</td><td>&hellip;</td><td>&hellip;</td><td>&hellip;</td></tr><tr><td>995469</td><td>&quot;SMSM Senanayake&quot;</td><td>&quot;Sri Lanka&quot;</td><td>&quot;4c4fa80b&quot;</td></tr><tr><td>995469</td><td>&quot;SS Pathirana&quot;</td><td>&quot;Sri Lanka&quot;</td><td>&quot;753c95b9&quot;</td></tr><tr><td>995469</td><td>&quot;TM Dilshan&quot;</td><td>&quot;Sri Lanka&quot;</td><td>&quot;5bdcdb72&quot;</td></tr><tr><td>995469</td><td>&quot;TM Head&quot;</td><td>&quot;Australia&quot;</td><td>&quot;12b610c2&quot;</td></tr><tr><td>995469</td><td>&quot;UT Khawaja&quot;</td><td>&quot;Australia&quot;</td><td>&quot;331ea488&quot;</td></tr></tbody></table></div>"
      ],
      "text/plain": [
       "shape: (74_146, 4)\n",
       "┌──────────┬─────────────────┬───────────┬───────────┐\n",
       "│ match_id ┆ player          ┆ country   ┆ player_id │\n",
       "│ ---      ┆ ---             ┆ ---       ┆ ---       │\n",
       "│ i64      ┆ str             ┆ str       ┆ str       │\n",
       "╞══════════╪═════════════════╪═══════════╪═══════════╡\n",
       "│ 1001349  ┆ A Zampa         ┆ Australia ┆ 14f96089  │\n",
       "│ 1001349  ┆ AJ Finch        ┆ Australia ┆ b8d490fd  │\n",
       "│ 1001349  ┆ AJ Turner       ┆ Australia ┆ ff1e12a0  │\n",
       "│ 1001349  ┆ AJ Tye          ┆ Australia ┆ 7c7d63a2  │\n",
       "│ 1001349  ┆ B Stanlake      ┆ Australia ┆ 6834d1f2  │\n",
       "│ …        ┆ …               ┆ …         ┆ …         │\n",
       "│ 995469   ┆ SMSM Senanayake ┆ Sri Lanka ┆ 4c4fa80b  │\n",
       "│ 995469   ┆ SS Pathirana    ┆ Sri Lanka ┆ 753c95b9  │\n",
       "│ 995469   ┆ TM Dilshan      ┆ Sri Lanka ┆ 5bdcdb72  │\n",
       "│ 995469   ┆ TM Head         ┆ Australia ┆ 12b610c2  │\n",
       "│ 995469   ┆ UT Khawaja      ┆ Australia ┆ 331ea488  │\n",
       "└──────────┴─────────────────┴───────────┴───────────┘"
      ]
     },
     "execution_count": 26,
     "metadata": {},
     "output_type": "execute_result"
    }
   ],
   "source": [
    "df = final_df.join(playerid_df, on=['match_id','player'], how='inner').drop('people_right','info','registry').select(['match_id','player','country','player_id'])\n",
    "df"
   ]
  },
  {
   "cell_type": "code",
   "execution_count": 27,
   "metadata": {},
   "outputs": [],
   "source": [
    "df.write_csv(\"../../processedData/Matchplayers.csv\")"
   ]
  },
  {
   "cell_type": "markdown",
   "metadata": {},
   "source": [
    "# Individual player's data"
   ]
  },
  {
   "cell_type": "code",
   "execution_count": 29,
   "metadata": {},
   "outputs": [
    {
     "data": {
      "text/html": [
       "<div><style>\n",
       ".dataframe > thead > tr,\n",
       ".dataframe > tbody > tr {\n",
       "  text-align: right;\n",
       "  white-space: pre-wrap;\n",
       "}\n",
       "</style>\n",
       "<small>shape: (5_722, 3)</small><table border=\"1\" class=\"dataframe\"><thead><tr><th>player</th><th>country</th><th>player_id</th></tr><tr><td>str</td><td>str</td><td>str</td></tr></thead><tbody><tr><td>&quot;E Frimpong&quot;</td><td>&quot;Ghana&quot;</td><td>&quot;3c13fc3b&quot;</td></tr><tr><td>&quot;L Rika&quot;</td><td>&quot;Fiji&quot;</td><td>&quot;fe12944e&quot;</td></tr><tr><td>&quot;B George&quot;</td><td>&quot;Malta&quot;</td><td>&quot;1bdbf53b&quot;</td></tr><tr><td>&quot;WB Rankin&quot;</td><td>&quot;Ireland&quot;</td><td>&quot;29b89ae8&quot;</td></tr><tr><td>&quot;V Phiri&quot;</td><td>&quot;Malawi&quot;</td><td>&quot;8ffa1b3c&quot;</td></tr><tr><td>&hellip;</td><td>&hellip;</td><td>&hellip;</td></tr><tr><td>&quot;B Frank&quot;</td><td>&quot;Nigeria&quot;</td><td>&quot;040206a2&quot;</td></tr><tr><td>&quot;XM Marshall&quot;</td><td>&quot;West Indies&quot;</td><td>&quot;ffb504b1&quot;</td></tr><tr><td>&quot;T Vanuarua&quot;</td><td>&quot;Cook Islands&quot;</td><td>&quot;1f8b4fec&quot;</td></tr><tr><td>&quot;Nary Thapa&quot;</td><td>&quot;Nepal&quot;</td><td>&quot;d24e69f5&quot;</td></tr><tr><td>&quot;P Maya&quot;</td><td>&quot;Thailand&quot;</td><td>&quot;72eada4c&quot;</td></tr></tbody></table></div>"
      ],
      "text/plain": [
       "shape: (5_722, 3)\n",
       "┌─────────────┬──────────────┬───────────┐\n",
       "│ player      ┆ country      ┆ player_id │\n",
       "│ ---         ┆ ---          ┆ ---       │\n",
       "│ str         ┆ str          ┆ str       │\n",
       "╞═════════════╪══════════════╪═══════════╡\n",
       "│ E Frimpong  ┆ Ghana        ┆ 3c13fc3b  │\n",
       "│ L Rika      ┆ Fiji         ┆ fe12944e  │\n",
       "│ B George    ┆ Malta        ┆ 1bdbf53b  │\n",
       "│ WB Rankin   ┆ Ireland      ┆ 29b89ae8  │\n",
       "│ V Phiri     ┆ Malawi       ┆ 8ffa1b3c  │\n",
       "│ …           ┆ …            ┆ …         │\n",
       "│ B Frank     ┆ Nigeria      ┆ 040206a2  │\n",
       "│ XM Marshall ┆ West Indies  ┆ ffb504b1  │\n",
       "│ T Vanuarua  ┆ Cook Islands ┆ 1f8b4fec  │\n",
       "│ Nary Thapa  ┆ Nepal        ┆ d24e69f5  │\n",
       "│ P Maya      ┆ Thailand     ┆ 72eada4c  │\n",
       "└─────────────┴──────────────┴───────────┘"
      ]
     },
     "execution_count": 29,
     "metadata": {},
     "output_type": "execute_result"
    }
   ],
   "source": [
    "players = df.drop('match_id').select('player','country','player_id').unique()\n",
    "players"
   ]
  },
  {
   "cell_type": "code",
   "execution_count": 30,
   "metadata": {},
   "outputs": [],
   "source": [
    "players.write_csv(\"../../processedData/Players.csv\")"
   ]
  }
 ],
 "metadata": {
  "kernelspec": {
   "display_name": "eda",
   "language": "python",
   "name": "python3"
  },
  "language_info": {
   "codemirror_mode": {
    "name": "ipython",
    "version": 3
   },
   "file_extension": ".py",
   "mimetype": "text/x-python",
   "name": "python",
   "nbconvert_exporter": "python",
   "pygments_lexer": "ipython3",
   "version": "3.8.19"
  }
 },
 "nbformat": 4,
 "nbformat_minor": 2
}
