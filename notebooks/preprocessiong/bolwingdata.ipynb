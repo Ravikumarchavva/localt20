{
 "cells": [
  {
   "cell_type": "code",
   "execution_count": 35,
   "metadata": {},
   "outputs": [
    {
     "data": {
      "text/html": [
       "<div><style>\n",
       ".dataframe > thead > tr,\n",
       ".dataframe > tbody > tr {\n",
       "  text-align: right;\n",
       "  white-space: pre-wrap;\n",
       "}\n",
       "</style>\n",
       "<small>shape: (4_100, 15)</small><table border=\"1\" class=\"dataframe\"><thead><tr><th>Player</th><th>Span</th><th>Mat</th><th>Inns</th><th>Overs</th><th>Mdns</th><th>Runs</th><th>Wkts</th><th>BBI</th><th>Ave</th><th>Econ</th><th>SR</th><th>4</th><th>5</th><th>Unnamed: 14</th></tr><tr><td>str</td><td>str</td><td>i64</td><td>str</td><td>str</td><td>str</td><td>str</td><td>str</td><td>str</td><td>str</td><td>str</td><td>str</td><td>str</td><td>str</td><td>str</td></tr></thead><tbody><tr><td>&quot;A Busing-Volschenk (NAM)&quot;</td><td>&quot;2024-2024&quot;</td><td>1</td><td>&quot;-&quot;</td><td>&quot;-&quot;</td><td>&quot;-&quot;</td><td>&quot;-&quot;</td><td>&quot;-&quot;</td><td>&quot;-&quot;</td><td>&quot;-&quot;</td><td>&quot;-&quot;</td><td>&quot;-&quot;</td><td>&quot;-&quot;</td><td>&quot;-&quot;</td><td>null</td></tr><tr><td>&quot;DS Vosloo (MLT)&quot;</td><td>&quot;2021-2021&quot;</td><td>2</td><td>&quot;-&quot;</td><td>&quot;-&quot;</td><td>&quot;-&quot;</td><td>&quot;-&quot;</td><td>&quot;-&quot;</td><td>&quot;-&quot;</td><td>&quot;-&quot;</td><td>&quot;-&quot;</td><td>&quot;-&quot;</td><td>&quot;-&quot;</td><td>&quot;-&quot;</td><td>null</td></tr><tr><td>&quot;MS Wade (AUS)&quot;</td><td>&quot;2011-2024&quot;</td><td>92</td><td>&quot;-&quot;</td><td>&quot;-&quot;</td><td>&quot;-&quot;</td><td>&quot;-&quot;</td><td>&quot;-&quot;</td><td>&quot;-&quot;</td><td>&quot;-&quot;</td><td>&quot;-&quot;</td><td>&quot;-&quot;</td><td>&quot;-&quot;</td><td>&quot;-&quot;</td><td>null</td></tr><tr><td>&quot;SB Wagh (Mex)&quot;</td><td>&quot;2024-2024&quot;</td><td>5</td><td>&quot;-&quot;</td><td>&quot;-&quot;</td><td>&quot;-&quot;</td><td>&quot;-&quot;</td><td>&quot;-&quot;</td><td>&quot;-&quot;</td><td>&quot;-&quot;</td><td>&quot;-&quot;</td><td>&quot;-&quot;</td><td>&quot;-&quot;</td><td>&quot;-&quot;</td><td>null</td></tr><tr><td>&quot;Wahidullah Usmani (Belg)&quot;</td><td>&quot;2020-2021&quot;</td><td>7</td><td>&quot;-&quot;</td><td>&quot;-&quot;</td><td>&quot;-&quot;</td><td>&quot;-&quot;</td><td>&quot;-&quot;</td><td>&quot;-&quot;</td><td>&quot;-&quot;</td><td>&quot;-&quot;</td><td>&quot;-&quot;</td><td>&quot;-&quot;</td><td>&quot;-&quot;</td><td>null</td></tr><tr><td>&hellip;</td><td>&hellip;</td><td>&hellip;</td><td>&hellip;</td><td>&hellip;</td><td>&hellip;</td><td>&hellip;</td><td>&hellip;</td><td>&hellip;</td><td>&hellip;</td><td>&hellip;</td><td>&hellip;</td><td>&hellip;</td><td>&hellip;</td><td>&hellip;</td></tr><tr><td>&quot;Taskin Ahmed (BAN)&quot;</td><td>&quot;2014-2024&quot;</td><td>70</td><td>&quot;68&quot;</td><td>&quot;242.5&quot;</td><td>&quot;4&quot;</td><td>&quot;1835&quot;</td><td>&quot;75&quot;</td><td>&quot;4/16&quot;</td><td>&quot;24.46&quot;</td><td>&quot;7.55&quot;</td><td>&quot;19.4&quot;</td><td>&quot;2&quot;</td><td>&quot;0&quot;</td><td>null</td></tr><tr><td>&quot;K Irakoze (RWN)&quot;</td><td>&quot;2021-2024&quot;</td><td>75</td><td>&quot;72&quot;</td><td>&quot;216.0&quot;</td><td>&quot;5&quot;</td><td>&quot;1416&quot;</td><td>&quot;74&quot;</td><td>&quot;4/20&quot;</td><td>&quot;19.13&quot;</td><td>&quot;6.55&quot;</td><td>&quot;17.5&quot;</td><td>&quot;3&quot;</td><td>&quot;0&quot;</td><td>null</td></tr><tr><td>&quot;AR Ramjani (UGA)&quot;</td><td>&quot;2022-2024&quot;</td><td>43</td><td>&quot;41&quot;</td><td>&quot;142.1&quot;</td><td>&quot;8&quot;</td><td>&quot;688&quot;</td><td>&quot;74&quot;</td><td>&quot;4/9&quot;</td><td>&quot;9.29&quot;</td><td>&quot;4.83&quot;</td><td>&quot;11.5&quot;</td><td>&quot;3&quot;</td><td>&quot;0&quot;</td><td>null</td></tr><tr><td>&quot;Vraj Patel (KENYA)&quot;</td><td>&quot;2021-2024&quot;</td><td>52</td><td>&quot;51&quot;</td><td>&quot;185.0&quot;</td><td>&quot;8&quot;</td><td>&quot;975&quot;</td><td>&quot;74&quot;</td><td>&quot;5/12&quot;</td><td>&quot;13.17&quot;</td><td>&quot;5.27&quot;</td><td>&quot;15.0&quot;</td><td>&quot;1&quot;</td><td>&quot;1&quot;</td><td>null</td></tr><tr><td>&quot;Imad Wasim (PAK)&quot;</td><td>&quot;2015-2024&quot;</td><td>75</td><td>&quot;74&quot;</td><td>&quot;256.0&quot;</td><td>&quot;4&quot;</td><td>&quot;1588&quot;</td><td>&quot;73&quot;</td><td>&quot;5/14&quot;</td><td>&quot;21.75&quot;</td><td>&quot;6.2&quot;</td><td>&quot;21.0&quot;</td><td>&quot;1&quot;</td><td>&quot;1&quot;</td><td>null</td></tr></tbody></table></div>"
      ],
      "text/plain": [
       "shape: (4_100, 15)\n",
       "┌──────────────────────────┬───────────┬─────┬──────┬───┬──────┬─────┬─────┬─────────────┐\n",
       "│ Player                   ┆ Span      ┆ Mat ┆ Inns ┆ … ┆ SR   ┆ 4   ┆ 5   ┆ Unnamed: 14 │\n",
       "│ ---                      ┆ ---       ┆ --- ┆ ---  ┆   ┆ ---  ┆ --- ┆ --- ┆ ---         │\n",
       "│ str                      ┆ str       ┆ i64 ┆ str  ┆   ┆ str  ┆ str ┆ str ┆ str         │\n",
       "╞══════════════════════════╪═══════════╪═════╪══════╪═══╪══════╪═════╪═════╪═════════════╡\n",
       "│ A Busing-Volschenk (NAM) ┆ 2024-2024 ┆ 1   ┆ -    ┆ … ┆ -    ┆ -   ┆ -   ┆ null        │\n",
       "│ DS Vosloo (MLT)          ┆ 2021-2021 ┆ 2   ┆ -    ┆ … ┆ -    ┆ -   ┆ -   ┆ null        │\n",
       "│ MS Wade (AUS)            ┆ 2011-2024 ┆ 92  ┆ -    ┆ … ┆ -    ┆ -   ┆ -   ┆ null        │\n",
       "│ SB Wagh (Mex)            ┆ 2024-2024 ┆ 5   ┆ -    ┆ … ┆ -    ┆ -   ┆ -   ┆ null        │\n",
       "│ Wahidullah Usmani (Belg) ┆ 2020-2021 ┆ 7   ┆ -    ┆ … ┆ -    ┆ -   ┆ -   ┆ null        │\n",
       "│ …                        ┆ …         ┆ …   ┆ …    ┆ … ┆ …    ┆ …   ┆ …   ┆ …           │\n",
       "│ Taskin Ahmed (BAN)       ┆ 2014-2024 ┆ 70  ┆ 68   ┆ … ┆ 19.4 ┆ 2   ┆ 0   ┆ null        │\n",
       "│ K Irakoze (RWN)          ┆ 2021-2024 ┆ 75  ┆ 72   ┆ … ┆ 17.5 ┆ 3   ┆ 0   ┆ null        │\n",
       "│ AR Ramjani (UGA)         ┆ 2022-2024 ┆ 43  ┆ 41   ┆ … ┆ 11.5 ┆ 3   ┆ 0   ┆ null        │\n",
       "│ Vraj Patel (KENYA)       ┆ 2021-2024 ┆ 52  ┆ 51   ┆ … ┆ 15.0 ┆ 1   ┆ 1   ┆ null        │\n",
       "│ Imad Wasim (PAK)         ┆ 2015-2024 ┆ 75  ┆ 74   ┆ … ┆ 21.0 ┆ 1   ┆ 1   ┆ null        │\n",
       "└──────────────────────────┴───────────┴─────┴──────┴───┴──────┴─────┴─────┴─────────────┘"
      ]
     },
     "execution_count": 35,
     "metadata": {},
     "output_type": "execute_result"
    }
   ],
   "source": [
    "import os\n",
    "import glob\n",
    "import polars as pl\n",
    "import pandas as pd\n",
    "\n",
    "# Specify the directory where your CSV files are located\n",
    "directory = r'D:\\github\\localt20\\data'\n",
    "\n",
    "bowling_data = pl.read_csv(os.path.join(directory, 't20_bowling_stats.csv'))\n",
    "bowling_data"
   ]
  },
  {
   "cell_type": "code",
   "execution_count": 36,
   "metadata": {},
   "outputs": [
    {
     "data": {
      "text/html": [
       "<div><style>\n",
       ".dataframe > thead > tr,\n",
       ".dataframe > tbody > tr {\n",
       "  text-align: right;\n",
       "  white-space: pre-wrap;\n",
       "}\n",
       "</style>\n",
       "<small>shape: (4_100, 4)</small><table border=\"1\" class=\"dataframe\"><thead><tr><th>Player</th><th>Overs</th><th>Wkts</th><th>Econ</th></tr><tr><td>str</td><td>str</td><td>str</td><td>str</td></tr></thead><tbody><tr><td>&quot;A Busing-Volschenk (NAM)&quot;</td><td>&quot;-&quot;</td><td>&quot;-&quot;</td><td>&quot;-&quot;</td></tr><tr><td>&quot;DS Vosloo (MLT)&quot;</td><td>&quot;-&quot;</td><td>&quot;-&quot;</td><td>&quot;-&quot;</td></tr><tr><td>&quot;MS Wade (AUS)&quot;</td><td>&quot;-&quot;</td><td>&quot;-&quot;</td><td>&quot;-&quot;</td></tr><tr><td>&quot;SB Wagh (Mex)&quot;</td><td>&quot;-&quot;</td><td>&quot;-&quot;</td><td>&quot;-&quot;</td></tr><tr><td>&quot;Wahidullah Usmani (Belg)&quot;</td><td>&quot;-&quot;</td><td>&quot;-&quot;</td><td>&quot;-&quot;</td></tr><tr><td>&hellip;</td><td>&hellip;</td><td>&hellip;</td><td>&hellip;</td></tr><tr><td>&quot;Taskin Ahmed (BAN)&quot;</td><td>&quot;242.5&quot;</td><td>&quot;75&quot;</td><td>&quot;7.55&quot;</td></tr><tr><td>&quot;K Irakoze (RWN)&quot;</td><td>&quot;216.0&quot;</td><td>&quot;74&quot;</td><td>&quot;6.55&quot;</td></tr><tr><td>&quot;AR Ramjani (UGA)&quot;</td><td>&quot;142.1&quot;</td><td>&quot;74&quot;</td><td>&quot;4.83&quot;</td></tr><tr><td>&quot;Vraj Patel (KENYA)&quot;</td><td>&quot;185.0&quot;</td><td>&quot;74&quot;</td><td>&quot;5.27&quot;</td></tr><tr><td>&quot;Imad Wasim (PAK)&quot;</td><td>&quot;256.0&quot;</td><td>&quot;73&quot;</td><td>&quot;6.2&quot;</td></tr></tbody></table></div>"
      ],
      "text/plain": [
       "shape: (4_100, 4)\n",
       "┌──────────────────────────┬───────┬──────┬──────┐\n",
       "│ Player                   ┆ Overs ┆ Wkts ┆ Econ │\n",
       "│ ---                      ┆ ---   ┆ ---  ┆ ---  │\n",
       "│ str                      ┆ str   ┆ str  ┆ str  │\n",
       "╞══════════════════════════╪═══════╪══════╪══════╡\n",
       "│ A Busing-Volschenk (NAM) ┆ -     ┆ -    ┆ -    │\n",
       "│ DS Vosloo (MLT)          ┆ -     ┆ -    ┆ -    │\n",
       "│ MS Wade (AUS)            ┆ -     ┆ -    ┆ -    │\n",
       "│ SB Wagh (Mex)            ┆ -     ┆ -    ┆ -    │\n",
       "│ Wahidullah Usmani (Belg) ┆ -     ┆ -    ┆ -    │\n",
       "│ …                        ┆ …     ┆ …    ┆ …    │\n",
       "│ Taskin Ahmed (BAN)       ┆ 242.5 ┆ 75   ┆ 7.55 │\n",
       "│ K Irakoze (RWN)          ┆ 216.0 ┆ 74   ┆ 6.55 │\n",
       "│ AR Ramjani (UGA)         ┆ 142.1 ┆ 74   ┆ 4.83 │\n",
       "│ Vraj Patel (KENYA)       ┆ 185.0 ┆ 74   ┆ 5.27 │\n",
       "│ Imad Wasim (PAK)         ┆ 256.0 ┆ 73   ┆ 6.2  │\n",
       "└──────────────────────────┴───────┴──────┴──────┘"
      ]
     },
     "execution_count": 36,
     "metadata": {},
     "output_type": "execute_result"
    }
   ],
   "source": [
    "bowling_data = bowling_data.select([\"Player\",'Overs',\"Wkts\",\"Econ\"])\n",
    "bowling_data"
   ]
  },
  {
   "cell_type": "code",
   "execution_count": 37,
   "metadata": {},
   "outputs": [
    {
     "data": {
      "text/html": [
       "<div><style>\n",
       ".dataframe > thead > tr,\n",
       ".dataframe > tbody > tr {\n",
       "  text-align: right;\n",
       "  white-space: pre-wrap;\n",
       "}\n",
       "</style>\n",
       "<small>shape: (4_100, 4)</small><table border=\"1\" class=\"dataframe\"><thead><tr><th>Player</th><th>Overs</th><th>Wkts</th><th>Econ</th></tr><tr><td>str</td><td>f64</td><td>f64</td><td>f64</td></tr></thead><tbody><tr><td>&quot;A Busing-Volschenk (NAM)&quot;</td><td>0.0</td><td>0.0</td><td>0.0</td></tr><tr><td>&quot;DS Vosloo (MLT)&quot;</td><td>0.0</td><td>0.0</td><td>0.0</td></tr><tr><td>&quot;MS Wade (AUS)&quot;</td><td>0.0</td><td>0.0</td><td>0.0</td></tr><tr><td>&quot;SB Wagh (Mex)&quot;</td><td>0.0</td><td>0.0</td><td>0.0</td></tr><tr><td>&quot;Wahidullah Usmani (Belg)&quot;</td><td>0.0</td><td>0.0</td><td>0.0</td></tr><tr><td>&hellip;</td><td>&hellip;</td><td>&hellip;</td><td>&hellip;</td></tr><tr><td>&quot;Taskin Ahmed (BAN)&quot;</td><td>242.5</td><td>75.0</td><td>7.55</td></tr><tr><td>&quot;K Irakoze (RWN)&quot;</td><td>216.0</td><td>74.0</td><td>6.55</td></tr><tr><td>&quot;AR Ramjani (UGA)&quot;</td><td>142.1</td><td>74.0</td><td>4.83</td></tr><tr><td>&quot;Vraj Patel (KENYA)&quot;</td><td>185.0</td><td>74.0</td><td>5.27</td></tr><tr><td>&quot;Imad Wasim (PAK)&quot;</td><td>256.0</td><td>73.0</td><td>6.2</td></tr></tbody></table></div>"
      ],
      "text/plain": [
       "shape: (4_100, 4)\n",
       "┌──────────────────────────┬───────┬──────┬──────┐\n",
       "│ Player                   ┆ Overs ┆ Wkts ┆ Econ │\n",
       "│ ---                      ┆ ---   ┆ ---  ┆ ---  │\n",
       "│ str                      ┆ f64   ┆ f64  ┆ f64  │\n",
       "╞══════════════════════════╪═══════╪══════╪══════╡\n",
       "│ A Busing-Volschenk (NAM) ┆ 0.0   ┆ 0.0  ┆ 0.0  │\n",
       "│ DS Vosloo (MLT)          ┆ 0.0   ┆ 0.0  ┆ 0.0  │\n",
       "│ MS Wade (AUS)            ┆ 0.0   ┆ 0.0  ┆ 0.0  │\n",
       "│ SB Wagh (Mex)            ┆ 0.0   ┆ 0.0  ┆ 0.0  │\n",
       "│ Wahidullah Usmani (Belg) ┆ 0.0   ┆ 0.0  ┆ 0.0  │\n",
       "│ …                        ┆ …     ┆ …    ┆ …    │\n",
       "│ Taskin Ahmed (BAN)       ┆ 242.5 ┆ 75.0 ┆ 7.55 │\n",
       "│ K Irakoze (RWN)          ┆ 216.0 ┆ 74.0 ┆ 6.55 │\n",
       "│ AR Ramjani (UGA)         ┆ 142.1 ┆ 74.0 ┆ 4.83 │\n",
       "│ Vraj Patel (KENYA)       ┆ 185.0 ┆ 74.0 ┆ 5.27 │\n",
       "│ Imad Wasim (PAK)         ┆ 256.0 ┆ 73.0 ┆ 6.2  │\n",
       "└──────────────────────────┴───────┴──────┴──────┘"
      ]
     },
     "execution_count": 37,
     "metadata": {},
     "output_type": "execute_result"
    }
   ],
   "source": [
    "bowling_data = bowling_data.with_columns(pl.col(\"Overs\").str.replace(\"-\",pl.lit('0')).cast(pl.Float64))\n",
    "bowling_data = bowling_data.with_columns(pl.col(\"Wkts\").str.replace(\"-\",pl.lit('0')).cast(pl.Float64))\n",
    "bowling_data = bowling_data.with_columns(pl.col(\"Econ\").str.replace(\"-\",pl.lit('0')).cast(pl.Float64))\n",
    "bowling_data"
   ]
  },
  {
   "cell_type": "code",
   "execution_count": 38,
   "metadata": {},
   "outputs": [
    {
     "data": {
      "text/html": [
       "<div><style>\n",
       ".dataframe > thead > tr,\n",
       ".dataframe > tbody > tr {\n",
       "  text-align: right;\n",
       "  white-space: pre-wrap;\n",
       "}\n",
       "</style>\n",
       "<small>shape: (4_100, 4)</small><table border=\"1\" class=\"dataframe\"><thead><tr><th>Player</th><th>Overs</th><th>Wkts</th><th>Econ</th></tr><tr><td>str</td><td>f64</td><td>f64</td><td>f64</td></tr></thead><tbody><tr><td>&quot;A Busing-Volschenk&quot;</td><td>0.0</td><td>0.0</td><td>0.0</td></tr><tr><td>&quot;DS Vosloo&quot;</td><td>0.0</td><td>0.0</td><td>0.0</td></tr><tr><td>&quot;MS Wade&quot;</td><td>0.0</td><td>0.0</td><td>0.0</td></tr><tr><td>&quot;SB Wagh&quot;</td><td>0.0</td><td>0.0</td><td>0.0</td></tr><tr><td>&quot;Wahidullah Usmani&quot;</td><td>0.0</td><td>0.0</td><td>0.0</td></tr><tr><td>&hellip;</td><td>&hellip;</td><td>&hellip;</td><td>&hellip;</td></tr><tr><td>&quot;Taskin Ahmed&quot;</td><td>242.5</td><td>75.0</td><td>7.55</td></tr><tr><td>&quot;K Irakoze&quot;</td><td>216.0</td><td>74.0</td><td>6.55</td></tr><tr><td>&quot;AR Ramjani&quot;</td><td>142.1</td><td>74.0</td><td>4.83</td></tr><tr><td>&quot;Vraj Patel&quot;</td><td>185.0</td><td>74.0</td><td>5.27</td></tr><tr><td>&quot;Imad Wasim&quot;</td><td>256.0</td><td>73.0</td><td>6.2</td></tr></tbody></table></div>"
      ],
      "text/plain": [
       "shape: (4_100, 4)\n",
       "┌────────────────────┬───────┬──────┬──────┐\n",
       "│ Player             ┆ Overs ┆ Wkts ┆ Econ │\n",
       "│ ---                ┆ ---   ┆ ---  ┆ ---  │\n",
       "│ str                ┆ f64   ┆ f64  ┆ f64  │\n",
       "╞════════════════════╪═══════╪══════╪══════╡\n",
       "│ A Busing-Volschenk ┆ 0.0   ┆ 0.0  ┆ 0.0  │\n",
       "│ DS Vosloo          ┆ 0.0   ┆ 0.0  ┆ 0.0  │\n",
       "│ MS Wade            ┆ 0.0   ┆ 0.0  ┆ 0.0  │\n",
       "│ SB Wagh            ┆ 0.0   ┆ 0.0  ┆ 0.0  │\n",
       "│ Wahidullah Usmani  ┆ 0.0   ┆ 0.0  ┆ 0.0  │\n",
       "│ …                  ┆ …     ┆ …    ┆ …    │\n",
       "│ Taskin Ahmed       ┆ 242.5 ┆ 75.0 ┆ 7.55 │\n",
       "│ K Irakoze          ┆ 216.0 ┆ 74.0 ┆ 6.55 │\n",
       "│ AR Ramjani         ┆ 142.1 ┆ 74.0 ┆ 4.83 │\n",
       "│ Vraj Patel         ┆ 185.0 ┆ 74.0 ┆ 5.27 │\n",
       "│ Imad Wasim         ┆ 256.0 ┆ 73.0 ┆ 6.2  │\n",
       "└────────────────────┴───────┴──────┴──────┘"
      ]
     },
     "execution_count": 38,
     "metadata": {},
     "output_type": "execute_result"
    }
   ],
   "source": [
    "bowling_data = bowling_data.with_columns(bowling_data['Player'].str.split_exact(' (', n=1).struct.rename_fields(['Player', 'Country']).alias('Player').to_frame().unnest('Player').drop(\"Country\"))\n",
    "bowling_data"
   ]
  },
  {
   "cell_type": "code",
   "execution_count": 39,
   "metadata": {},
   "outputs": [
    {
     "data": {
      "text/html": [
       "<div><style>\n",
       ".dataframe > thead > tr,\n",
       ".dataframe > tbody > tr {\n",
       "  text-align: right;\n",
       "  white-space: pre-wrap;\n",
       "}\n",
       "</style>\n",
       "<small>shape: (5_722, 3)</small><table border=\"1\" class=\"dataframe\"><thead><tr><th>Player</th><th>country</th><th>player_id</th></tr><tr><td>str</td><td>str</td><td>str</td></tr></thead><tbody><tr><td>&quot;E Frimpong&quot;</td><td>&quot;Ghana&quot;</td><td>&quot;3c13fc3b&quot;</td></tr><tr><td>&quot;L Rika&quot;</td><td>&quot;Fiji&quot;</td><td>&quot;fe12944e&quot;</td></tr><tr><td>&quot;B George&quot;</td><td>&quot;Malta&quot;</td><td>&quot;1bdbf53b&quot;</td></tr><tr><td>&quot;WB Rankin&quot;</td><td>&quot;Ireland&quot;</td><td>&quot;29b89ae8&quot;</td></tr><tr><td>&quot;V Phiri&quot;</td><td>&quot;Malawi&quot;</td><td>&quot;8ffa1b3c&quot;</td></tr><tr><td>&hellip;</td><td>&hellip;</td><td>&hellip;</td></tr><tr><td>&quot;B Frank&quot;</td><td>&quot;Nigeria&quot;</td><td>&quot;040206a2&quot;</td></tr><tr><td>&quot;XM Marshall&quot;</td><td>&quot;West Indies&quot;</td><td>&quot;ffb504b1&quot;</td></tr><tr><td>&quot;T Vanuarua&quot;</td><td>&quot;Cook Islands&quot;</td><td>&quot;1f8b4fec&quot;</td></tr><tr><td>&quot;Nary Thapa&quot;</td><td>&quot;Nepal&quot;</td><td>&quot;d24e69f5&quot;</td></tr><tr><td>&quot;P Maya&quot;</td><td>&quot;Thailand&quot;</td><td>&quot;72eada4c&quot;</td></tr></tbody></table></div>"
      ],
      "text/plain": [
       "shape: (5_722, 3)\n",
       "┌─────────────┬──────────────┬───────────┐\n",
       "│ Player      ┆ country      ┆ player_id │\n",
       "│ ---         ┆ ---          ┆ ---       │\n",
       "│ str         ┆ str          ┆ str       │\n",
       "╞═════════════╪══════════════╪═══════════╡\n",
       "│ E Frimpong  ┆ Ghana        ┆ 3c13fc3b  │\n",
       "│ L Rika      ┆ Fiji         ┆ fe12944e  │\n",
       "│ B George    ┆ Malta        ┆ 1bdbf53b  │\n",
       "│ WB Rankin   ┆ Ireland      ┆ 29b89ae8  │\n",
       "│ V Phiri     ┆ Malawi       ┆ 8ffa1b3c  │\n",
       "│ …           ┆ …            ┆ …         │\n",
       "│ B Frank     ┆ Nigeria      ┆ 040206a2  │\n",
       "│ XM Marshall ┆ West Indies  ┆ ffb504b1  │\n",
       "│ T Vanuarua  ┆ Cook Islands ┆ 1f8b4fec  │\n",
       "│ Nary Thapa  ┆ Nepal        ┆ d24e69f5  │\n",
       "│ P Maya      ┆ Thailand     ┆ 72eada4c  │\n",
       "└─────────────┴──────────────┴───────────┘"
      ]
     },
     "execution_count": 39,
     "metadata": {},
     "output_type": "execute_result"
    }
   ],
   "source": [
    "players_data = pl.read_csv(r'D:\\github\\localt20\\processedData\\Players.csv').rename({\"player\": \"Player\"})\n",
    "players_data"
   ]
  },
  {
   "cell_type": "code",
   "execution_count": 40,
   "metadata": {},
   "outputs": [
    {
     "data": {
      "text/html": [
       "<div><style>\n",
       ".dataframe > thead > tr,\n",
       ".dataframe > tbody > tr {\n",
       "  text-align: right;\n",
       "  white-space: pre-wrap;\n",
       "}\n",
       "</style>\n",
       "<small>shape: (3_619, 6)</small><table border=\"1\" class=\"dataframe\"><thead><tr><th>Player</th><th>Overs</th><th>Wkts</th><th>Econ</th><th>country</th><th>player_id</th></tr><tr><td>str</td><td>f64</td><td>f64</td><td>f64</td><td>str</td><td>str</td></tr></thead><tbody><tr><td>&quot;E Frimpong&quot;</td><td>10.0</td><td>4.0</td><td>3.1</td><td>&quot;Ghana&quot;</td><td>&quot;3c13fc3b&quot;</td></tr><tr><td>&quot;WB Rankin&quot;</td><td>178.0</td><td>55.0</td><td>6.84</td><td>&quot;Ireland&quot;</td><td>&quot;29b89ae8&quot;</td></tr><tr><td>&quot;A Nortje&quot;</td><td>144.5</td><td>53.0</td><td>7.01</td><td>&quot;South Africa&quot;</td><td>&quot;acdc62f5&quot;</td></tr><tr><td>&quot;KJ Coetzer&quot;</td><td>11.0</td><td>5.0</td><td>6.45</td><td>&quot;Scotland&quot;</td><td>&quot;85d8110a&quot;</td></tr><tr><td>&quot;N Ahir&quot;</td><td>19.0</td><td>2.0</td><td>10.0</td><td>&quot;Panama&quot;</td><td>&quot;c2ecd4a7&quot;</td></tr><tr><td>&hellip;</td><td>&hellip;</td><td>&hellip;</td><td>&hellip;</td><td>&hellip;</td><td>&hellip;</td></tr><tr><td>&quot;DJ Willey&quot;</td><td>144.1</td><td>51.0</td><td>8.18</td><td>&quot;England&quot;</td><td>&quot;7f048519&quot;</td></tr><tr><td>&quot;MNR Cooray&quot;</td><td>24.2</td><td>8.0</td><td>7.15</td><td>&quot;Maldives&quot;</td><td>&quot;a9ddd37d&quot;</td></tr><tr><td>&quot;Anoop Orsu&quot;</td><td>5.0</td><td>1.0</td><td>10.6</td><td>&quot;Luxembourg&quot;</td><td>&quot;488b7e22&quot;</td></tr><tr><td>&quot;XM Marshall&quot;</td><td>0.0</td><td>0.0</td><td>0.0</td><td>&quot;West Indies&quot;</td><td>&quot;ffb504b1&quot;</td></tr><tr><td>&quot;T Vanuarua&quot;</td><td>18.0</td><td>6.0</td><td>6.83</td><td>&quot;Cook Islands&quot;</td><td>&quot;1f8b4fec&quot;</td></tr></tbody></table></div>"
      ],
      "text/plain": [
       "shape: (3_619, 6)\n",
       "┌─────────────┬───────┬──────┬──────┬──────────────┬───────────┐\n",
       "│ Player      ┆ Overs ┆ Wkts ┆ Econ ┆ country      ┆ player_id │\n",
       "│ ---         ┆ ---   ┆ ---  ┆ ---  ┆ ---          ┆ ---       │\n",
       "│ str         ┆ f64   ┆ f64  ┆ f64  ┆ str          ┆ str       │\n",
       "╞═════════════╪═══════╪══════╪══════╪══════════════╪═══════════╡\n",
       "│ E Frimpong  ┆ 10.0  ┆ 4.0  ┆ 3.1  ┆ Ghana        ┆ 3c13fc3b  │\n",
       "│ WB Rankin   ┆ 178.0 ┆ 55.0 ┆ 6.84 ┆ Ireland      ┆ 29b89ae8  │\n",
       "│ A Nortje    ┆ 144.5 ┆ 53.0 ┆ 7.01 ┆ South Africa ┆ acdc62f5  │\n",
       "│ KJ Coetzer  ┆ 11.0  ┆ 5.0  ┆ 6.45 ┆ Scotland     ┆ 85d8110a  │\n",
       "│ N Ahir      ┆ 19.0  ┆ 2.0  ┆ 10.0 ┆ Panama       ┆ c2ecd4a7  │\n",
       "│ …           ┆ …     ┆ …    ┆ …    ┆ …            ┆ …         │\n",
       "│ DJ Willey   ┆ 144.1 ┆ 51.0 ┆ 8.18 ┆ England      ┆ 7f048519  │\n",
       "│ MNR Cooray  ┆ 24.2  ┆ 8.0  ┆ 7.15 ┆ Maldives     ┆ a9ddd37d  │\n",
       "│ Anoop Orsu  ┆ 5.0   ┆ 1.0  ┆ 10.6 ┆ Luxembourg   ┆ 488b7e22  │\n",
       "│ XM Marshall ┆ 0.0   ┆ 0.0  ┆ 0.0  ┆ West Indies  ┆ ffb504b1  │\n",
       "│ T Vanuarua  ┆ 18.0  ┆ 6.0  ┆ 6.83 ┆ Cook Islands ┆ 1f8b4fec  │\n",
       "└─────────────┴───────┴──────┴──────┴──────────────┴───────────┘"
      ]
     },
     "execution_count": 40,
     "metadata": {},
     "output_type": "execute_result"
    }
   ],
   "source": [
    "bowling_data = bowling_data.join(players_data, on=\"Player\", how=\"inner\")\n",
    "bowling_data"
   ]
  },
  {
   "cell_type": "code",
   "execution_count": 46,
   "metadata": {},
   "outputs": [],
   "source": [
    "bowling_data.select([\"player_id\",\"Player\",'Overs',\"Wkts\",\"Econ\"]).write_csv(r'D:\\github\\localt20\\processedData\\bowling.csv')"
   ]
  }
 ],
 "metadata": {
  "kernelspec": {
   "display_name": "eda",
   "language": "python",
   "name": "python3"
  },
  "language_info": {
   "codemirror_mode": {
    "name": "ipython",
    "version": 3
   },
   "file_extension": ".py",
   "mimetype": "text/x-python",
   "name": "python",
   "nbconvert_exporter": "python",
   "pygments_lexer": "ipython3",
   "version": "3.8.19"
  }
 },
 "nbformat": 4,
 "nbformat_minor": 2
}
