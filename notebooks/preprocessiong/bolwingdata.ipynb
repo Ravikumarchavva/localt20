{
 "cells": [
  {
   "cell_type": "code",
   "execution_count": 67,
   "metadata": {},
   "outputs": [
    {
     "data": {
      "text/html": [
       "<div><style>\n",
       ".dataframe > thead > tr,\n",
       ".dataframe > tbody > tr {\n",
       "  text-align: right;\n",
       "  white-space: pre-wrap;\n",
       "}\n",
       "</style>\n",
       "<small>shape: (11_221, 14)</small><table border=\"1\" class=\"dataframe\"><thead><tr><th>Player</th><th>Mat</th><th>Inns</th><th>Overs</th><th>Mdns</th><th>Runs</th><th>Wkts</th><th>BBI</th><th>Ave</th><th>Econ</th><th>SR</th><th>4</th><th>5</th><th>Season</th></tr><tr><td>str</td><td>i64</td><td>str</td><td>str</td><td>str</td><td>str</td><td>str</td><td>str</td><td>str</td><td>str</td><td>str</td><td>str</td><td>str</td><td>str</td></tr></thead><tbody><tr><td>&quot;Zulqarnain Haider (ESP)&quot;</td><td>6</td><td>&quot;6&quot;</td><td>&quot;15.0&quot;</td><td>&quot;0&quot;</td><td>&quot;91&quot;</td><td>&quot;5&quot;</td><td>&quot;2/26&quot;</td><td>&quot;18.2&quot;</td><td>&quot;6.06&quot;</td><td>&quot;18.0&quot;</td><td>&quot;0&quot;</td><td>&quot;0&quot;</td><td>&quot;2022&quot;</td></tr><tr><td>&quot;Zulqarnain Haider (ESP)&quot;</td><td>1</td><td>&quot;1&quot;</td><td>&quot;3.0&quot;</td><td>&quot;0&quot;</td><td>&quot;7&quot;</td><td>&quot;0&quot;</td><td>&quot;-&quot;</td><td>&quot;-&quot;</td><td>&quot;2.33&quot;</td><td>&quot;-&quot;</td><td>&quot;0&quot;</td><td>&quot;0&quot;</td><td>&quot;2019/20&quot;</td></tr><tr><td>&quot;Zulqarnain Haider (ESP)&quot;</td><td>4</td><td>&quot;4&quot;</td><td>&quot;10.0&quot;</td><td>&quot;0&quot;</td><td>&quot;53&quot;</td><td>&quot;3&quot;</td><td>&quot;1/7&quot;</td><td>&quot;17.66&quot;</td><td>&quot;5.3&quot;</td><td>&quot;20.0&quot;</td><td>&quot;0&quot;</td><td>&quot;0&quot;</td><td>&quot;2019&quot;</td></tr><tr><td>&quot;Zulfiqar Ali Shah (PORT)&quot;</td><td>1</td><td>&quot;-&quot;</td><td>&quot;-&quot;</td><td>&quot;-&quot;</td><td>&quot;-&quot;</td><td>&quot;-&quot;</td><td>&quot;-&quot;</td><td>&quot;-&quot;</td><td>&quot;-&quot;</td><td>&quot;-&quot;</td><td>&quot;-&quot;</td><td>&quot;-&quot;</td><td>&quot;2021&quot;</td></tr><tr><td>&quot;Zuhair Muhammad (KSA)&quot;</td><td>2</td><td>&quot;-&quot;</td><td>&quot;-&quot;</td><td>&quot;-&quot;</td><td>&quot;-&quot;</td><td>&quot;-&quot;</td><td>&quot;-&quot;</td><td>&quot;-&quot;</td><td>&quot;-&quot;</td><td>&quot;-&quot;</td><td>&quot;-&quot;</td><td>&quot;-&quot;</td><td>&quot;2023/24&quot;</td></tr><tr><td>&hellip;</td><td>&hellip;</td><td>&hellip;</td><td>&hellip;</td><td>&hellip;</td><td>&hellip;</td><td>&hellip;</td><td>&hellip;</td><td>&hellip;</td><td>&hellip;</td><td>&hellip;</td><td>&hellip;</td><td>&hellip;</td><td>&hellip;</td></tr><tr><td>&quot;A Ahmadhel (BUL)&quot;</td><td>2</td><td>&quot;-&quot;</td><td>&quot;-&quot;</td><td>&quot;-&quot;</td><td>&quot;-&quot;</td><td>&quot;-&quot;</td><td>&quot;-&quot;</td><td>&quot;-&quot;</td><td>&quot;-&quot;</td><td>&quot;-&quot;</td><td>&quot;-&quot;</td><td>&quot;-&quot;</td><td>&quot;2023&quot;</td></tr><tr><td>&quot;A Ahmadhel (BUL)&quot;</td><td>1</td><td>&quot;1&quot;</td><td>&quot;2.0&quot;</td><td>&quot;0&quot;</td><td>&quot;22&quot;</td><td>&quot;1&quot;</td><td>&quot;1/22&quot;</td><td>&quot;22.0&quot;</td><td>&quot;11.0&quot;</td><td>&quot;12.0&quot;</td><td>&quot;0&quot;</td><td>&quot;0&quot;</td><td>&quot;2020&quot;</td></tr><tr><td>&quot;A Ahmadhel (BUL)&quot;</td><td>2</td><td>&quot;2&quot;</td><td>&quot;2.4&quot;</td><td>&quot;0&quot;</td><td>&quot;27&quot;</td><td>&quot;2&quot;</td><td>&quot;1/6&quot;</td><td>&quot;13.5&quot;</td><td>&quot;10.12&quot;</td><td>&quot;8.0&quot;</td><td>&quot;0&quot;</td><td>&quot;0&quot;</td><td>&quot;2020/21&quot;</td></tr><tr><td>&quot;A Ahmadhel (BUL)&quot;</td><td>3</td><td>&quot;3&quot;</td><td>&quot;10.0&quot;</td><td>&quot;0&quot;</td><td>&quot;75&quot;</td><td>&quot;3&quot;</td><td>&quot;2/16&quot;</td><td>&quot;25.0&quot;</td><td>&quot;7.5&quot;</td><td>&quot;20.0&quot;</td><td>&quot;0&quot;</td><td>&quot;0&quot;</td><td>&quot;2019/20&quot;</td></tr><tr><td>&quot;A Ahmadhel (BUL)&quot;</td><td>1</td><td>&quot;-&quot;</td><td>&quot;-&quot;</td><td>&quot;-&quot;</td><td>&quot;-&quot;</td><td>&quot;-&quot;</td><td>&quot;-&quot;</td><td>&quot;-&quot;</td><td>&quot;-&quot;</td><td>&quot;-&quot;</td><td>&quot;-&quot;</td><td>&quot;-&quot;</td><td>&quot;2024&quot;</td></tr></tbody></table></div>"
      ],
      "text/plain": [
       "shape: (11_221, 14)\n",
       "┌──────────────────────────┬─────┬──────┬───────┬───┬──────┬─────┬─────┬─────────┐\n",
       "│ Player                   ┆ Mat ┆ Inns ┆ Overs ┆ … ┆ SR   ┆ 4   ┆ 5   ┆ Season  │\n",
       "│ ---                      ┆ --- ┆ ---  ┆ ---   ┆   ┆ ---  ┆ --- ┆ --- ┆ ---     │\n",
       "│ str                      ┆ i64 ┆ str  ┆ str   ┆   ┆ str  ┆ str ┆ str ┆ str     │\n",
       "╞══════════════════════════╪═════╪══════╪═══════╪═══╪══════╪═════╪═════╪═════════╡\n",
       "│ Zulqarnain Haider (ESP)  ┆ 6   ┆ 6    ┆ 15.0  ┆ … ┆ 18.0 ┆ 0   ┆ 0   ┆ 2022    │\n",
       "│ Zulqarnain Haider (ESP)  ┆ 1   ┆ 1    ┆ 3.0   ┆ … ┆ -    ┆ 0   ┆ 0   ┆ 2019/20 │\n",
       "│ Zulqarnain Haider (ESP)  ┆ 4   ┆ 4    ┆ 10.0  ┆ … ┆ 20.0 ┆ 0   ┆ 0   ┆ 2019    │\n",
       "│ Zulfiqar Ali Shah (PORT) ┆ 1   ┆ -    ┆ -     ┆ … ┆ -    ┆ -   ┆ -   ┆ 2021    │\n",
       "│ Zuhair Muhammad (KSA)    ┆ 2   ┆ -    ┆ -     ┆ … ┆ -    ┆ -   ┆ -   ┆ 2023/24 │\n",
       "│ …                        ┆ …   ┆ …    ┆ …     ┆ … ┆ …    ┆ …   ┆ …   ┆ …       │\n",
       "│ A Ahmadhel (BUL)         ┆ 2   ┆ -    ┆ -     ┆ … ┆ -    ┆ -   ┆ -   ┆ 2023    │\n",
       "│ A Ahmadhel (BUL)         ┆ 1   ┆ 1    ┆ 2.0   ┆ … ┆ 12.0 ┆ 0   ┆ 0   ┆ 2020    │\n",
       "│ A Ahmadhel (BUL)         ┆ 2   ┆ 2    ┆ 2.4   ┆ … ┆ 8.0  ┆ 0   ┆ 0   ┆ 2020/21 │\n",
       "│ A Ahmadhel (BUL)         ┆ 3   ┆ 3    ┆ 10.0  ┆ … ┆ 20.0 ┆ 0   ┆ 0   ┆ 2019/20 │\n",
       "│ A Ahmadhel (BUL)         ┆ 1   ┆ -    ┆ -     ┆ … ┆ -    ┆ -   ┆ -   ┆ 2024    │\n",
       "└──────────────────────────┴─────┴──────┴───────┴───┴──────┴─────┴─────┴─────────┘"
      ]
     },
     "execution_count": 67,
     "metadata": {},
     "output_type": "execute_result"
    }
   ],
   "source": [
    "import os\n",
    "import glob\n",
    "import polars as pl\n",
    "import pandas as pd\n",
    "\n",
    "# Specify the directory where your CSV files are located\n",
    "directory = r'D:\\github\\localt20\\data'\n",
    "\n",
    "bowling_data = pl.read_csv(os.path.join(directory, 't20_bowling_stats.csv'))\n",
    "bowling_data"
   ]
  },
  {
   "cell_type": "code",
   "execution_count": 68,
   "metadata": {},
   "outputs": [
    {
     "data": {
      "text/html": [
       "<div><style>\n",
       ".dataframe > thead > tr,\n",
       ".dataframe > tbody > tr {\n",
       "  text-align: right;\n",
       "  white-space: pre-wrap;\n",
       "}\n",
       "</style>\n",
       "<small>shape: (11_221, 5)</small><table border=\"1\" class=\"dataframe\"><thead><tr><th>Player</th><th>Season</th><th>Overs</th><th>Wkts</th><th>Econ</th></tr><tr><td>str</td><td>str</td><td>str</td><td>str</td><td>str</td></tr></thead><tbody><tr><td>&quot;A Ahmadhel (BUL)&quot;</td><td>&quot;2019/20&quot;</td><td>&quot;10.0&quot;</td><td>&quot;3&quot;</td><td>&quot;7.5&quot;</td></tr><tr><td>&quot;A Ahmadhel (BUL)&quot;</td><td>&quot;2020&quot;</td><td>&quot;2.0&quot;</td><td>&quot;1&quot;</td><td>&quot;11.0&quot;</td></tr><tr><td>&quot;A Ahmadhel (BUL)&quot;</td><td>&quot;2020/21&quot;</td><td>&quot;2.4&quot;</td><td>&quot;2&quot;</td><td>&quot;10.12&quot;</td></tr><tr><td>&quot;A Ahmadhel (BUL)&quot;</td><td>&quot;2021&quot;</td><td>&quot;3.0&quot;</td><td>&quot;0&quot;</td><td>&quot;10.33&quot;</td></tr><tr><td>&quot;A Ahmadhel (BUL)&quot;</td><td>&quot;2023&quot;</td><td>&quot;-&quot;</td><td>&quot;-&quot;</td><td>&quot;-&quot;</td></tr><tr><td>&hellip;</td><td>&hellip;</td><td>&hellip;</td><td>&hellip;</td><td>&hellip;</td></tr><tr><td>&quot;Zuhair Muhammad (KSA)&quot;</td><td>&quot;2023/24&quot;</td><td>&quot;-&quot;</td><td>&quot;-&quot;</td><td>&quot;-&quot;</td></tr><tr><td>&quot;Zulfiqar Ali Shah (PORT)&quot;</td><td>&quot;2021&quot;</td><td>&quot;-&quot;</td><td>&quot;-&quot;</td><td>&quot;-&quot;</td></tr><tr><td>&quot;Zulqarnain Haider (ESP)&quot;</td><td>&quot;2019&quot;</td><td>&quot;10.0&quot;</td><td>&quot;3&quot;</td><td>&quot;5.3&quot;</td></tr><tr><td>&quot;Zulqarnain Haider (ESP)&quot;</td><td>&quot;2019/20&quot;</td><td>&quot;3.0&quot;</td><td>&quot;0&quot;</td><td>&quot;2.33&quot;</td></tr><tr><td>&quot;Zulqarnain Haider (ESP)&quot;</td><td>&quot;2022&quot;</td><td>&quot;15.0&quot;</td><td>&quot;5&quot;</td><td>&quot;6.06&quot;</td></tr></tbody></table></div>"
      ],
      "text/plain": [
       "shape: (11_221, 5)\n",
       "┌──────────────────────────┬─────────┬───────┬──────┬───────┐\n",
       "│ Player                   ┆ Season  ┆ Overs ┆ Wkts ┆ Econ  │\n",
       "│ ---                      ┆ ---     ┆ ---   ┆ ---  ┆ ---   │\n",
       "│ str                      ┆ str     ┆ str   ┆ str  ┆ str   │\n",
       "╞══════════════════════════╪═════════╪═══════╪══════╪═══════╡\n",
       "│ A Ahmadhel (BUL)         ┆ 2019/20 ┆ 10.0  ┆ 3    ┆ 7.5   │\n",
       "│ A Ahmadhel (BUL)         ┆ 2020    ┆ 2.0   ┆ 1    ┆ 11.0  │\n",
       "│ A Ahmadhel (BUL)         ┆ 2020/21 ┆ 2.4   ┆ 2    ┆ 10.12 │\n",
       "│ A Ahmadhel (BUL)         ┆ 2021    ┆ 3.0   ┆ 0    ┆ 10.33 │\n",
       "│ A Ahmadhel (BUL)         ┆ 2023    ┆ -     ┆ -    ┆ -     │\n",
       "│ …                        ┆ …       ┆ …     ┆ …    ┆ …     │\n",
       "│ Zuhair Muhammad (KSA)    ┆ 2023/24 ┆ -     ┆ -    ┆ -     │\n",
       "│ Zulfiqar Ali Shah (PORT) ┆ 2021    ┆ -     ┆ -    ┆ -     │\n",
       "│ Zulqarnain Haider (ESP)  ┆ 2019    ┆ 10.0  ┆ 3    ┆ 5.3   │\n",
       "│ Zulqarnain Haider (ESP)  ┆ 2019/20 ┆ 3.0   ┆ 0    ┆ 2.33  │\n",
       "│ Zulqarnain Haider (ESP)  ┆ 2022    ┆ 15.0  ┆ 5    ┆ 6.06  │\n",
       "└──────────────────────────┴─────────┴───────┴──────┴───────┘"
      ]
     },
     "execution_count": 68,
     "metadata": {},
     "output_type": "execute_result"
    }
   ],
   "source": [
    "bowling_data = bowling_data.select([\"Player\",\"Season\",'Overs',\"Wkts\",\"Econ\"]).sort([\"Player\",\"Season\"])\n",
    "bowling_data"
   ]
  },
  {
   "cell_type": "code",
   "execution_count": 69,
   "metadata": {},
   "outputs": [
    {
     "data": {
      "text/html": [
       "<div><style>\n",
       ".dataframe > thead > tr,\n",
       ".dataframe > tbody > tr {\n",
       "  text-align: right;\n",
       "  white-space: pre-wrap;\n",
       "}\n",
       "</style>\n",
       "<small>shape: (11_221, 5)</small><table border=\"1\" class=\"dataframe\"><thead><tr><th>Player</th><th>Season</th><th>Overs</th><th>Wkts</th><th>Econ</th></tr><tr><td>str</td><td>str</td><td>f64</td><td>f64</td><td>f64</td></tr></thead><tbody><tr><td>&quot;A Ahmadhel (BUL)&quot;</td><td>&quot;2019/20&quot;</td><td>10.0</td><td>3.0</td><td>7.5</td></tr><tr><td>&quot;A Ahmadhel (BUL)&quot;</td><td>&quot;2020&quot;</td><td>2.0</td><td>1.0</td><td>11.0</td></tr><tr><td>&quot;A Ahmadhel (BUL)&quot;</td><td>&quot;2020/21&quot;</td><td>2.4</td><td>2.0</td><td>10.12</td></tr><tr><td>&quot;A Ahmadhel (BUL)&quot;</td><td>&quot;2021&quot;</td><td>3.0</td><td>0.0</td><td>10.33</td></tr><tr><td>&quot;A Ahmadhel (BUL)&quot;</td><td>&quot;2023&quot;</td><td>0.0</td><td>0.0</td><td>0.0</td></tr><tr><td>&hellip;</td><td>&hellip;</td><td>&hellip;</td><td>&hellip;</td><td>&hellip;</td></tr><tr><td>&quot;Zuhair Muhammad (KSA)&quot;</td><td>&quot;2023/24&quot;</td><td>0.0</td><td>0.0</td><td>0.0</td></tr><tr><td>&quot;Zulfiqar Ali Shah (PORT)&quot;</td><td>&quot;2021&quot;</td><td>0.0</td><td>0.0</td><td>0.0</td></tr><tr><td>&quot;Zulqarnain Haider (ESP)&quot;</td><td>&quot;2019&quot;</td><td>10.0</td><td>3.0</td><td>5.3</td></tr><tr><td>&quot;Zulqarnain Haider (ESP)&quot;</td><td>&quot;2019/20&quot;</td><td>3.0</td><td>0.0</td><td>2.33</td></tr><tr><td>&quot;Zulqarnain Haider (ESP)&quot;</td><td>&quot;2022&quot;</td><td>15.0</td><td>5.0</td><td>6.06</td></tr></tbody></table></div>"
      ],
      "text/plain": [
       "shape: (11_221, 5)\n",
       "┌──────────────────────────┬─────────┬───────┬──────┬───────┐\n",
       "│ Player                   ┆ Season  ┆ Overs ┆ Wkts ┆ Econ  │\n",
       "│ ---                      ┆ ---     ┆ ---   ┆ ---  ┆ ---   │\n",
       "│ str                      ┆ str     ┆ f64   ┆ f64  ┆ f64   │\n",
       "╞══════════════════════════╪═════════╪═══════╪══════╪═══════╡\n",
       "│ A Ahmadhel (BUL)         ┆ 2019/20 ┆ 10.0  ┆ 3.0  ┆ 7.5   │\n",
       "│ A Ahmadhel (BUL)         ┆ 2020    ┆ 2.0   ┆ 1.0  ┆ 11.0  │\n",
       "│ A Ahmadhel (BUL)         ┆ 2020/21 ┆ 2.4   ┆ 2.0  ┆ 10.12 │\n",
       "│ A Ahmadhel (BUL)         ┆ 2021    ┆ 3.0   ┆ 0.0  ┆ 10.33 │\n",
       "│ A Ahmadhel (BUL)         ┆ 2023    ┆ 0.0   ┆ 0.0  ┆ 0.0   │\n",
       "│ …                        ┆ …       ┆ …     ┆ …    ┆ …     │\n",
       "│ Zuhair Muhammad (KSA)    ┆ 2023/24 ┆ 0.0   ┆ 0.0  ┆ 0.0   │\n",
       "│ Zulfiqar Ali Shah (PORT) ┆ 2021    ┆ 0.0   ┆ 0.0  ┆ 0.0   │\n",
       "│ Zulqarnain Haider (ESP)  ┆ 2019    ┆ 10.0  ┆ 3.0  ┆ 5.3   │\n",
       "│ Zulqarnain Haider (ESP)  ┆ 2019/20 ┆ 3.0   ┆ 0.0  ┆ 2.33  │\n",
       "│ Zulqarnain Haider (ESP)  ┆ 2022    ┆ 15.0  ┆ 5.0  ┆ 6.06  │\n",
       "└──────────────────────────┴─────────┴───────┴──────┴───────┘"
      ]
     },
     "execution_count": 69,
     "metadata": {},
     "output_type": "execute_result"
    }
   ],
   "source": [
    "bowling_data = bowling_data.with_columns(pl.col(\"Overs\").str.replace(\"-\",pl.lit('0')).cast(pl.Float64))\n",
    "bowling_data = bowling_data.with_columns(pl.col(\"Wkts\").str.replace(\"-\",pl.lit('0')).cast(pl.Float64))\n",
    "bowling_data = bowling_data.with_columns(pl.col(\"Econ\").str.replace(\"-\",pl.lit('0')).cast(pl.Float64))\n",
    "bowling_data"
   ]
  },
  {
   "cell_type": "code",
   "execution_count": 70,
   "metadata": {},
   "outputs": [
    {
     "data": {
      "text/html": [
       "<div><style>\n",
       ".dataframe > thead > tr,\n",
       ".dataframe > tbody > tr {\n",
       "  text-align: right;\n",
       "  white-space: pre-wrap;\n",
       "}\n",
       "</style>\n",
       "<small>shape: (11_221, 6)</small><table border=\"1\" class=\"dataframe\"><thead><tr><th>Player</th><th>Season</th><th>Overs</th><th>Wkts</th><th>Econ</th><th>Country</th></tr><tr><td>str</td><td>str</td><td>f64</td><td>f64</td><td>f64</td><td>str</td></tr></thead><tbody><tr><td>&quot;A Ahmadhel&quot;</td><td>&quot;2019/20&quot;</td><td>10.0</td><td>3.0</td><td>7.5</td><td>&quot;BUL)&quot;</td></tr><tr><td>&quot;A Ahmadhel&quot;</td><td>&quot;2020&quot;</td><td>2.0</td><td>1.0</td><td>11.0</td><td>&quot;BUL)&quot;</td></tr><tr><td>&quot;A Ahmadhel&quot;</td><td>&quot;2020/21&quot;</td><td>2.4</td><td>2.0</td><td>10.12</td><td>&quot;BUL)&quot;</td></tr><tr><td>&quot;A Ahmadhel&quot;</td><td>&quot;2021&quot;</td><td>3.0</td><td>0.0</td><td>10.33</td><td>&quot;BUL)&quot;</td></tr><tr><td>&quot;A Ahmadhel&quot;</td><td>&quot;2023&quot;</td><td>0.0</td><td>0.0</td><td>0.0</td><td>&quot;BUL)&quot;</td></tr><tr><td>&hellip;</td><td>&hellip;</td><td>&hellip;</td><td>&hellip;</td><td>&hellip;</td><td>&hellip;</td></tr><tr><td>&quot;Zuhair Muhammad&quot;</td><td>&quot;2023/24&quot;</td><td>0.0</td><td>0.0</td><td>0.0</td><td>&quot;KSA)&quot;</td></tr><tr><td>&quot;Zulfiqar Ali Shah&quot;</td><td>&quot;2021&quot;</td><td>0.0</td><td>0.0</td><td>0.0</td><td>&quot;PORT)&quot;</td></tr><tr><td>&quot;Zulqarnain Haider&quot;</td><td>&quot;2019&quot;</td><td>10.0</td><td>3.0</td><td>5.3</td><td>&quot;ESP)&quot;</td></tr><tr><td>&quot;Zulqarnain Haider&quot;</td><td>&quot;2019/20&quot;</td><td>3.0</td><td>0.0</td><td>2.33</td><td>&quot;ESP)&quot;</td></tr><tr><td>&quot;Zulqarnain Haider&quot;</td><td>&quot;2022&quot;</td><td>15.0</td><td>5.0</td><td>6.06</td><td>&quot;ESP)&quot;</td></tr></tbody></table></div>"
      ],
      "text/plain": [
       "shape: (11_221, 6)\n",
       "┌───────────────────┬─────────┬───────┬──────┬───────┬─────────┐\n",
       "│ Player            ┆ Season  ┆ Overs ┆ Wkts ┆ Econ  ┆ Country │\n",
       "│ ---               ┆ ---     ┆ ---   ┆ ---  ┆ ---   ┆ ---     │\n",
       "│ str               ┆ str     ┆ f64   ┆ f64  ┆ f64   ┆ str     │\n",
       "╞═══════════════════╪═════════╪═══════╪══════╪═══════╪═════════╡\n",
       "│ A Ahmadhel        ┆ 2019/20 ┆ 10.0  ┆ 3.0  ┆ 7.5   ┆ BUL)    │\n",
       "│ A Ahmadhel        ┆ 2020    ┆ 2.0   ┆ 1.0  ┆ 11.0  ┆ BUL)    │\n",
       "│ A Ahmadhel        ┆ 2020/21 ┆ 2.4   ┆ 2.0  ┆ 10.12 ┆ BUL)    │\n",
       "│ A Ahmadhel        ┆ 2021    ┆ 3.0   ┆ 0.0  ┆ 10.33 ┆ BUL)    │\n",
       "│ A Ahmadhel        ┆ 2023    ┆ 0.0   ┆ 0.0  ┆ 0.0   ┆ BUL)    │\n",
       "│ …                 ┆ …       ┆ …     ┆ …    ┆ …     ┆ …       │\n",
       "│ Zuhair Muhammad   ┆ 2023/24 ┆ 0.0   ┆ 0.0  ┆ 0.0   ┆ KSA)    │\n",
       "│ Zulfiqar Ali Shah ┆ 2021    ┆ 0.0   ┆ 0.0  ┆ 0.0   ┆ PORT)   │\n",
       "│ Zulqarnain Haider ┆ 2019    ┆ 10.0  ┆ 3.0  ┆ 5.3   ┆ ESP)    │\n",
       "│ Zulqarnain Haider ┆ 2019/20 ┆ 3.0   ┆ 0.0  ┆ 2.33  ┆ ESP)    │\n",
       "│ Zulqarnain Haider ┆ 2022    ┆ 15.0  ┆ 5.0  ┆ 6.06  ┆ ESP)    │\n",
       "└───────────────────┴─────────┴───────┴──────┴───────┴─────────┘"
      ]
     },
     "execution_count": 70,
     "metadata": {},
     "output_type": "execute_result"
    }
   ],
   "source": [
    "bowling_data = bowling_data.with_columns(bowling_data['Player'].str.split_exact(' (', n=1).struct.rename_fields(['Player', 'Country']).alias('Player').to_frame().unnest('Player'))\n",
    "bowling_data"
   ]
  },
  {
   "cell_type": "code",
   "execution_count": 71,
   "metadata": {},
   "outputs": [
    {
     "data": {
      "text/html": [
       "<div><style>\n",
       ".dataframe > thead > tr,\n",
       ".dataframe > tbody > tr {\n",
       "  text-align: right;\n",
       "  white-space: pre-wrap;\n",
       "}\n",
       "</style>\n",
       "<small>shape: (11_221, 6)</small><table border=\"1\" class=\"dataframe\"><thead><tr><th>Player</th><th>Season</th><th>Overs</th><th>Wkts</th><th>Econ</th><th>Country</th></tr><tr><td>str</td><td>str</td><td>f64</td><td>f64</td><td>f64</td><td>str</td></tr></thead><tbody><tr><td>&quot;A Ahmadhel&quot;</td><td>&quot;2019/20&quot;</td><td>10.0</td><td>3.0</td><td>7.5</td><td>&quot;BUL&quot;</td></tr><tr><td>&quot;A Ahmadhel&quot;</td><td>&quot;2020&quot;</td><td>2.0</td><td>1.0</td><td>11.0</td><td>&quot;BUL&quot;</td></tr><tr><td>&quot;A Ahmadhel&quot;</td><td>&quot;2020/21&quot;</td><td>2.4</td><td>2.0</td><td>10.12</td><td>&quot;BUL&quot;</td></tr><tr><td>&quot;A Ahmadhel&quot;</td><td>&quot;2021&quot;</td><td>3.0</td><td>0.0</td><td>10.33</td><td>&quot;BUL&quot;</td></tr><tr><td>&quot;A Ahmadhel&quot;</td><td>&quot;2023&quot;</td><td>0.0</td><td>0.0</td><td>0.0</td><td>&quot;BUL&quot;</td></tr><tr><td>&hellip;</td><td>&hellip;</td><td>&hellip;</td><td>&hellip;</td><td>&hellip;</td><td>&hellip;</td></tr><tr><td>&quot;Zuhair Muhammad&quot;</td><td>&quot;2023/24&quot;</td><td>0.0</td><td>0.0</td><td>0.0</td><td>&quot;KSA&quot;</td></tr><tr><td>&quot;Zulfiqar Ali Shah&quot;</td><td>&quot;2021&quot;</td><td>0.0</td><td>0.0</td><td>0.0</td><td>&quot;PORT&quot;</td></tr><tr><td>&quot;Zulqarnain Haider&quot;</td><td>&quot;2019&quot;</td><td>10.0</td><td>3.0</td><td>5.3</td><td>&quot;ESP&quot;</td></tr><tr><td>&quot;Zulqarnain Haider&quot;</td><td>&quot;2019/20&quot;</td><td>3.0</td><td>0.0</td><td>2.33</td><td>&quot;ESP&quot;</td></tr><tr><td>&quot;Zulqarnain Haider&quot;</td><td>&quot;2022&quot;</td><td>15.0</td><td>5.0</td><td>6.06</td><td>&quot;ESP&quot;</td></tr></tbody></table></div>"
      ],
      "text/plain": [
       "shape: (11_221, 6)\n",
       "┌───────────────────┬─────────┬───────┬──────┬───────┬─────────┐\n",
       "│ Player            ┆ Season  ┆ Overs ┆ Wkts ┆ Econ  ┆ Country │\n",
       "│ ---               ┆ ---     ┆ ---   ┆ ---  ┆ ---   ┆ ---     │\n",
       "│ str               ┆ str     ┆ f64   ┆ f64  ┆ f64   ┆ str     │\n",
       "╞═══════════════════╪═════════╪═══════╪══════╪═══════╪═════════╡\n",
       "│ A Ahmadhel        ┆ 2019/20 ┆ 10.0  ┆ 3.0  ┆ 7.5   ┆ BUL     │\n",
       "│ A Ahmadhel        ┆ 2020    ┆ 2.0   ┆ 1.0  ┆ 11.0  ┆ BUL     │\n",
       "│ A Ahmadhel        ┆ 2020/21 ┆ 2.4   ┆ 2.0  ┆ 10.12 ┆ BUL     │\n",
       "│ A Ahmadhel        ┆ 2021    ┆ 3.0   ┆ 0.0  ┆ 10.33 ┆ BUL     │\n",
       "│ A Ahmadhel        ┆ 2023    ┆ 0.0   ┆ 0.0  ┆ 0.0   ┆ BUL     │\n",
       "│ …                 ┆ …       ┆ …     ┆ …    ┆ …     ┆ …       │\n",
       "│ Zuhair Muhammad   ┆ 2023/24 ┆ 0.0   ┆ 0.0  ┆ 0.0   ┆ KSA     │\n",
       "│ Zulfiqar Ali Shah ┆ 2021    ┆ 0.0   ┆ 0.0  ┆ 0.0   ┆ PORT    │\n",
       "│ Zulqarnain Haider ┆ 2019    ┆ 10.0  ┆ 3.0  ┆ 5.3   ┆ ESP     │\n",
       "│ Zulqarnain Haider ┆ 2019/20 ┆ 3.0   ┆ 0.0  ┆ 2.33  ┆ ESP     │\n",
       "│ Zulqarnain Haider ┆ 2022    ┆ 15.0  ┆ 5.0  ┆ 6.06  ┆ ESP     │\n",
       "└───────────────────┴─────────┴───────┴──────┴───────┴─────────┘"
      ]
     },
     "execution_count": 71,
     "metadata": {},
     "output_type": "execute_result"
    }
   ],
   "source": [
    "bowling_data = bowling_data.with_columns(bowling_data['Country'].str.replace(r'\\)', ''))\n",
    "bowling_data"
   ]
  },
  {
   "cell_type": "code",
   "execution_count": 72,
   "metadata": {},
   "outputs": [
    {
     "data": {
      "text/html": [
       "<div><style>\n",
       ".dataframe > thead > tr,\n",
       ".dataframe > tbody > tr {\n",
       "  text-align: right;\n",
       "  white-space: pre-wrap;\n",
       "}\n",
       "</style>\n",
       "<small>shape: (11_221, 6)</small><table border=\"1\" class=\"dataframe\"><thead><tr><th>Player</th><th>Season</th><th>Overs</th><th>Wkts</th><th>Econ</th><th>Country</th></tr><tr><td>str</td><td>str</td><td>f64</td><td>f64</td><td>f64</td><td>str</td></tr></thead><tbody><tr><td>&quot;A Ahmadhel&quot;</td><td>&quot;2019/20&quot;</td><td>10.0</td><td>3.0</td><td>7.5</td><td>&quot;BUL&quot;</td></tr><tr><td>&quot;A Ahmadhel&quot;</td><td>&quot;2020&quot;</td><td>12.0</td><td>4.0</td><td>9.25</td><td>&quot;BUL&quot;</td></tr><tr><td>&quot;A Ahmadhel&quot;</td><td>&quot;2020/21&quot;</td><td>14.4</td><td>6.0</td><td>9.54</td><td>&quot;BUL&quot;</td></tr><tr><td>&quot;A Ahmadhel&quot;</td><td>&quot;2021&quot;</td><td>17.4</td><td>6.0</td><td>9.7375</td><td>&quot;BUL&quot;</td></tr><tr><td>&quot;A Ahmadhel&quot;</td><td>&quot;2023&quot;</td><td>17.4</td><td>6.0</td><td>7.79</td><td>&quot;BUL&quot;</td></tr><tr><td>&hellip;</td><td>&hellip;</td><td>&hellip;</td><td>&hellip;</td><td>&hellip;</td><td>&hellip;</td></tr><tr><td>&quot;Zuhair Muhammad&quot;</td><td>&quot;2023/24&quot;</td><td>0.0</td><td>0.0</td><td>0.0</td><td>&quot;KSA&quot;</td></tr><tr><td>&quot;Zulfiqar Ali Shah&quot;</td><td>&quot;2021&quot;</td><td>0.0</td><td>0.0</td><td>0.0</td><td>&quot;PORT&quot;</td></tr><tr><td>&quot;Zulqarnain Haider&quot;</td><td>&quot;2019&quot;</td><td>10.0</td><td>3.0</td><td>5.3</td><td>&quot;ESP&quot;</td></tr><tr><td>&quot;Zulqarnain Haider&quot;</td><td>&quot;2019/20&quot;</td><td>13.0</td><td>3.0</td><td>3.815</td><td>&quot;ESP&quot;</td></tr><tr><td>&quot;Zulqarnain Haider&quot;</td><td>&quot;2022&quot;</td><td>28.0</td><td>8.0</td><td>4.563333</td><td>&quot;ESP&quot;</td></tr></tbody></table></div>"
      ],
      "text/plain": [
       "shape: (11_221, 6)\n",
       "┌───────────────────┬─────────┬───────┬──────┬──────────┬─────────┐\n",
       "│ Player            ┆ Season  ┆ Overs ┆ Wkts ┆ Econ     ┆ Country │\n",
       "│ ---               ┆ ---     ┆ ---   ┆ ---  ┆ ---      ┆ ---     │\n",
       "│ str               ┆ str     ┆ f64   ┆ f64  ┆ f64      ┆ str     │\n",
       "╞═══════════════════╪═════════╪═══════╪══════╪══════════╪═════════╡\n",
       "│ A Ahmadhel        ┆ 2019/20 ┆ 10.0  ┆ 3.0  ┆ 7.5      ┆ BUL     │\n",
       "│ A Ahmadhel        ┆ 2020    ┆ 12.0  ┆ 4.0  ┆ 9.25     ┆ BUL     │\n",
       "│ A Ahmadhel        ┆ 2020/21 ┆ 14.4  ┆ 6.0  ┆ 9.54     ┆ BUL     │\n",
       "│ A Ahmadhel        ┆ 2021    ┆ 17.4  ┆ 6.0  ┆ 9.7375   ┆ BUL     │\n",
       "│ A Ahmadhel        ┆ 2023    ┆ 17.4  ┆ 6.0  ┆ 7.79     ┆ BUL     │\n",
       "│ …                 ┆ …       ┆ …     ┆ …    ┆ …        ┆ …       │\n",
       "│ Zuhair Muhammad   ┆ 2023/24 ┆ 0.0   ┆ 0.0  ┆ 0.0      ┆ KSA     │\n",
       "│ Zulfiqar Ali Shah ┆ 2021    ┆ 0.0   ┆ 0.0  ┆ 0.0      ┆ PORT    │\n",
       "│ Zulqarnain Haider ┆ 2019    ┆ 10.0  ┆ 3.0  ┆ 5.3      ┆ ESP     │\n",
       "│ Zulqarnain Haider ┆ 2019/20 ┆ 13.0  ┆ 3.0  ┆ 3.815    ┆ ESP     │\n",
       "│ Zulqarnain Haider ┆ 2022    ┆ 28.0  ┆ 8.0  ┆ 4.563333 ┆ ESP     │\n",
       "└───────────────────┴─────────┴───────┴──────┴──────────┴─────────┘"
      ]
     },
     "execution_count": 72,
     "metadata": {},
     "output_type": "execute_result"
    }
   ],
   "source": [
    "bowling_data = bowling_data.with_columns(\n",
    "    pl.col(\"Overs\").cum_sum().over([\"Player\",\"Country\"]),\n",
    "    pl.col(\"Wkts\").cum_sum().over([\"Player\",\"Country\"]),\n",
    "    pl.col(\"Econ\").cum_sum().over([\"Player\",\"Country\"]) / pl.col(\"Overs\").cum_count().over([\"Player\",\"Country\"])\n",
    ")\n",
    "bowling_data"
   ]
  },
  {
   "cell_type": "code",
   "execution_count": 73,
   "metadata": {},
   "outputs": [],
   "source": [
    "country_codes = {\n",
    "    'LES': 'Lesotho',\n",
    "    'BUL': 'Bulgaria',\n",
    "    'VAN': 'Vanuatu',\n",
    "    'ROM': 'Romania',\n",
    "    'Aut': 'Austria',\n",
    "    'COK': 'Cook Islands',\n",
    "    'Fran': 'France',\n",
    "    'SRB': 'Serbia',\n",
    "    'PAK': 'Pakistan',\n",
    "    'HUN': 'Hungary',\n",
    "    'CYP': 'Cyprus',\n",
    "    'Fiji': 'Fiji',\n",
    "    'FIN': 'Finland',\n",
    "    'EST': 'Estonia',\n",
    "    'CHN': 'China',\n",
    "    'GRC': 'Greece',\n",
    "    'CAM': 'Cambodia',\n",
    "    'GUE': 'Guernsey',\n",
    "    'SEY': 'Seychelles',\n",
    "    'JPN': 'Japan',\n",
    "    'TAN': 'Tanzania',\n",
    "    'JER': 'Jersey',\n",
    "    'QAT': 'Qatar',\n",
    "    'ENG': 'England',\n",
    "    'UGA': 'Uganda',\n",
    "    'BER': 'Bermuda',\n",
    "    'CZK-R': 'Czech Republic',\n",
    "    'CAY': 'Cayman Islands',\n",
    "    'IRE': 'Ireland',\n",
    "    'Mali': 'Mali',\n",
    "    'BRA': 'Brazil',\n",
    "    'SUI': 'Switzerland',\n",
    "    'Peru': 'Peru',\n",
    "    'Mex': 'Mexico',\n",
    "    'MOZ': 'Mozambique',\n",
    "    'Samoa': 'Samoa',\n",
    "    'HKG': 'Hong Kong',\n",
    "    'BAN': 'Bangladesh',\n",
    "    'SL': 'Sri Lanka',\n",
    "    'PNG': 'Papua New Guinea',\n",
    "    'ZIM': 'Zimbabwe',\n",
    "    'GHA': 'Ghana',\n",
    "    'SWZ': 'Swaziland',\n",
    "    'MYAN': 'Myanmar',\n",
    "    'IND': 'India',\n",
    "    'USA': 'United States of America',\n",
    "    'NEP': 'Nepal',\n",
    "    'AFG': 'Afghanistan',\n",
    "    'PAN': 'Panama',\n",
    "    'NGA': 'Nigeria',\n",
    "    'SLE': 'Sierra Leone',\n",
    "    'ESP': 'Spain',\n",
    "    'Bhm': 'Bahamas',\n",
    "    'TKY': 'Turkey',\n",
    "    'MWI': 'Malawi',\n",
    "    'WI': 'West Indies',\n",
    "    'IOM': 'Isle of Man',\n",
    "    'THA': 'Thailand',\n",
    "    'SWA': 'Swaziland',\n",
    "    'SKOR': 'South Korea',\n",
    "    'GMB': 'Gambia',\n",
    "    'ISR': 'Israel',\n",
    "    'KUW': 'Kuwait',\n",
    "    'Belg': 'Belgium',\n",
    "    'GER': 'Germany',\n",
    "    'ITA': 'Italy',\n",
    "    'CAN': 'Canada',\n",
    "    'MDV': 'Maldives',\n",
    "    'Blz': 'Belize',\n",
    "    'DEN': 'Denmark',\n",
    "    'INA': 'Indonesia',\n",
    "    'KENYA': 'Kenya',\n",
    "    'LUX': 'Luxembourg',\n",
    "    'STHEL': 'Saint Helena',\n",
    "    'BHR': 'Bahrain',\n",
    "    'KSA': 'Saudi Arabia',\n",
    "    'MLT': 'Malta',\n",
    "    'Arg': 'Argentina',\n",
    "    'MNG': 'Mongolia',\n",
    "    'AUS': 'Australia',\n",
    "    'GIBR': 'Gibraltar',\n",
    "    'SGP': 'Singapore',\n",
    "    'Chile': 'Chile',\n",
    "    'UAE': 'United Arab Emirates',\n",
    "    'NZ': 'New Zealand',\n",
    "    'SCOT': 'Scotland',\n",
    "    'BHU': 'Bhutan',\n",
    "    'MAS': 'Malaysia',\n",
    "    'BOT': 'Botswana',\n",
    "    'CRC': 'Costa Rica',\n",
    "    'PHI': 'Philippines',\n",
    "    'NAM': 'Namibia',\n",
    "    'RWN': 'Rwanda',\n",
    "    'OMA': 'Oman',\n",
    "    'NOR': 'Norway',\n",
    "    'CRT': 'Croatia',\n",
    "    'SWE': 'Sweden',\n",
    "    'Iran': 'Iran',\n",
    "    'PORT': 'Portugal',\n",
    "    'NED': 'Netherlands',\n",
    "    'SA': 'South Africa',\n",
    "    'SVN': 'Slovenia',\n",
    "    '1': 'Miscellaneous Country 1',\n",
    "    '2': 'Miscellaneous Country 2',\n",
    "    '3': 'Miscellaneous Country 3',\n",
    "    'ICC': 'International Cricket Council',\n",
    "    'World': 'World XI',\n",
    "    'ICC/PAK': 'ICC Pakistan',\n",
    "    'ICC/SL': 'ICC Sri Lanka',\n",
    "    'ICC/IND': 'ICC India',\n",
    "    'ICC/NEP': 'ICC Nepal',\n",
    "    'BAN/ICC': 'Bangladesh ICC',\n",
    "    'AFG/ICC': 'Afghanistan ICC',\n",
    "    'SL/World': 'Sri Lanka World',\n",
    "    'SA/World': 'South Africa World',\n",
    "    'AUS/World': 'Australia World',\n",
    "    'BAN/World': 'Bangladesh World',\n",
    "    'WI/World': 'West Indies World',\n",
    "}\n",
    "icc_world = {\n",
    "    'ICC': 'International Cricket Council',\n",
    "    'World': 'World XI',\n",
    "    'ICC/PAK': 'ICC Pakistan',\n",
    "    'ICC/SL': 'ICC Sri Lanka',\n",
    "    'ICC/IND': 'ICC India',\n",
    "    'ICC/NEP': 'ICC Nepal',\n",
    "    'BAN/ICC': 'Bangladesh ICC',\n",
    "    'AFG/ICC': 'Afghanistan ICC',\n",
    "    'SL/World': 'Sri Lanka World',\n",
    "    'SA/World': 'South Africa World',\n",
    "    'AUS/World': 'Australia World',\n",
    "    'BAN/World': 'Bangladesh World',\n",
    "    'WI/World': 'West Indies World',\n",
    "}\n",
    "outlier_countries = {\n",
    "    '1': 'Miscellaneous Country 1',\n",
    "    '2': 'Miscellaneous Country 2',\n",
    "    '3': 'Miscellaneous Country 3',\n",
    "}\n",
    "filtered_countries = {code: country for code, country in country_codes.items() if code not in icc_world and code not in outlier_countries}"
   ]
  },
  {
   "cell_type": "code",
   "execution_count": 75,
   "metadata": {},
   "outputs": [
    {
     "data": {
      "text/html": [
       "<div><style>\n",
       ".dataframe > thead > tr,\n",
       ".dataframe > tbody > tr {\n",
       "  text-align: right;\n",
       "  white-space: pre-wrap;\n",
       "}\n",
       "</style>\n",
       "<small>shape: (11_176, 6)</small><table border=\"1\" class=\"dataframe\"><thead><tr><th>Player</th><th>Season</th><th>Overs</th><th>Wkts</th><th>Econ</th><th>Country</th></tr><tr><td>str</td><td>str</td><td>f64</td><td>f64</td><td>f64</td><td>str</td></tr></thead><tbody><tr><td>&quot;A Ahmadhel&quot;</td><td>&quot;2019/20&quot;</td><td>10.0</td><td>3.0</td><td>7.5</td><td>&quot;BUL&quot;</td></tr><tr><td>&quot;A Ahmadhel&quot;</td><td>&quot;2020&quot;</td><td>12.0</td><td>4.0</td><td>9.25</td><td>&quot;BUL&quot;</td></tr><tr><td>&quot;A Ahmadhel&quot;</td><td>&quot;2020/21&quot;</td><td>14.4</td><td>6.0</td><td>9.54</td><td>&quot;BUL&quot;</td></tr><tr><td>&quot;A Ahmadhel&quot;</td><td>&quot;2021&quot;</td><td>17.4</td><td>6.0</td><td>9.7375</td><td>&quot;BUL&quot;</td></tr><tr><td>&quot;A Ahmadhel&quot;</td><td>&quot;2023&quot;</td><td>17.4</td><td>6.0</td><td>7.79</td><td>&quot;BUL&quot;</td></tr><tr><td>&hellip;</td><td>&hellip;</td><td>&hellip;</td><td>&hellip;</td><td>&hellip;</td><td>&hellip;</td></tr><tr><td>&quot;Zuhair Muhammad&quot;</td><td>&quot;2023/24&quot;</td><td>0.0</td><td>0.0</td><td>0.0</td><td>&quot;KSA&quot;</td></tr><tr><td>&quot;Zulfiqar Ali Shah&quot;</td><td>&quot;2021&quot;</td><td>0.0</td><td>0.0</td><td>0.0</td><td>&quot;PORT&quot;</td></tr><tr><td>&quot;Zulqarnain Haider&quot;</td><td>&quot;2019&quot;</td><td>10.0</td><td>3.0</td><td>5.3</td><td>&quot;ESP&quot;</td></tr><tr><td>&quot;Zulqarnain Haider&quot;</td><td>&quot;2019/20&quot;</td><td>13.0</td><td>3.0</td><td>3.815</td><td>&quot;ESP&quot;</td></tr><tr><td>&quot;Zulqarnain Haider&quot;</td><td>&quot;2022&quot;</td><td>28.0</td><td>8.0</td><td>4.563333</td><td>&quot;ESP&quot;</td></tr></tbody></table></div>"
      ],
      "text/plain": [
       "shape: (11_176, 6)\n",
       "┌───────────────────┬─────────┬───────┬──────┬──────────┬─────────┐\n",
       "│ Player            ┆ Season  ┆ Overs ┆ Wkts ┆ Econ     ┆ Country │\n",
       "│ ---               ┆ ---     ┆ ---   ┆ ---  ┆ ---      ┆ ---     │\n",
       "│ str               ┆ str     ┆ f64   ┆ f64  ┆ f64      ┆ str     │\n",
       "╞═══════════════════╪═════════╪═══════╪══════╪══════════╪═════════╡\n",
       "│ A Ahmadhel        ┆ 2019/20 ┆ 10.0  ┆ 3.0  ┆ 7.5      ┆ BUL     │\n",
       "│ A Ahmadhel        ┆ 2020    ┆ 12.0  ┆ 4.0  ┆ 9.25     ┆ BUL     │\n",
       "│ A Ahmadhel        ┆ 2020/21 ┆ 14.4  ┆ 6.0  ┆ 9.54     ┆ BUL     │\n",
       "│ A Ahmadhel        ┆ 2021    ┆ 17.4  ┆ 6.0  ┆ 9.7375   ┆ BUL     │\n",
       "│ A Ahmadhel        ┆ 2023    ┆ 17.4  ┆ 6.0  ┆ 7.79     ┆ BUL     │\n",
       "│ …                 ┆ …       ┆ …     ┆ …    ┆ …        ┆ …       │\n",
       "│ Zuhair Muhammad   ┆ 2023/24 ┆ 0.0   ┆ 0.0  ┆ 0.0      ┆ KSA     │\n",
       "│ Zulfiqar Ali Shah ┆ 2021    ┆ 0.0   ┆ 0.0  ┆ 0.0      ┆ PORT    │\n",
       "│ Zulqarnain Haider ┆ 2019    ┆ 10.0  ┆ 3.0  ┆ 5.3      ┆ ESP     │\n",
       "│ Zulqarnain Haider ┆ 2019/20 ┆ 13.0  ┆ 3.0  ┆ 3.815    ┆ ESP     │\n",
       "│ Zulqarnain Haider ┆ 2022    ┆ 28.0  ┆ 8.0  ┆ 4.563333 ┆ ESP     │\n",
       "└───────────────────┴─────────┴───────┴──────┴──────────┴─────────┘"
      ]
     },
     "execution_count": 75,
     "metadata": {},
     "output_type": "execute_result"
    }
   ],
   "source": [
    "bowling_data = bowling_data.filter(pl.col(\"Country\").is_in(list(filtered_countries.keys())))\n",
    "bowling_data"
   ]
  },
  {
   "cell_type": "code",
   "execution_count": 76,
   "metadata": {},
   "outputs": [
    {
     "data": {
      "text/html": [
       "<div><style>\n",
       ".dataframe > thead > tr,\n",
       ".dataframe > tbody > tr {\n",
       "  text-align: right;\n",
       "  white-space: pre-wrap;\n",
       "}\n",
       "</style>\n",
       "<small>shape: (11_176, 6)</small><table border=\"1\" class=\"dataframe\"><thead><tr><th>Player</th><th>Season</th><th>Overs</th><th>Wkts</th><th>Econ</th><th>Country</th></tr><tr><td>str</td><td>str</td><td>f64</td><td>f64</td><td>f64</td><td>str</td></tr></thead><tbody><tr><td>&quot;A Ahmadhel&quot;</td><td>&quot;2019/20&quot;</td><td>10.0</td><td>3.0</td><td>7.5</td><td>&quot;Bulgaria&quot;</td></tr><tr><td>&quot;A Ahmadhel&quot;</td><td>&quot;2020&quot;</td><td>12.0</td><td>4.0</td><td>9.25</td><td>&quot;Bulgaria&quot;</td></tr><tr><td>&quot;A Ahmadhel&quot;</td><td>&quot;2020/21&quot;</td><td>14.4</td><td>6.0</td><td>9.54</td><td>&quot;Bulgaria&quot;</td></tr><tr><td>&quot;A Ahmadhel&quot;</td><td>&quot;2021&quot;</td><td>17.4</td><td>6.0</td><td>9.7375</td><td>&quot;Bulgaria&quot;</td></tr><tr><td>&quot;A Ahmadhel&quot;</td><td>&quot;2023&quot;</td><td>17.4</td><td>6.0</td><td>7.79</td><td>&quot;Bulgaria&quot;</td></tr><tr><td>&hellip;</td><td>&hellip;</td><td>&hellip;</td><td>&hellip;</td><td>&hellip;</td><td>&hellip;</td></tr><tr><td>&quot;Zuhair Muhammad&quot;</td><td>&quot;2023/24&quot;</td><td>0.0</td><td>0.0</td><td>0.0</td><td>&quot;Saudi Arabia&quot;</td></tr><tr><td>&quot;Zulfiqar Ali Shah&quot;</td><td>&quot;2021&quot;</td><td>0.0</td><td>0.0</td><td>0.0</td><td>&quot;Portugal&quot;</td></tr><tr><td>&quot;Zulqarnain Haider&quot;</td><td>&quot;2019&quot;</td><td>10.0</td><td>3.0</td><td>5.3</td><td>&quot;Spain&quot;</td></tr><tr><td>&quot;Zulqarnain Haider&quot;</td><td>&quot;2019/20&quot;</td><td>13.0</td><td>3.0</td><td>3.815</td><td>&quot;Spain&quot;</td></tr><tr><td>&quot;Zulqarnain Haider&quot;</td><td>&quot;2022&quot;</td><td>28.0</td><td>8.0</td><td>4.563333</td><td>&quot;Spain&quot;</td></tr></tbody></table></div>"
      ],
      "text/plain": [
       "shape: (11_176, 6)\n",
       "┌───────────────────┬─────────┬───────┬──────┬──────────┬──────────────┐\n",
       "│ Player            ┆ Season  ┆ Overs ┆ Wkts ┆ Econ     ┆ Country      │\n",
       "│ ---               ┆ ---     ┆ ---   ┆ ---  ┆ ---      ┆ ---          │\n",
       "│ str               ┆ str     ┆ f64   ┆ f64  ┆ f64      ┆ str          │\n",
       "╞═══════════════════╪═════════╪═══════╪══════╪══════════╪══════════════╡\n",
       "│ A Ahmadhel        ┆ 2019/20 ┆ 10.0  ┆ 3.0  ┆ 7.5      ┆ Bulgaria     │\n",
       "│ A Ahmadhel        ┆ 2020    ┆ 12.0  ┆ 4.0  ┆ 9.25     ┆ Bulgaria     │\n",
       "│ A Ahmadhel        ┆ 2020/21 ┆ 14.4  ┆ 6.0  ┆ 9.54     ┆ Bulgaria     │\n",
       "│ A Ahmadhel        ┆ 2021    ┆ 17.4  ┆ 6.0  ┆ 9.7375   ┆ Bulgaria     │\n",
       "│ A Ahmadhel        ┆ 2023    ┆ 17.4  ┆ 6.0  ┆ 7.79     ┆ Bulgaria     │\n",
       "│ …                 ┆ …       ┆ …     ┆ …    ┆ …        ┆ …            │\n",
       "│ Zuhair Muhammad   ┆ 2023/24 ┆ 0.0   ┆ 0.0  ┆ 0.0      ┆ Saudi Arabia │\n",
       "│ Zulfiqar Ali Shah ┆ 2021    ┆ 0.0   ┆ 0.0  ┆ 0.0      ┆ Portugal     │\n",
       "│ Zulqarnain Haider ┆ 2019    ┆ 10.0  ┆ 3.0  ┆ 5.3      ┆ Spain        │\n",
       "│ Zulqarnain Haider ┆ 2019/20 ┆ 13.0  ┆ 3.0  ┆ 3.815    ┆ Spain        │\n",
       "│ Zulqarnain Haider ┆ 2022    ┆ 28.0  ┆ 8.0  ┆ 4.563333 ┆ Spain        │\n",
       "└───────────────────┴─────────┴───────┴──────┴──────────┴──────────────┘"
      ]
     },
     "execution_count": 76,
     "metadata": {},
     "output_type": "execute_result"
    }
   ],
   "source": [
    "bowling_data = bowling_data.with_columns(bowling_data['Country'].replace(filtered_countries))\n",
    "bowling_data"
   ]
  },
  {
   "cell_type": "code",
   "execution_count": 77,
   "metadata": {},
   "outputs": [
    {
     "data": {
      "text/html": [
       "<div><style>\n",
       ".dataframe > thead > tr,\n",
       ".dataframe > tbody > tr {\n",
       "  text-align: right;\n",
       "  white-space: pre-wrap;\n",
       "}\n",
       "</style>\n",
       "<small>shape: (5_722, 3)</small><table border=\"1\" class=\"dataframe\"><thead><tr><th>Player</th><th>Country</th><th>player_id</th></tr><tr><td>str</td><td>str</td><td>str</td></tr></thead><tbody><tr><td>&quot;E Frimpong&quot;</td><td>&quot;Ghana&quot;</td><td>&quot;3c13fc3b&quot;</td></tr><tr><td>&quot;L Rika&quot;</td><td>&quot;Fiji&quot;</td><td>&quot;fe12944e&quot;</td></tr><tr><td>&quot;B George&quot;</td><td>&quot;Malta&quot;</td><td>&quot;1bdbf53b&quot;</td></tr><tr><td>&quot;WB Rankin&quot;</td><td>&quot;Ireland&quot;</td><td>&quot;29b89ae8&quot;</td></tr><tr><td>&quot;V Phiri&quot;</td><td>&quot;Malawi&quot;</td><td>&quot;8ffa1b3c&quot;</td></tr><tr><td>&hellip;</td><td>&hellip;</td><td>&hellip;</td></tr><tr><td>&quot;B Frank&quot;</td><td>&quot;Nigeria&quot;</td><td>&quot;040206a2&quot;</td></tr><tr><td>&quot;XM Marshall&quot;</td><td>&quot;West Indies&quot;</td><td>&quot;ffb504b1&quot;</td></tr><tr><td>&quot;T Vanuarua&quot;</td><td>&quot;Cook Islands&quot;</td><td>&quot;1f8b4fec&quot;</td></tr><tr><td>&quot;Nary Thapa&quot;</td><td>&quot;Nepal&quot;</td><td>&quot;d24e69f5&quot;</td></tr><tr><td>&quot;P Maya&quot;</td><td>&quot;Thailand&quot;</td><td>&quot;72eada4c&quot;</td></tr></tbody></table></div>"
      ],
      "text/plain": [
       "shape: (5_722, 3)\n",
       "┌─────────────┬──────────────┬───────────┐\n",
       "│ Player      ┆ Country      ┆ player_id │\n",
       "│ ---         ┆ ---          ┆ ---       │\n",
       "│ str         ┆ str          ┆ str       │\n",
       "╞═════════════╪══════════════╪═══════════╡\n",
       "│ E Frimpong  ┆ Ghana        ┆ 3c13fc3b  │\n",
       "│ L Rika      ┆ Fiji         ┆ fe12944e  │\n",
       "│ B George    ┆ Malta        ┆ 1bdbf53b  │\n",
       "│ WB Rankin   ┆ Ireland      ┆ 29b89ae8  │\n",
       "│ V Phiri     ┆ Malawi       ┆ 8ffa1b3c  │\n",
       "│ …           ┆ …            ┆ …         │\n",
       "│ B Frank     ┆ Nigeria      ┆ 040206a2  │\n",
       "│ XM Marshall ┆ West Indies  ┆ ffb504b1  │\n",
       "│ T Vanuarua  ┆ Cook Islands ┆ 1f8b4fec  │\n",
       "│ Nary Thapa  ┆ Nepal        ┆ d24e69f5  │\n",
       "│ P Maya      ┆ Thailand     ┆ 72eada4c  │\n",
       "└─────────────┴──────────────┴───────────┘"
      ]
     },
     "execution_count": 77,
     "metadata": {},
     "output_type": "execute_result"
    }
   ],
   "source": [
    "players_data = pl.read_csv(r'D:\\github\\localt20\\processedData\\Players.csv').rename({\"player\": \"Player\",\"country\":\"Country\"})\n",
    "players_data"
   ]
  },
  {
   "cell_type": "code",
   "execution_count": 78,
   "metadata": {},
   "outputs": [
    {
     "data": {
      "text/html": [
       "<div><style>\n",
       ".dataframe > thead > tr,\n",
       ".dataframe > tbody > tr {\n",
       "  text-align: right;\n",
       "  white-space: pre-wrap;\n",
       "}\n",
       "</style>\n",
       "<small>shape: (10_100, 7)</small><table border=\"1\" class=\"dataframe\"><thead><tr><th>Player</th><th>Season</th><th>Overs</th><th>Wkts</th><th>Econ</th><th>Country</th><th>player_id</th></tr><tr><td>str</td><td>str</td><td>f64</td><td>f64</td><td>f64</td><td>str</td><td>str</td></tr></thead><tbody><tr><td>&quot;A Andrews&quot;</td><td>&quot;2021/22&quot;</td><td>10.0</td><td>4.0</td><td>6.1</td><td>&quot;Switzerland&quot;</td><td>&quot;1d45c01a&quot;</td></tr><tr><td>&quot;A Andrews&quot;</td><td>&quot;2022&quot;</td><td>11.0</td><td>4.0</td><td>13.55</td><td>&quot;Switzerland&quot;</td><td>&quot;1d45c01a&quot;</td></tr><tr><td>&quot;A Ashok&quot;</td><td>&quot;2023&quot;</td><td>4.0</td><td>1.0</td><td>7.0</td><td>&quot;New Zealand&quot;</td><td>&quot;321be7e3&quot;</td></tr><tr><td>&quot;A Athanaze&quot;</td><td>&quot;2024&quot;</td><td>0.0</td><td>0.0</td><td>0.0</td><td>&quot;West Indies&quot;</td><td>&quot;58c2fac4&quot;</td></tr><tr><td>&quot;A Balbirnie&quot;</td><td>&quot;2015&quot;</td><td>0.0</td><td>0.0</td><td>0.0</td><td>&quot;Ireland&quot;</td><td>&quot;6ef13460&quot;</td></tr><tr><td>&hellip;</td><td>&hellip;</td><td>&hellip;</td><td>&hellip;</td><td>&hellip;</td><td>&hellip;</td><td>&hellip;</td></tr><tr><td>&quot;Zuhaib Zubair&quot;</td><td>&quot;2023/24&quot;</td><td>6.0</td><td>0.0</td><td>8.0</td><td>&quot;United Arab Emirates&quot;</td><td>&quot;9124aa4c&quot;</td></tr><tr><td>&quot;Zuhair Muhammad&quot;</td><td>&quot;2023/24&quot;</td><td>0.0</td><td>0.0</td><td>0.0</td><td>&quot;Saudi Arabia&quot;</td><td>&quot;22ae4973&quot;</td></tr><tr><td>&quot;Zulqarnain Haider&quot;</td><td>&quot;2019&quot;</td><td>10.0</td><td>3.0</td><td>5.3</td><td>&quot;Spain&quot;</td><td>&quot;2d46e8ed&quot;</td></tr><tr><td>&quot;Zulqarnain Haider&quot;</td><td>&quot;2019/20&quot;</td><td>13.0</td><td>3.0</td><td>3.815</td><td>&quot;Spain&quot;</td><td>&quot;2d46e8ed&quot;</td></tr><tr><td>&quot;Zulqarnain Haider&quot;</td><td>&quot;2022&quot;</td><td>28.0</td><td>8.0</td><td>4.563333</td><td>&quot;Spain&quot;</td><td>&quot;2d46e8ed&quot;</td></tr></tbody></table></div>"
      ],
      "text/plain": [
       "shape: (10_100, 7)\n",
       "┌───────────────────┬─────────┬───────┬──────┬──────────┬──────────────────────┬───────────┐\n",
       "│ Player            ┆ Season  ┆ Overs ┆ Wkts ┆ Econ     ┆ Country              ┆ player_id │\n",
       "│ ---               ┆ ---     ┆ ---   ┆ ---  ┆ ---      ┆ ---                  ┆ ---       │\n",
       "│ str               ┆ str     ┆ f64   ┆ f64  ┆ f64      ┆ str                  ┆ str       │\n",
       "╞═══════════════════╪═════════╪═══════╪══════╪══════════╪══════════════════════╪═══════════╡\n",
       "│ A Andrews         ┆ 2021/22 ┆ 10.0  ┆ 4.0  ┆ 6.1      ┆ Switzerland          ┆ 1d45c01a  │\n",
       "│ A Andrews         ┆ 2022    ┆ 11.0  ┆ 4.0  ┆ 13.55    ┆ Switzerland          ┆ 1d45c01a  │\n",
       "│ A Ashok           ┆ 2023    ┆ 4.0   ┆ 1.0  ┆ 7.0      ┆ New Zealand          ┆ 321be7e3  │\n",
       "│ A Athanaze        ┆ 2024    ┆ 0.0   ┆ 0.0  ┆ 0.0      ┆ West Indies          ┆ 58c2fac4  │\n",
       "│ A Balbirnie       ┆ 2015    ┆ 0.0   ┆ 0.0  ┆ 0.0      ┆ Ireland              ┆ 6ef13460  │\n",
       "│ …                 ┆ …       ┆ …     ┆ …    ┆ …        ┆ …                    ┆ …         │\n",
       "│ Zuhaib Zubair     ┆ 2023/24 ┆ 6.0   ┆ 0.0  ┆ 8.0      ┆ United Arab Emirates ┆ 9124aa4c  │\n",
       "│ Zuhair Muhammad   ┆ 2023/24 ┆ 0.0   ┆ 0.0  ┆ 0.0      ┆ Saudi Arabia         ┆ 22ae4973  │\n",
       "│ Zulqarnain Haider ┆ 2019    ┆ 10.0  ┆ 3.0  ┆ 5.3      ┆ Spain                ┆ 2d46e8ed  │\n",
       "│ Zulqarnain Haider ┆ 2019/20 ┆ 13.0  ┆ 3.0  ┆ 3.815    ┆ Spain                ┆ 2d46e8ed  │\n",
       "│ Zulqarnain Haider ┆ 2022    ┆ 28.0  ┆ 8.0  ┆ 4.563333 ┆ Spain                ┆ 2d46e8ed  │\n",
       "└───────────────────┴─────────┴───────┴──────┴──────────┴──────────────────────┴───────────┘"
      ]
     },
     "execution_count": 78,
     "metadata": {},
     "output_type": "execute_result"
    }
   ],
   "source": [
    "bowling_data = bowling_data.join(players_data, on=['Player','Country'], how='inner')\n",
    "bowling_data"
   ]
  },
  {
   "cell_type": "code",
   "execution_count": 79,
   "metadata": {},
   "outputs": [],
   "source": [
    "bowling_data.write_csv(r'D:\\github\\localt20\\processedData\\bowling.csv')"
   ]
  },
  {
   "cell_type": "code",
   "execution_count": null,
   "metadata": {},
   "outputs": [],
   "source": []
  }
 ],
 "metadata": {
  "kernelspec": {
   "display_name": "eda",
   "language": "python",
   "name": "python3"
  },
  "language_info": {
   "codemirror_mode": {
    "name": "ipython",
    "version": 3
   },
   "file_extension": ".py",
   "mimetype": "text/x-python",
   "name": "python",
   "nbconvert_exporter": "python",
   "pygments_lexer": "ipython3",
   "version": "3.8.19"
  }
 },
 "nbformat": 4,
 "nbformat_minor": 2
}
